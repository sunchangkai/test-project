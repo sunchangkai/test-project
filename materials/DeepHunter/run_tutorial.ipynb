{
 "cells": [
  {
   "cell_type": "markdown",
   "source": [
    "# Import necessary package"
   ],
   "metadata": {
    "collapsed": false,
    "pycharm": {
     "name": "#%% md\n"
    }
   }
  },
  {
   "cell_type": "code",
   "execution_count": 1,
   "outputs": [],
   "source": [
    "from main import DeepHuner\n",
    "from utils.utils import decode_yaml"
   ],
   "metadata": {
    "collapsed": false,
    "pycharm": {
     "name": "#%%\n"
    }
   }
  },
  {
   "cell_type": "markdown",
   "source": [
    "# Set Necessary Parameters"
   ],
   "metadata": {
    "collapsed": false,
    "pycharm": {
     "name": "#%% md\n"
    }
   }
  },
  {
   "cell_type": "code",
   "execution_count": 2,
   "outputs": [
    {
     "name": "stdout",
     "output_type": "stream",
     "text": [
      "test-demo-fixed-all-cate has been created!\n",
      "saved folder has been created\n",
      "fail_set folder has been created\n"
     ]
    },
    {
     "name": "stderr",
     "output_type": "stream",
     "text": [
      "2022-11-10 18:09:00.189525: I tensorflow/core/platform/cpu_feature_guard.cc:193] This TensorFlow binary is optimized with oneAPI Deep Neural Network Library (oneDNN) to use the following CPU instructions in performance-critical operations:  AVX2 FMA\n",
      "To enable them in other operations, rebuild TensorFlow with the appropriate compiler flags.\n"
     ]
    },
    {
     "name": "stdout",
     "output_type": "stream",
     "text": [
      "WARNING:tensorflow:No training configuration found in the save file, so the model was *not* compiled. Compile it manually.\n"
     ]
    },
    {
     "name": "stderr",
     "output_type": "stream",
     "text": [
      "2022-11-10 18:09:00,972 - test-demo-fixed-all-cate - INFO - dict_keys(['rotate_zero', 'p_or_g']) has been chosen\n",
      "2022-11-10 18:09:00,974 - test-demo-fixed-all-cate - INFO - new image has been created: ref_path: ./test-demo-fixed-all-cate/saved/ref-0-1668074940.973562.png, init_path: ./data/train_part/0/img_train_2205.png, state: 1\n",
      "2022-11-10 18:09:00,974 - test-demo-fixed-all-cate - INFO - dict_keys(['FGSM', 'p_or_g']) has been chosen\n",
      "2022-11-10 18:09:01,122 - test-demo-fixed-all-cate - INFO - new image has been created: ref_path: ./data/train_part/0/img_train_2205.png, init_path: ./data/train_part/0/img_train_2205.png, state: 0\n",
      "2022-11-10 18:09:01,123 - test-demo-fixed-all-cate - INFO - dict_keys(['FGSM', 'p_or_g']) has been chosen\n"
     ]
    },
    {
     "name": "stdout",
     "output_type": "stream",
     "text": [
      "for pixel modification, ['FGSM'] would be applied!\n",
      "for affine modification, ['rotate_zero'] would be applied!\n",
      "['NC'] would be calculated!\n",
      "========== iteration-0 ==========\n",
      "0.008729392713135477\n",
      "0.007231887545249735\n"
     ]
    },
    {
     "name": "stderr",
     "output_type": "stream",
     "text": [
      "2022-11-10 18:09:01,272 - test-demo-fixed-all-cate - INFO - new image has been created: ref_path: ./data/train_part/0/img_train_2205.png, init_path: ./data/train_part/0/img_train_2205.png, state: 0\n",
      "2022-11-10 18:09:01,273 - test-demo-fixed-all-cate - INFO - dict_keys(['rotate_zero', 'p_or_g']) has been chosen\n",
      "2022-11-10 18:09:01,275 - test-demo-fixed-all-cate - INFO - new image has been created: ref_path: ./test-demo-fixed-all-cate/saved/ref-3-1668074941.274525.png, init_path: ./data/train_part/0/img_train_2205.png, state: 1\n",
      "2022-11-10 18:09:01,275 - test-demo-fixed-all-cate - INFO - dict_keys(['rotate_zero', 'p_or_g']) has been chosen\n",
      "2022-11-10 18:09:01,276 - test-demo-fixed-all-cate - INFO - new image has been created: ref_path: ./test-demo-fixed-all-cate/saved/ref-4-1668074941.276514.png, init_path: ./data/train_part/0/img_train_2205.png, state: 1\n",
      "2022-11-10 18:09:01,277 - test-demo-fixed-all-cate - INFO - dict_keys(['rotate_zero', 'p_or_g']) has been chosen\n",
      "2022-11-10 18:09:01,279 - test-demo-fixed-all-cate - INFO - new image has been created: ref_path: ./test-demo-fixed-all-cate/saved/ref-0-1668074941.2790358.png, init_path: ./data/train_part/0/img_train_2622.png, state: 1\n",
      "2022-11-10 18:09:01,280 - test-demo-fixed-all-cate - INFO - dict_keys(['FGSM', 'p_or_g']) has been chosen\n",
      "2022-11-10 18:09:01,426 - test-demo-fixed-all-cate - INFO - new image has been created: ref_path: ./data/train_part/0/img_train_2622.png, init_path: ./data/train_part/0/img_train_2622.png, state: 0\n",
      "2022-11-10 18:09:01,427 - test-demo-fixed-all-cate - INFO - dict_keys(['FGSM', 'p_or_g']) has been chosen\n"
     ]
    },
    {
     "name": "stdout",
     "output_type": "stream",
     "text": [
      "0.005576634186989638\n",
      "0.009328716200356068\n"
     ]
    },
    {
     "name": "stderr",
     "output_type": "stream",
     "text": [
      "2022-11-10 18:09:01,561 - test-demo-fixed-all-cate - INFO - new image has been created: ref_path: ./data/train_part/0/img_train_2622.png, init_path: ./data/train_part/0/img_train_2622.png, state: 0\n",
      "2022-11-10 18:09:01,562 - test-demo-fixed-all-cate - INFO - dict_keys(['rotate_zero', 'p_or_g']) has been chosen\n",
      "2022-11-10 18:09:01,563 - test-demo-fixed-all-cate - INFO - new image has been created: ref_path: ./test-demo-fixed-all-cate/saved/ref-3-1668074941.5631769.png, init_path: ./data/train_part/0/img_train_2622.png, state: 1\n",
      "2022-11-10 18:09:01,564 - test-demo-fixed-all-cate - INFO - dict_keys(['FGSM', 'p_or_g']) has been chosen\n",
      "2022-11-10 18:09:01,703 - test-demo-fixed-all-cate - INFO - new image has been created: ref_path: ./data/train_part/0/img_train_2622.png, init_path: ./data/train_part/0/img_train_2622.png, state: 0\n",
      "2022-11-10 18:09:01,705 - test-demo-fixed-all-cate - INFO - dict_keys(['rotate_zero', 'p_or_g']) has been chosen\n",
      "2022-11-10 18:09:01,706 - test-demo-fixed-all-cate - INFO - new image has been created: ref_path: ./test-demo-fixed-all-cate/saved/ref-0-1668074941.7060301.png, init_path: ./data/train_part/0/img_train_2518.png, state: 1\n",
      "2022-11-10 18:09:01,707 - test-demo-fixed-all-cate - INFO - dict_keys(['rotate_zero', 'p_or_g']) has been chosen\n",
      "2022-11-10 18:09:01,708 - test-demo-fixed-all-cate - INFO - new image has been created: ref_path: ./test-demo-fixed-all-cate/saved/ref-1-1668074941.7084281.png, init_path: ./data/train_part/0/img_train_2518.png, state: 1\n",
      "2022-11-10 18:09:01,709 - test-demo-fixed-all-cate - INFO - dict_keys(['rotate_zero', 'p_or_g']) has been chosen\n",
      "2022-11-10 18:09:01,711 - test-demo-fixed-all-cate - INFO - new image has been created: ref_path: ./test-demo-fixed-all-cate/saved/ref-2-1668074941.710711.png, init_path: ./data/train_part/0/img_train_2518.png, state: 1\n",
      "2022-11-10 18:09:01,711 - test-demo-fixed-all-cate - INFO - dict_keys(['FGSM', 'p_or_g']) has been chosen\n"
     ]
    },
    {
     "name": "stdout",
     "output_type": "stream",
     "text": [
      "0.006624922561391536\n",
      "0.006302301710344178\n"
     ]
    },
    {
     "name": "stderr",
     "output_type": "stream",
     "text": [
      "2022-11-10 18:09:01,856 - test-demo-fixed-all-cate - INFO - new image has been created: ref_path: ./data/train_part/0/img_train_2518.png, init_path: ./data/train_part/0/img_train_2518.png, state: 0\n",
      "2022-11-10 18:09:01,857 - test-demo-fixed-all-cate - INFO - dict_keys(['FGSM', 'p_or_g']) has been chosen\n",
      "2022-11-10 18:09:01,995 - test-demo-fixed-all-cate - INFO - new image has been created: ref_path: ./data/train_part/0/img_train_2518.png, init_path: ./data/train_part/0/img_train_2518.png, state: 0\n",
      "2022-11-10 18:09:01,996 - test-demo-fixed-all-cate - INFO - dict_keys(['FGSM', 'p_or_g']) has been chosen\n"
     ]
    },
    {
     "name": "stdout",
     "output_type": "stream",
     "text": [
      "0.009215378115797396\n",
      "0.0077552214054867055\n"
     ]
    },
    {
     "name": "stderr",
     "output_type": "stream",
     "text": [
      "2022-11-10 18:09:02,124 - test-demo-fixed-all-cate - INFO - new image has been created: ref_path: ./data/train_part/6/img_train_63080.png, init_path: ./data/train_part/6/img_train_63080.png, state: 0\n",
      "2022-11-10 18:09:02,125 - test-demo-fixed-all-cate - INFO - dict_keys(['FGSM', 'p_or_g']) has been chosen\n",
      "2022-11-10 18:09:02,261 - test-demo-fixed-all-cate - INFO - new image has been created: ref_path: ./data/train_part/6/img_train_63080.png, init_path: ./data/train_part/6/img_train_63080.png, state: 0\n",
      "2022-11-10 18:09:02,261 - test-demo-fixed-all-cate - INFO - dict_keys(['FGSM', 'p_or_g']) has been chosen\n"
     ]
    },
    {
     "name": "stdout",
     "output_type": "stream",
     "text": [
      "0.006290693974839097\n",
      "0.007317070268103191\n"
     ]
    },
    {
     "name": "stderr",
     "output_type": "stream",
     "text": [
      "2022-11-10 18:09:02,437 - test-demo-fixed-all-cate - INFO - new image has been created: ref_path: ./data/train_part/6/img_train_63080.png, init_path: ./data/train_part/6/img_train_63080.png, state: 0\n",
      "2022-11-10 18:09:02,438 - test-demo-fixed-all-cate - INFO - dict_keys(['rotate_zero', 'p_or_g']) has been chosen\n",
      "2022-11-10 18:09:02,439 - test-demo-fixed-all-cate - INFO - new image has been created: ref_path: ./test-demo-fixed-all-cate/saved/ref-3-1668074942.4389372.png, init_path: ./data/train_part/6/img_train_63080.png, state: 1\n",
      "2022-11-10 18:09:02,440 - test-demo-fixed-all-cate - INFO - dict_keys(['rotate_zero', 'p_or_g']) has been chosen\n",
      "2022-11-10 18:09:02,441 - test-demo-fixed-all-cate - INFO - new image has been created: ref_path: ./test-demo-fixed-all-cate/saved/ref-4-1668074942.440824.png, init_path: ./data/train_part/6/img_train_63080.png, state: 1\n",
      "2022-11-10 18:09:02,442 - test-demo-fixed-all-cate - INFO - dict_keys(['FGSM', 'p_or_g']) has been chosen\n",
      "2022-11-10 18:09:02,587 - test-demo-fixed-all-cate - INFO - new image has been created: ref_path: ./data/train_part/1/img_train_10886.png, init_path: ./data/train_part/1/img_train_10886.png, state: 0\n",
      "2022-11-10 18:09:02,587 - test-demo-fixed-all-cate - INFO - dict_keys(['rotate_zero', 'p_or_g']) has been chosen\n",
      "2022-11-10 18:09:02,589 - test-demo-fixed-all-cate - INFO - new image has been created: ref_path: ./test-demo-fixed-all-cate/saved/ref-1-1668074942.5886688.png, init_path: ./data/train_part/1/img_train_10886.png, state: 1\n",
      "2022-11-10 18:09:02,589 - test-demo-fixed-all-cate - INFO - dict_keys(['FGSM', 'p_or_g']) has been chosen\n"
     ]
    },
    {
     "name": "stdout",
     "output_type": "stream",
     "text": [
      "0.009750581753491744\n",
      "0.008376895068490969\n"
     ]
    },
    {
     "name": "stderr",
     "output_type": "stream",
     "text": [
      "2022-11-10 18:09:02,726 - test-demo-fixed-all-cate - INFO - new image has been created: ref_path: ./data/train_part/1/img_train_10886.png, init_path: ./data/train_part/1/img_train_10886.png, state: 0\n",
      "2022-11-10 18:09:02,726 - test-demo-fixed-all-cate - INFO - dict_keys(['rotate_zero', 'p_or_g']) has been chosen\n",
      "2022-11-10 18:09:02,728 - test-demo-fixed-all-cate - INFO - new image has been created: ref_path: ./test-demo-fixed-all-cate/saved/ref-3-1668074942.727755.png, init_path: ./data/train_part/1/img_train_10886.png, state: 1\n",
      "2022-11-10 18:09:02,728 - test-demo-fixed-all-cate - INFO - dict_keys(['rotate_zero', 'p_or_g']) has been chosen\n",
      "2022-11-10 18:09:02,730 - test-demo-fixed-all-cate - INFO - new image has been created: ref_path: ./test-demo-fixed-all-cate/saved/ref-4-1668074942.729611.png, init_path: ./data/train_part/1/img_train_10886.png, state: 1\n",
      "2022-11-10 18:09:02,731 - test-demo-fixed-all-cate - INFO - dict_keys(['FGSM', 'p_or_g']) has been chosen\n",
      "2022-11-10 18:09:02,866 - test-demo-fixed-all-cate - INFO - new image has been created: ref_path: ./data/train_part/1/img_train_10256.png, init_path: ./data/train_part/1/img_train_10256.png, state: 0\n",
      "2022-11-10 18:09:02,867 - test-demo-fixed-all-cate - INFO - dict_keys(['rotate_zero', 'p_or_g']) has been chosen\n",
      "2022-11-10 18:09:02,869 - test-demo-fixed-all-cate - INFO - new image has been created: ref_path: ./test-demo-fixed-all-cate/saved/ref-1-1668074942.868603.png, init_path: ./data/train_part/1/img_train_10256.png, state: 1\n",
      "2022-11-10 18:09:02,869 - test-demo-fixed-all-cate - INFO - dict_keys(['FGSM', 'p_or_g']) has been chosen\n"
     ]
    },
    {
     "name": "stdout",
     "output_type": "stream",
     "text": [
      "0.007089898277782776\n",
      "0.006165473335072015\n"
     ]
    },
    {
     "name": "stderr",
     "output_type": "stream",
     "text": [
      "2022-11-10 18:09:03,013 - test-demo-fixed-all-cate - INFO - new image has been created: ref_path: ./data/train_part/1/img_train_10256.png, init_path: ./data/train_part/1/img_train_10256.png, state: 0\n",
      "2022-11-10 18:09:03,014 - test-demo-fixed-all-cate - INFO - dict_keys(['FGSM', 'p_or_g']) has been chosen\n",
      "2022-11-10 18:09:03,144 - test-demo-fixed-all-cate - INFO - new image has been created: ref_path: ./data/train_part/1/img_train_10256.png, init_path: ./data/train_part/1/img_train_10256.png, state: 0\n",
      "2022-11-10 18:09:03,145 - test-demo-fixed-all-cate - INFO - dict_keys(['rotate_zero', 'p_or_g']) has been chosen\n",
      "2022-11-10 18:09:03,146 - test-demo-fixed-all-cate - INFO - new image has been created: ref_path: ./test-demo-fixed-all-cate/saved/ref-4-1668074943.146353.png, init_path: ./data/train_part/1/img_train_10256.png, state: 1\n",
      "2022-11-10 18:09:03,147 - test-demo-fixed-all-cate - INFO - dict_keys(['rotate_zero', 'p_or_g']) has been chosen\n",
      "2022-11-10 18:09:03,149 - test-demo-fixed-all-cate - INFO - new image has been created: ref_path: ./test-demo-fixed-all-cate/saved/ref-0-1668074943.148591.png, init_path: ./data/train_part/1/img_train_10533.png, state: 1\n",
      "2022-11-10 18:09:03,149 - test-demo-fixed-all-cate - INFO - dict_keys(['FGSM', 'p_or_g']) has been chosen\n"
     ]
    },
    {
     "name": "stdout",
     "output_type": "stream",
     "text": [
      "0.007013080284056181\n",
      "0.006192345724195962\n"
     ]
    },
    {
     "name": "stderr",
     "output_type": "stream",
     "text": [
      "2022-11-10 18:09:03,314 - test-demo-fixed-all-cate - INFO - new image has been created: ref_path: ./data/train_part/1/img_train_10533.png, init_path: ./data/train_part/1/img_train_10533.png, state: 0\n",
      "2022-11-10 18:09:03,317 - test-demo-fixed-all-cate - INFO - dict_keys(['FGSM', 'p_or_g']) has been chosen\n",
      "2022-11-10 18:09:03,495 - test-demo-fixed-all-cate - INFO - new image has been created: ref_path: ./data/train_part/1/img_train_10533.png, init_path: ./data/train_part/1/img_train_10533.png, state: 0\n",
      "2022-11-10 18:09:03,497 - test-demo-fixed-all-cate - INFO - dict_keys(['rotate_zero', 'p_or_g']) has been chosen\n",
      "2022-11-10 18:09:03,499 - test-demo-fixed-all-cate - INFO - new image has been created: ref_path: ./test-demo-fixed-all-cate/saved/ref-3-1668074943.498538.png, init_path: ./data/train_part/1/img_train_10533.png, state: 1\n",
      "2022-11-10 18:09:03,500 - test-demo-fixed-all-cate - INFO - dict_keys(['rotate_zero', 'p_or_g']) has been chosen\n",
      "2022-11-10 18:09:03,501 - test-demo-fixed-all-cate - INFO - new image has been created: ref_path: ./test-demo-fixed-all-cate/saved/ref-4-1668074943.501028.png, init_path: ./data/train_part/1/img_train_10533.png, state: 1\n",
      "2022-11-10 18:09:03,502 - test-demo-fixed-all-cate - INFO - dict_keys(['rotate_zero', 'p_or_g']) has been chosen\n",
      "2022-11-10 18:09:03,505 - test-demo-fixed-all-cate - INFO - new image has been created: ref_path: ./test-demo-fixed-all-cate/saved/ref-0-1668074943.504352.png, init_path: ./data/train_part/4/img_train_39414.png, state: 1\n",
      "2022-11-10 18:09:03,506 - test-demo-fixed-all-cate - INFO - dict_keys(['FGSM', 'p_or_g']) has been chosen\n"
     ]
    },
    {
     "name": "stdout",
     "output_type": "stream",
     "text": [
      "0.009614447714135228\n",
      "0.006229423905104026\n"
     ]
    },
    {
     "name": "stderr",
     "output_type": "stream",
     "text": [
      "2022-11-10 18:09:03,656 - test-demo-fixed-all-cate - INFO - new image has been created: ref_path: ./data/train_part/4/img_train_39414.png, init_path: ./data/train_part/4/img_train_39414.png, state: 0\n",
      "2022-11-10 18:09:03,657 - test-demo-fixed-all-cate - INFO - dict_keys(['rotate_zero', 'p_or_g']) has been chosen\n",
      "2022-11-10 18:09:03,658 - test-demo-fixed-all-cate - INFO - new image has been created: ref_path: ./test-demo-fixed-all-cate/saved/ref-2-1668074943.658199.png, init_path: ./data/train_part/4/img_train_39414.png, state: 1\n",
      "2022-11-10 18:09:03,659 - test-demo-fixed-all-cate - INFO - dict_keys(['FGSM', 'p_or_g']) has been chosen\n",
      "2022-11-10 18:09:03,793 - test-demo-fixed-all-cate - INFO - new image has been created: ref_path: ./data/train_part/4/img_train_39414.png, init_path: ./data/train_part/4/img_train_39414.png, state: 0\n",
      "2022-11-10 18:09:03,794 - test-demo-fixed-all-cate - INFO - dict_keys(['rotate_zero', 'p_or_g']) has been chosen\n",
      "2022-11-10 18:09:03,795 - test-demo-fixed-all-cate - INFO - new image has been created: ref_path: ./test-demo-fixed-all-cate/saved/ref-4-1668074943.795191.png, init_path: ./data/train_part/4/img_train_39414.png, state: 1\n",
      "2022-11-10 18:09:03,796 - test-demo-fixed-all-cate - INFO - dict_keys(['rotate_zero', 'p_or_g']) has been chosen\n",
      "2022-11-10 18:09:03,798 - test-demo-fixed-all-cate - INFO - new image has been created: ref_path: ./test-demo-fixed-all-cate/saved/ref-0-1668074943.7978182.png, init_path: ./data/train_part/3/img_train_29517.png, state: 1\n",
      "2022-11-10 18:09:03,799 - test-demo-fixed-all-cate - INFO - dict_keys(['rotate_zero', 'p_or_g']) has been chosen\n",
      "2022-11-10 18:09:03,800 - test-demo-fixed-all-cate - INFO - new image has been created: ref_path: ./test-demo-fixed-all-cate/saved/ref-1-1668074943.800179.png, init_path: ./data/train_part/3/img_train_29517.png, state: 1\n",
      "2022-11-10 18:09:03,801 - test-demo-fixed-all-cate - INFO - dict_keys(['rotate_zero', 'p_or_g']) has been chosen\n",
      "2022-11-10 18:09:03,802 - test-demo-fixed-all-cate - INFO - new image has been created: ref_path: ./test-demo-fixed-all-cate/saved/ref-2-1668074943.8021388.png, init_path: ./data/train_part/3/img_train_29517.png, state: 1\n",
      "2022-11-10 18:09:03,803 - test-demo-fixed-all-cate - INFO - dict_keys(['rotate_zero', 'p_or_g']) has been chosen\n",
      "2022-11-10 18:09:03,804 - test-demo-fixed-all-cate - INFO - new image has been created: ref_path: ./test-demo-fixed-all-cate/saved/ref-3-1668074943.804181.png, init_path: ./data/train_part/3/img_train_29517.png, state: 1\n",
      "2022-11-10 18:09:03,805 - test-demo-fixed-all-cate - INFO - dict_keys(['rotate_zero', 'p_or_g']) has been chosen\n",
      "2022-11-10 18:09:03,806 - test-demo-fixed-all-cate - INFO - new image has been created: ref_path: ./test-demo-fixed-all-cate/saved/ref-4-1668074943.806188.png, init_path: ./data/train_part/3/img_train_29517.png, state: 1\n",
      "2022-11-10 18:09:03,807 - test-demo-fixed-all-cate - INFO - dict_keys(['rotate_zero', 'p_or_g']) has been chosen\n",
      "2022-11-10 18:09:03,809 - test-demo-fixed-all-cate - INFO - new image has been created: ref_path: ./test-demo-fixed-all-cate/saved/ref-0-1668074943.8088372.png, init_path: ./data/train_part/2/img_train_20512.png, state: 1\n",
      "2022-11-10 18:09:03,809 - test-demo-fixed-all-cate - INFO - dict_keys(['FGSM', 'p_or_g']) has been chosen\n"
     ]
    },
    {
     "name": "stdout",
     "output_type": "stream",
     "text": [
      "0.009490147384747339\n",
      "0.008543992301923403\n"
     ]
    },
    {
     "name": "stderr",
     "output_type": "stream",
     "text": [
      "2022-11-10 18:09:03,953 - test-demo-fixed-all-cate - INFO - new image has been created: ref_path: ./data/train_part/2/img_train_20512.png, init_path: ./data/train_part/2/img_train_20512.png, state: 0\n",
      "2022-11-10 18:09:03,954 - test-demo-fixed-all-cate - INFO - dict_keys(['rotate_zero', 'p_or_g']) has been chosen\n",
      "2022-11-10 18:09:03,957 - test-demo-fixed-all-cate - INFO - new image has been created: ref_path: ./test-demo-fixed-all-cate/saved/ref-2-1668074943.9563332.png, init_path: ./data/train_part/2/img_train_20512.png, state: 1\n",
      "2022-11-10 18:09:03,957 - test-demo-fixed-all-cate - INFO - dict_keys(['rotate_zero', 'p_or_g']) has been chosen\n",
      "2022-11-10 18:09:03,959 - test-demo-fixed-all-cate - INFO - new image has been created: ref_path: ./test-demo-fixed-all-cate/saved/ref-3-1668074943.959305.png, init_path: ./data/train_part/2/img_train_20512.png, state: 1\n",
      "2022-11-10 18:09:03,960 - test-demo-fixed-all-cate - INFO - dict_keys(['FGSM', 'p_or_g']) has been chosen\n",
      "2022-11-10 18:09:04,104 - test-demo-fixed-all-cate - INFO - new image has been created: ref_path: ./data/train_part/2/img_train_20512.png, init_path: ./data/train_part/2/img_train_20512.png, state: 0\n",
      "2022-11-10 18:09:04,105 - test-demo-fixed-all-cate - INFO - dict_keys(['rotate_zero', 'p_or_g']) has been chosen\n",
      "2022-11-10 18:09:04,107 - test-demo-fixed-all-cate - INFO - new image has been created: ref_path: ./test-demo-fixed-all-cate/saved/ref-0-1668074944.107038.png, init_path: ./data/train_part/2/img_train_20451.png, state: 1\n",
      "2022-11-10 18:09:04,108 - test-demo-fixed-all-cate - INFO - dict_keys(['rotate_zero', 'p_or_g']) has been chosen\n",
      "2022-11-10 18:09:04,109 - test-demo-fixed-all-cate - INFO - new image has been created: ref_path: ./test-demo-fixed-all-cate/saved/ref-1-1668074944.109405.png, init_path: ./data/train_part/2/img_train_20451.png, state: 1\n",
      "2022-11-10 18:09:04,110 - test-demo-fixed-all-cate - INFO - dict_keys(['rotate_zero', 'p_or_g']) has been chosen\n",
      "2022-11-10 18:09:04,112 - test-demo-fixed-all-cate - INFO - new image has been created: ref_path: ./test-demo-fixed-all-cate/saved/ref-2-1668074944.111916.png, init_path: ./data/train_part/2/img_train_20451.png, state: 1\n",
      "2022-11-10 18:09:04,113 - test-demo-fixed-all-cate - INFO - dict_keys(['rotate_zero', 'p_or_g']) has been chosen\n",
      "2022-11-10 18:09:04,115 - test-demo-fixed-all-cate - INFO - new image has been created: ref_path: ./test-demo-fixed-all-cate/saved/ref-3-1668074944.114774.png, init_path: ./data/train_part/2/img_train_20451.png, state: 1\n",
      "2022-11-10 18:09:04,116 - test-demo-fixed-all-cate - INFO - dict_keys(['FGSM', 'p_or_g']) has been chosen\n"
     ]
    },
    {
     "name": "stdout",
     "output_type": "stream",
     "text": [
      "0.008670430977618007\n",
      "0.006160282620586606\n"
     ]
    },
    {
     "name": "stderr",
     "output_type": "stream",
     "text": [
      "2022-11-10 18:09:04,257 - test-demo-fixed-all-cate - INFO - new image has been created: ref_path: ./data/train_part/2/img_train_20451.png, init_path: ./data/train_part/2/img_train_20451.png, state: 0\n",
      "2022-11-10 18:09:04,259 - test-demo-fixed-all-cate - INFO - dict_keys(['FGSM', 'p_or_g']) has been chosen\n",
      "2022-11-10 18:09:04,389 - test-demo-fixed-all-cate - INFO - new image has been created: ref_path: ./data/train_part/2/img_train_20530.png, init_path: ./data/train_part/2/img_train_20530.png, state: 0\n",
      "2022-11-10 18:09:04,389 - test-demo-fixed-all-cate - INFO - dict_keys(['rotate_zero', 'p_or_g']) has been chosen\n",
      "2022-11-10 18:09:04,391 - test-demo-fixed-all-cate - INFO - new image has been created: ref_path: ./test-demo-fixed-all-cate/saved/ref-1-1668074944.3911061.png, init_path: ./data/train_part/2/img_train_20530.png, state: 1\n",
      "2022-11-10 18:09:04,392 - test-demo-fixed-all-cate - INFO - dict_keys(['FGSM', 'p_or_g']) has been chosen\n"
     ]
    },
    {
     "name": "stdout",
     "output_type": "stream",
     "text": [
      "0.007948531628663063\n",
      "0.008013138734996036\n"
     ]
    },
    {
     "name": "stderr",
     "output_type": "stream",
     "text": [
      "2022-11-10 18:09:04,527 - test-demo-fixed-all-cate - INFO - new image has been created: ref_path: ./data/train_part/2/img_train_20530.png, init_path: ./data/train_part/2/img_train_20530.png, state: 0\n",
      "2022-11-10 18:09:04,528 - test-demo-fixed-all-cate - INFO - dict_keys(['FGSM', 'p_or_g']) has been chosen\n",
      "2022-11-10 18:09:04,663 - test-demo-fixed-all-cate - INFO - new image has been created: ref_path: ./data/train_part/2/img_train_20530.png, init_path: ./data/train_part/2/img_train_20530.png, state: 0\n",
      "2022-11-10 18:09:04,664 - test-demo-fixed-all-cate - INFO - dict_keys(['FGSM', 'p_or_g']) has been chosen\n"
     ]
    },
    {
     "name": "stdout",
     "output_type": "stream",
     "text": [
      "0.009800158279358845\n",
      "0.007973600696955244\n"
     ]
    },
    {
     "name": "stderr",
     "output_type": "stream",
     "text": [
      "2022-11-10 18:09:04,792 - test-demo-fixed-all-cate - INFO - new image has been created: ref_path: ./data/train_part/2/img_train_20530.png, init_path: ./data/train_part/2/img_train_20530.png, state: 0\n",
      "2022-11-10 18:09:04,794 - test-demo-fixed-all-cate - INFO - dict_keys(['FGSM', 'p_or_g']) has been chosen\n",
      "2022-11-10 18:09:04,931 - test-demo-fixed-all-cate - INFO - new image has been created: ref_path: ./data/train_part/2/img_train_19885.png, init_path: ./data/train_part/2/img_train_19885.png, state: 0\n",
      "2022-11-10 18:09:04,932 - test-demo-fixed-all-cate - INFO - dict_keys(['rotate_zero', 'p_or_g']) has been chosen\n",
      "2022-11-10 18:09:04,934 - test-demo-fixed-all-cate - INFO - new image has been created: ref_path: ./test-demo-fixed-all-cate/saved/ref-1-1668074944.933504.png, init_path: ./data/train_part/2/img_train_19885.png, state: 1\n",
      "2022-11-10 18:09:04,934 - test-demo-fixed-all-cate - INFO - dict_keys(['FGSM', 'p_or_g']) has been chosen\n"
     ]
    },
    {
     "name": "stdout",
     "output_type": "stream",
     "text": [
      "0.009938469268164133\n",
      "0.005136642747284155\n"
     ]
    },
    {
     "name": "stderr",
     "output_type": "stream",
     "text": [
      "2022-11-10 18:09:05,073 - test-demo-fixed-all-cate - INFO - new image has been created: ref_path: ./data/train_part/2/img_train_19885.png, init_path: ./data/train_part/2/img_train_19885.png, state: 0\n",
      "2022-11-10 18:09:05,074 - test-demo-fixed-all-cate - INFO - dict_keys(['rotate_zero', 'p_or_g']) has been chosen\n",
      "2022-11-10 18:09:05,076 - test-demo-fixed-all-cate - INFO - new image has been created: ref_path: ./test-demo-fixed-all-cate/saved/ref-3-1668074945.075891.png, init_path: ./data/train_part/2/img_train_19885.png, state: 1\n",
      "2022-11-10 18:09:05,077 - test-demo-fixed-all-cate - INFO - dict_keys(['rotate_zero', 'p_or_g']) has been chosen\n",
      "2022-11-10 18:09:05,078 - test-demo-fixed-all-cate - INFO - new image has been created: ref_path: ./test-demo-fixed-all-cate/saved/ref-4-1668074945.078202.png, init_path: ./data/train_part/2/img_train_19885.png, state: 1\n",
      "2022-11-10 18:09:05,079 - test-demo-fixed-all-cate - INFO - dict_keys(['FGSM', 'p_or_g']) has been chosen\n",
      "2022-11-10 18:09:05,220 - test-demo-fixed-all-cate - INFO - new image has been created: ref_path: ./data/train_part/5/img_train_50278.png, init_path: ./data/train_part/5/img_train_50278.png, state: 0\n",
      "2022-11-10 18:09:05,221 - test-demo-fixed-all-cate - INFO - dict_keys(['rotate_zero', 'p_or_g']) has been chosen\n",
      "2022-11-10 18:09:05,223 - test-demo-fixed-all-cate - INFO - new image has been created: ref_path: ./test-demo-fixed-all-cate/saved/ref-1-1668074945.222411.png, init_path: ./data/train_part/5/img_train_50278.png, state: 1\n",
      "2022-11-10 18:09:05,223 - test-demo-fixed-all-cate - INFO - dict_keys(['FGSM', 'p_or_g']) has been chosen\n"
     ]
    },
    {
     "name": "stdout",
     "output_type": "stream",
     "text": [
      "0.007570526700337492\n",
      "0.009637758309083986\n"
     ]
    },
    {
     "name": "stderr",
     "output_type": "stream",
     "text": [
      "2022-11-10 18:09:05,357 - test-demo-fixed-all-cate - INFO - new image has been created: ref_path: ./data/train_part/5/img_train_50278.png, init_path: ./data/train_part/5/img_train_50278.png, state: 0\n",
      "2022-11-10 18:09:05,357 - test-demo-fixed-all-cate - INFO - dict_keys(['rotate_zero', 'p_or_g']) has been chosen\n",
      "2022-11-10 18:09:05,359 - test-demo-fixed-all-cate - INFO - new image has been created: ref_path: ./test-demo-fixed-all-cate/saved/ref-3-1668074945.358594.png, init_path: ./data/train_part/5/img_train_50278.png, state: 1\n",
      "2022-11-10 18:09:05,359 - test-demo-fixed-all-cate - INFO - dict_keys(['rotate_zero', 'p_or_g']) has been chosen\n",
      "2022-11-10 18:09:05,361 - test-demo-fixed-all-cate - INFO - new image has been created: ref_path: ./test-demo-fixed-all-cate/saved/ref-4-1668074945.360519.png, init_path: ./data/train_part/5/img_train_50278.png, state: 1\n",
      "2022-11-10 18:09:05,362 - test-demo-fixed-all-cate - INFO - dict_keys(['rotate_zero', 'p_or_g']) has been chosen\n",
      "2022-11-10 18:09:05,363 - test-demo-fixed-all-cate - INFO - new image has been created: ref_path: ./test-demo-fixed-all-cate/saved/ref-0-1668074945.363428.png, init_path: ./data/train_part/5/img_train_50413.png, state: 1\n",
      "2022-11-10 18:09:05,364 - test-demo-fixed-all-cate - INFO - dict_keys(['FGSM', 'p_or_g']) has been chosen\n",
      "2022-11-10 18:09:05,505 - test-demo-fixed-all-cate - INFO - new image has been created: ref_path: ./data/train_part/5/img_train_50413.png, init_path: ./data/train_part/5/img_train_50413.png, state: 0\n",
      "2022-11-10 18:09:05,506 - test-demo-fixed-all-cate - INFO - dict_keys(['rotate_zero', 'p_or_g']) has been chosen\n",
      "2022-11-10 18:09:05,508 - test-demo-fixed-all-cate - INFO - new image has been created: ref_path: ./test-demo-fixed-all-cate/saved/ref-2-1668074945.507644.png, init_path: ./data/train_part/5/img_train_50413.png, state: 1\n",
      "2022-11-10 18:09:05,508 - test-demo-fixed-all-cate - INFO - dict_keys(['rotate_zero', 'p_or_g']) has been chosen\n",
      "2022-11-10 18:09:05,510 - test-demo-fixed-all-cate - INFO - new image has been created: ref_path: ./test-demo-fixed-all-cate/saved/ref-3-1668074945.5099149.png, init_path: ./data/train_part/5/img_train_50413.png, state: 1\n",
      "2022-11-10 18:09:05,511 - test-demo-fixed-all-cate - INFO - dict_keys(['FGSM', 'p_or_g']) has been chosen\n"
     ]
    },
    {
     "name": "stdout",
     "output_type": "stream",
     "text": [
      "0.008358163211487541\n",
      "0.009674133645275617\n"
     ]
    },
    {
     "name": "stderr",
     "output_type": "stream",
     "text": [
      "2022-11-10 18:09:05,648 - test-demo-fixed-all-cate - INFO - new image has been created: ref_path: ./data/train_part/5/img_train_50413.png, init_path: ./data/train_part/5/img_train_50413.png, state: 0\n",
      "2022-11-10 18:09:05,649 - test-demo-fixed-all-cate - INFO - dict_keys(['rotate_zero', 'p_or_g']) has been chosen\n",
      "2022-11-10 18:09:05,651 - test-demo-fixed-all-cate - INFO - new image has been created: ref_path: ./test-demo-fixed-all-cate/saved/ref-0-1668074945.650505.png, init_path: ./data/train_part/5/img_train_49525.png, state: 1\n",
      "2022-11-10 18:09:05,651 - test-demo-fixed-all-cate - INFO - dict_keys(['FGSM', 'p_or_g']) has been chosen\n",
      "2022-11-10 18:09:05,781 - test-demo-fixed-all-cate - INFO - new image has been created: ref_path: ./data/train_part/5/img_train_49525.png, init_path: ./data/train_part/5/img_train_49525.png, state: 0\n",
      "2022-11-10 18:09:05,782 - test-demo-fixed-all-cate - INFO - dict_keys(['rotate_zero', 'p_or_g']) has been chosen\n",
      "2022-11-10 18:09:05,784 - test-demo-fixed-all-cate - INFO - new image has been created: ref_path: ./test-demo-fixed-all-cate/saved/ref-2-1668074945.7834969.png, init_path: ./data/train_part/5/img_train_49525.png, state: 1\n",
      "2022-11-10 18:09:05,784 - test-demo-fixed-all-cate - INFO - dict_keys(['FGSM', 'p_or_g']) has been chosen\n"
     ]
    },
    {
     "name": "stdout",
     "output_type": "stream",
     "text": [
      "0.007651064978280655\n",
      "0.005705366615586844\n"
     ]
    },
    {
     "name": "stderr",
     "output_type": "stream",
     "text": [
      "2022-11-10 18:09:05,925 - test-demo-fixed-all-cate - INFO - new image has been created: ref_path: ./data/train_part/5/img_train_49525.png, init_path: ./data/train_part/5/img_train_49525.png, state: 0\n",
      "2022-11-10 18:09:05,926 - test-demo-fixed-all-cate - INFO - dict_keys(['FGSM', 'p_or_g']) has been chosen\n",
      "2022-11-10 18:09:06,070 - test-demo-fixed-all-cate - INFO - new image has been created: ref_path: ./data/train_part/5/img_train_49525.png, init_path: ./data/train_part/5/img_train_49525.png, state: 0\n",
      "2022-11-10 18:09:06,071 - test-demo-fixed-all-cate - INFO - update seed info successfully, current p is 0.95\n",
      "2022-11-10 18:09:06,071 - test-demo-fixed-all-cate - INFO - update seed info successfully, current p is 0.95\n",
      "2022-11-10 18:09:06,072 - test-demo-fixed-all-cate - INFO - update seed info successfully, current p is 0.95\n",
      "2022-11-10 18:09:06,072 - test-demo-fixed-all-cate - INFO - update seed info successfully, current p is 0.95\n",
      "2022-11-10 18:09:06,073 - test-demo-fixed-all-cate - INFO - update seed info successfully, current p is 0.95\n",
      "2022-11-10 18:09:06,074 - test-demo-fixed-all-cate - INFO - update seed info successfully, current p is 0.95\n",
      "2022-11-10 18:09:06,074 - test-demo-fixed-all-cate - INFO - update seed info successfully, current p is 0.95\n",
      "2022-11-10 18:09:06,075 - test-demo-fixed-all-cate - INFO - update seed info successfully, current p is 0.95\n",
      "2022-11-10 18:09:06,076 - test-demo-fixed-all-cate - INFO - update seed info successfully, current p is 0.95\n",
      "2022-11-10 18:09:06,076 - test-demo-fixed-all-cate - INFO - update seed info successfully, current p is 0.95\n",
      "2022-11-10 18:09:06,077 - test-demo-fixed-all-cate - INFO - update seed info successfully, current p is 0.95\n",
      "2022-11-10 18:09:06,078 - test-demo-fixed-all-cate - INFO - update seed info successfully, current p is 0.95\n",
      "2022-11-10 18:09:06,079 - test-demo-fixed-all-cate - INFO - update seed info successfully, current p is 0.95\n",
      "2022-11-10 18:09:06,079 - test-demo-fixed-all-cate - INFO - update seed info successfully, current p is 0.95\n",
      "2022-11-10 18:09:06,080 - test-demo-fixed-all-cate - INFO - update seed info successfully, current p is 0.95\n",
      "2022-11-10 18:09:06,081 - test-demo-fixed-all-cate - INFO - update seed info successfully, current p is 0.95\n"
     ]
    },
    {
     "name": "stdout",
     "output_type": "stream",
     "text": [
      "0.006671533668719475\n"
     ]
    },
    {
     "name": "stderr",
     "output_type": "stream",
     "text": [
      "2022-11-10 18:09:06,438 - test-demo-fixed-all-cate - INFO - for test-demo-fixed-all-cate/fail_test/0/1.png: its label should be 0, but got 5, it would be stored in test-demo-fixed-all-cate/fail_test/0/1.png\n",
      "2022-11-10 18:09:06,987 - test-demo-fixed-all-cate - INFO - for test-demo-fixed-all-cate/fail_test/2/2.png: its label should be 2, but got 4, it would be stored in test-demo-fixed-all-cate/fail_test/2/2.png\n",
      "2022-11-10 18:09:06,989 - test-demo-fixed-all-cate - INFO - for test-demo-fixed-all-cate/fail_test/2/3.png: its label should be 2, but got 4, it would be stored in test-demo-fixed-all-cate/fail_test/2/3.png\n"
     ]
    },
    {
     "name": "stdout",
     "output_type": "stream",
     "text": [
      "WARNING:tensorflow:5 out of the last 20 calls to <function Model.make_predict_function.<locals>.predict_function at 0x7f930c8ac4c0> triggered tf.function retracing. Tracing is expensive and the excessive number of tracings could be due to (1) creating @tf.function repeatedly in a loop, (2) passing tensors with different shapes, (3) passing Python objects instead of tensors. For (1), please define your @tf.function outside of the loop. For (2), @tf.function has reduce_retracing=True option that can avoid unnecessary retracing. For (3), please refer to https://www.tensorflow.org/guide/function#controlling_retracing and https://www.tensorflow.org/api_docs/python/tf/function for  more details.\n",
      "WARNING:tensorflow:6 out of the last 21 calls to <function Model.make_predict_function.<locals>.predict_function at 0x7f930c7b3040> triggered tf.function retracing. Tracing is expensive and the excessive number of tracings could be due to (1) creating @tf.function repeatedly in a loop, (2) passing tensors with different shapes, (3) passing Python objects instead of tensors. For (1), please define your @tf.function outside of the loop. For (2), @tf.function has reduce_retracing=True option that can avoid unnecessary retracing. For (3), please refer to https://www.tensorflow.org/guide/function#controlling_retracing and https://www.tensorflow.org/api_docs/python/tf/function for  more details.\n"
     ]
    },
    {
     "name": "stderr",
     "output_type": "stream",
     "text": [
      "2022-11-10 18:09:17,158 - test-demo-fixed-all-cate - INFO - the new seed would be stored as test-demo-fixed-all-cate/saved/4.png\n",
      "2022-11-10 18:09:17,160 - test-demo-fixed-all-cate - INFO - add new seed successfully, current seed queue length: 1622, new path: test-demo-fixed-all-cate/saved/4.png, init path: ./data/train_part/0/img_train_2205.png, ref_path: ./data/train_part/0/img_train_2205.png, label: 0, state: 0\n",
      "2022-11-10 18:09:17,162 - test-demo-fixed-all-cate - INFO - the new seed would be stored as test-demo-fixed-all-cate/saved/5.png\n",
      "2022-11-10 18:09:17,163 - test-demo-fixed-all-cate - INFO - add new seed successfully, current seed queue length: 1623, new path: test-demo-fixed-all-cate/saved/5.png, init path: ./data/train_part/0/img_train_2205.png, ref_path: ./data/train_part/0/img_train_2205.png, label: 0, state: 0\n",
      "2022-11-10 18:09:17,166 - test-demo-fixed-all-cate - INFO - the new seed would be stored as test-demo-fixed-all-cate/saved/6.png\n",
      "2022-11-10 18:09:17,168 - test-demo-fixed-all-cate - INFO - add new seed successfully, current seed queue length: 1624, new path: test-demo-fixed-all-cate/saved/6.png, init path: ./data/train_part/0/img_train_2622.png, ref_path: ./data/train_part/0/img_train_2622.png, label: 0, state: 0\n",
      "2022-11-10 18:09:17,171 - test-demo-fixed-all-cate - INFO - the new seed would be stored as test-demo-fixed-all-cate/saved/7.png\n",
      "2022-11-10 18:09:17,172 - test-demo-fixed-all-cate - INFO - add new seed successfully, current seed queue length: 1625, new path: test-demo-fixed-all-cate/saved/7.png, init path: ./data/train_part/0/img_train_2622.png, ref_path: ./data/train_part/0/img_train_2622.png, label: 0, state: 0\n",
      "2022-11-10 18:09:17,175 - test-demo-fixed-all-cate - INFO - the new seed would be stored as test-demo-fixed-all-cate/saved/8.png\n",
      "2022-11-10 18:09:17,176 - test-demo-fixed-all-cate - INFO - add new seed successfully, current seed queue length: 1626, new path: test-demo-fixed-all-cate/saved/8.png, init path: ./data/train_part/0/img_train_2622.png, ref_path: ./data/train_part/0/img_train_2622.png, label: 0, state: 0\n",
      "2022-11-10 18:09:17,179 - test-demo-fixed-all-cate - INFO - the new seed would be stored as test-demo-fixed-all-cate/saved/9.png\n",
      "2022-11-10 18:09:17,181 - test-demo-fixed-all-cate - INFO - add new seed successfully, current seed queue length: 1627, new path: test-demo-fixed-all-cate/saved/9.png, init path: ./data/train_part/0/img_train_2518.png, ref_path: ./data/train_part/0/img_train_2518.png, label: 0, state: 0\n",
      "2022-11-10 18:09:17,183 - test-demo-fixed-all-cate - INFO - the new seed would be stored as test-demo-fixed-all-cate/saved/10.png\n",
      "2022-11-10 18:09:17,185 - test-demo-fixed-all-cate - INFO - add new seed successfully, current seed queue length: 1628, new path: test-demo-fixed-all-cate/saved/10.png, init path: ./data/train_part/1/img_train_10886.png, ref_path: ./data/train_part/1/img_train_10886.png, label: 1, state: 0\n",
      "2022-11-10 18:09:17,187 - test-demo-fixed-all-cate - INFO - the new seed would be stored as test-demo-fixed-all-cate/saved/11.png\n",
      "2022-11-10 18:09:17,188 - test-demo-fixed-all-cate - INFO - add new seed successfully, current seed queue length: 1629, new path: test-demo-fixed-all-cate/saved/11.png, init path: ./data/train_part/1/img_train_10886.png, ref_path: ./data/train_part/1/img_train_10886.png, label: 1, state: 0\n",
      "2022-11-10 18:09:17,190 - test-demo-fixed-all-cate - INFO - the new seed would be stored as test-demo-fixed-all-cate/saved/12.png\n",
      "2022-11-10 18:09:17,191 - test-demo-fixed-all-cate - INFO - add new seed successfully, current seed queue length: 1630, new path: test-demo-fixed-all-cate/saved/12.png, init path: ./data/train_part/1/img_train_10256.png, ref_path: ./data/train_part/1/img_train_10256.png, label: 1, state: 0\n",
      "2022-11-10 18:09:17,194 - test-demo-fixed-all-cate - INFO - the new seed would be stored as test-demo-fixed-all-cate/saved/13.png\n",
      "2022-11-10 18:09:17,195 - test-demo-fixed-all-cate - INFO - add new seed successfully, current seed queue length: 1631, new path: test-demo-fixed-all-cate/saved/13.png, init path: ./data/train_part/1/img_train_10256.png, ref_path: ./data/train_part/1/img_train_10256.png, label: 1, state: 0\n",
      "2022-11-10 18:09:17,198 - test-demo-fixed-all-cate - INFO - the new seed would be stored as test-demo-fixed-all-cate/saved/14.png\n",
      "2022-11-10 18:09:17,199 - test-demo-fixed-all-cate - INFO - add new seed successfully, current seed queue length: 1632, new path: test-demo-fixed-all-cate/saved/14.png, init path: ./data/train_part/1/img_train_10256.png, ref_path: ./data/train_part/1/img_train_10256.png, label: 1, state: 0\n",
      "2022-11-10 18:09:17,201 - test-demo-fixed-all-cate - INFO - the new seed would be stored as test-demo-fixed-all-cate/saved/15.png\n",
      "2022-11-10 18:09:17,203 - test-demo-fixed-all-cate - INFO - add new seed successfully, current seed queue length: 1633, new path: test-demo-fixed-all-cate/saved/15.png, init path: ./data/train_part/1/img_train_10533.png, ref_path: ./data/train_part/1/img_train_10533.png, label: 1, state: 0\n",
      "2022-11-10 18:09:17,206 - test-demo-fixed-all-cate - INFO - the new seed would be stored as test-demo-fixed-all-cate/saved/16.png\n",
      "2022-11-10 18:09:17,207 - test-demo-fixed-all-cate - INFO - add new seed successfully, current seed queue length: 1634, new path: test-demo-fixed-all-cate/saved/16.png, init path: ./data/train_part/1/img_train_10533.png, ref_path: ./data/train_part/1/img_train_10533.png, label: 1, state: 0\n",
      "2022-11-10 18:09:17,209 - test-demo-fixed-all-cate - INFO - the new seed would be stored as test-demo-fixed-all-cate/saved/17.png\n",
      "2022-11-10 18:09:17,210 - test-demo-fixed-all-cate - INFO - add new seed successfully, current seed queue length: 1635, new path: test-demo-fixed-all-cate/saved/17.png, init path: ./data/train_part/4/img_train_39414.png, ref_path: ./test-demo-fixed-all-cate/saved/ref-0-1668074943.504352.png, label: 4, state: 1\n",
      "2022-11-10 18:09:17,213 - test-demo-fixed-all-cate - INFO - the new seed would be stored as test-demo-fixed-all-cate/saved/18.png\n",
      "2022-11-10 18:09:17,214 - test-demo-fixed-all-cate - INFO - add new seed successfully, current seed queue length: 1636, new path: test-demo-fixed-all-cate/saved/18.png, init path: ./data/train_part/4/img_train_39414.png, ref_path: ./test-demo-fixed-all-cate/saved/ref-2-1668074943.658199.png, label: 4, state: 1\n",
      "2022-11-10 18:09:17,216 - test-demo-fixed-all-cate - INFO - the new seed would be stored as test-demo-fixed-all-cate/saved/19.png\n",
      "2022-11-10 18:09:17,218 - test-demo-fixed-all-cate - INFO - add new seed successfully, current seed queue length: 1637, new path: test-demo-fixed-all-cate/saved/19.png, init path: ./data/train_part/4/img_train_39414.png, ref_path: ./test-demo-fixed-all-cate/saved/ref-4-1668074943.795191.png, label: 4, state: 1\n",
      "2022-11-10 18:09:17,220 - test-demo-fixed-all-cate - INFO - the new seed would be stored as test-demo-fixed-all-cate/saved/20.png\n",
      "2022-11-10 18:09:17,221 - test-demo-fixed-all-cate - INFO - add new seed successfully, current seed queue length: 1638, new path: test-demo-fixed-all-cate/saved/20.png, init path: ./data/train_part/2/img_train_20512.png, ref_path: ./test-demo-fixed-all-cate/saved/ref-0-1668074943.8088372.png, label: 2, state: 1\n",
      "2022-11-10 18:09:17,223 - test-demo-fixed-all-cate - INFO - the new seed would be stored as test-demo-fixed-all-cate/saved/21.png\n",
      "2022-11-10 18:09:17,224 - test-demo-fixed-all-cate - INFO - add new seed successfully, current seed queue length: 1639, new path: test-demo-fixed-all-cate/saved/21.png, init path: ./data/train_part/2/img_train_20512.png, ref_path: ./data/train_part/2/img_train_20512.png, label: 2, state: 0\n",
      "2022-11-10 18:09:17,227 - test-demo-fixed-all-cate - INFO - the new seed would be stored as test-demo-fixed-all-cate/saved/22.png\n",
      "2022-11-10 18:09:17,228 - test-demo-fixed-all-cate - INFO - add new seed successfully, current seed queue length: 1640, new path: test-demo-fixed-all-cate/saved/22.png, init path: ./data/train_part/2/img_train_20512.png, ref_path: ./test-demo-fixed-all-cate/saved/ref-2-1668074943.9563332.png, label: 2, state: 1\n",
      "2022-11-10 18:09:17,230 - test-demo-fixed-all-cate - INFO - the new seed would be stored as test-demo-fixed-all-cate/saved/23.png\n",
      "2022-11-10 18:09:17,231 - test-demo-fixed-all-cate - INFO - add new seed successfully, current seed queue length: 1641, new path: test-demo-fixed-all-cate/saved/23.png, init path: ./data/train_part/2/img_train_20512.png, ref_path: ./test-demo-fixed-all-cate/saved/ref-3-1668074943.959305.png, label: 2, state: 1\n",
      "2022-11-10 18:09:17,233 - test-demo-fixed-all-cate - INFO - the new seed would be stored as test-demo-fixed-all-cate/saved/24.png\n",
      "2022-11-10 18:09:17,234 - test-demo-fixed-all-cate - INFO - add new seed successfully, current seed queue length: 1642, new path: test-demo-fixed-all-cate/saved/24.png, init path: ./data/train_part/2/img_train_20512.png, ref_path: ./data/train_part/2/img_train_20512.png, label: 2, state: 0\n",
      "2022-11-10 18:09:17,237 - test-demo-fixed-all-cate - INFO - the new seed would be stored as test-demo-fixed-all-cate/saved/25.png\n",
      "2022-11-10 18:09:17,239 - test-demo-fixed-all-cate - INFO - add new seed successfully, current seed queue length: 1643, new path: test-demo-fixed-all-cate/saved/25.png, init path: ./data/train_part/2/img_train_20451.png, ref_path: ./test-demo-fixed-all-cate/saved/ref-0-1668074944.107038.png, label: 2, state: 1\n",
      "2022-11-10 18:09:17,241 - test-demo-fixed-all-cate - INFO - the new seed would be stored as test-demo-fixed-all-cate/saved/26.png\n",
      "2022-11-10 18:09:17,242 - test-demo-fixed-all-cate - INFO - add new seed successfully, current seed queue length: 1644, new path: test-demo-fixed-all-cate/saved/26.png, init path: ./data/train_part/2/img_train_20451.png, ref_path: ./test-demo-fixed-all-cate/saved/ref-1-1668074944.109405.png, label: 2, state: 1\n",
      "2022-11-10 18:09:17,244 - test-demo-fixed-all-cate - INFO - the new seed would be stored as test-demo-fixed-all-cate/saved/27.png\n",
      "2022-11-10 18:09:17,246 - test-demo-fixed-all-cate - INFO - add new seed successfully, current seed queue length: 1645, new path: test-demo-fixed-all-cate/saved/27.png, init path: ./data/train_part/2/img_train_20451.png, ref_path: ./test-demo-fixed-all-cate/saved/ref-2-1668074944.111916.png, label: 2, state: 1\n",
      "2022-11-10 18:09:17,248 - test-demo-fixed-all-cate - INFO - the new seed would be stored as test-demo-fixed-all-cate/saved/28.png\n",
      "2022-11-10 18:09:17,249 - test-demo-fixed-all-cate - INFO - add new seed successfully, current seed queue length: 1646, new path: test-demo-fixed-all-cate/saved/28.png, init path: ./data/train_part/2/img_train_20451.png, ref_path: ./test-demo-fixed-all-cate/saved/ref-3-1668074944.114774.png, label: 2, state: 1\n",
      "2022-11-10 18:09:17,252 - test-demo-fixed-all-cate - INFO - the new seed would be stored as test-demo-fixed-all-cate/saved/29.png\n",
      "2022-11-10 18:09:17,253 - test-demo-fixed-all-cate - INFO - add new seed successfully, current seed queue length: 1647, new path: test-demo-fixed-all-cate/saved/29.png, init path: ./data/train_part/2/img_train_20530.png, ref_path: ./test-demo-fixed-all-cate/saved/ref-1-1668074944.3911061.png, label: 2, state: 1\n",
      "2022-11-10 18:09:17,256 - test-demo-fixed-all-cate - INFO - the new seed would be stored as test-demo-fixed-all-cate/saved/30.png\n",
      "2022-11-10 18:09:17,257 - test-demo-fixed-all-cate - INFO - add new seed successfully, current seed queue length: 1648, new path: test-demo-fixed-all-cate/saved/30.png, init path: ./data/train_part/2/img_train_19885.png, ref_path: ./test-demo-fixed-all-cate/saved/ref-1-1668074944.933504.png, label: 2, state: 1\n",
      "2022-11-10 18:09:17,259 - test-demo-fixed-all-cate - INFO - the new seed would be stored as test-demo-fixed-all-cate/saved/31.png\n",
      "2022-11-10 18:09:17,261 - test-demo-fixed-all-cate - INFO - add new seed successfully, current seed queue length: 1649, new path: test-demo-fixed-all-cate/saved/31.png, init path: ./data/train_part/2/img_train_19885.png, ref_path: ./test-demo-fixed-all-cate/saved/ref-3-1668074945.075891.png, label: 2, state: 1\n",
      "2022-11-10 18:09:17,264 - test-demo-fixed-all-cate - INFO - the new seed would be stored as test-demo-fixed-all-cate/saved/32.png\n",
      "2022-11-10 18:09:17,266 - test-demo-fixed-all-cate - INFO - add new seed successfully, current seed queue length: 1650, new path: test-demo-fixed-all-cate/saved/32.png, init path: ./data/train_part/2/img_train_19885.png, ref_path: ./test-demo-fixed-all-cate/saved/ref-4-1668074945.078202.png, label: 2, state: 1\n",
      "2022-11-10 18:09:17,268 - test-demo-fixed-all-cate - INFO - the new seed would be stored as test-demo-fixed-all-cate/saved/33.png\n",
      "2022-11-10 18:09:17,269 - test-demo-fixed-all-cate - INFO - add new seed successfully, current seed queue length: 1651, new path: test-demo-fixed-all-cate/saved/33.png, init path: ./data/train_part/5/img_train_49525.png, ref_path: ./test-demo-fixed-all-cate/saved/ref-0-1668074945.650505.png, label: 5, state: 1\n",
      "2022-11-10 18:09:17,272 - test-demo-fixed-all-cate - INFO - the new seed would be stored as test-demo-fixed-all-cate/saved/34.png\n",
      "2022-11-10 18:09:17,273 - test-demo-fixed-all-cate - INFO - add new seed successfully, current seed queue length: 1652, new path: test-demo-fixed-all-cate/saved/34.png, init path: ./data/train_part/5/img_train_49525.png, ref_path: ./test-demo-fixed-all-cate/saved/ref-2-1668074945.7834969.png, label: 5, state: 1\n",
      "2022-11-10 18:09:17,290 - test-demo-fixed-all-cate - INFO - dict_keys(['rotate_zero', 'p_or_g']) has been chosen\n",
      "2022-11-10 18:09:17,292 - test-demo-fixed-all-cate - INFO - new image has been created: ref_path: ./test-demo-fixed-all-cate/saved/ref-0-1668074957.2916741.png, init_path: ./data/train_part/0/img_train_2501.png, state: 1\n",
      "2022-11-10 18:09:17,292 - test-demo-fixed-all-cate - INFO - dict_keys(['rotate_zero', 'p_or_g']) has been chosen\n",
      "2022-11-10 18:09:17,294 - test-demo-fixed-all-cate - INFO - new image has been created: ref_path: ./test-demo-fixed-all-cate/saved/ref-1-1668074957.294324.png, init_path: ./data/train_part/0/img_train_2501.png, state: 1\n",
      "2022-11-10 18:09:17,296 - test-demo-fixed-all-cate - INFO - dict_keys(['rotate_zero', 'p_or_g']) has been chosen\n",
      "2022-11-10 18:09:17,298 - test-demo-fixed-all-cate - INFO - new image has been created: ref_path: ./test-demo-fixed-all-cate/saved/ref-2-1668074957.2978308.png, init_path: ./data/train_part/0/img_train_2501.png, state: 1\n",
      "2022-11-10 18:09:17,299 - test-demo-fixed-all-cate - INFO - dict_keys(['rotate_zero', 'p_or_g']) has been chosen\n",
      "2022-11-10 18:09:17,301 - test-demo-fixed-all-cate - INFO - new image has been created: ref_path: ./test-demo-fixed-all-cate/saved/ref-3-1668074957.300676.png, init_path: ./data/train_part/0/img_train_2501.png, state: 1\n",
      "2022-11-10 18:09:17,302 - test-demo-fixed-all-cate - INFO - dict_keys(['rotate_zero', 'p_or_g']) has been chosen\n",
      "2022-11-10 18:09:17,304 - test-demo-fixed-all-cate - INFO - new image has been created: ref_path: ./test-demo-fixed-all-cate/saved/ref-4-1668074957.303555.png, init_path: ./data/train_part/0/img_train_2501.png, state: 1\n",
      "2022-11-10 18:09:17,306 - test-demo-fixed-all-cate - INFO - dict_keys(['rotate_zero', 'p_or_g']) has been chosen\n",
      "2022-11-10 18:09:17,309 - test-demo-fixed-all-cate - INFO - new image has been created: ref_path: ./test-demo-fixed-all-cate/saved/ref-0-1668074957.3082361.png, init_path: ./data/train_part/0/img_train_2205.png, state: 1\n",
      "2022-11-10 18:09:17,309 - test-demo-fixed-all-cate - INFO - dict_keys(['rotate_zero', 'p_or_g']) has been chosen\n",
      "2022-11-10 18:09:17,312 - test-demo-fixed-all-cate - INFO - new image has been created: ref_path: ./test-demo-fixed-all-cate/saved/ref-1-1668074957.312021.png, init_path: ./data/train_part/0/img_train_2205.png, state: 1\n",
      "2022-11-10 18:09:17,314 - test-demo-fixed-all-cate - INFO - dict_keys(['FGSM', 'p_or_g']) has been chosen\n"
     ]
    },
    {
     "name": "stdout",
     "output_type": "stream",
     "text": [
      "========== iteration-1 ==========\n",
      "0.009047553500129276\n"
     ]
    },
    {
     "name": "stderr",
     "output_type": "stream",
     "text": [
      "2022-11-10 18:09:17,534 - test-demo-fixed-all-cate - INFO - new image has been created: ref_path: ./data/train_part/0/img_train_2205.png, init_path: ./data/train_part/0/img_train_2205.png, state: 0\n",
      "2022-11-10 18:09:17,535 - test-demo-fixed-all-cate - INFO - dict_keys(['rotate_zero', 'p_or_g']) has been chosen\n",
      "2022-11-10 18:09:17,537 - test-demo-fixed-all-cate - INFO - new image has been created: ref_path: ./test-demo-fixed-all-cate/saved/ref-3-1668074957.537096.png, init_path: ./data/train_part/0/img_train_2205.png, state: 1\n",
      "2022-11-10 18:09:17,538 - test-demo-fixed-all-cate - INFO - dict_keys(['rotate_zero', 'p_or_g']) has been chosen\n",
      "2022-11-10 18:09:17,540 - test-demo-fixed-all-cate - INFO - new image has been created: ref_path: ./test-demo-fixed-all-cate/saved/ref-4-1668074957.5401118.png, init_path: ./data/train_part/0/img_train_2205.png, state: 1\n",
      "2022-11-10 18:09:17,541 - test-demo-fixed-all-cate - INFO - dict_keys(['FGSM', 'p_or_g']) has been chosen\n",
      "2022-11-10 18:09:17,714 - test-demo-fixed-all-cate - INFO - new image has been created: ref_path: ./data/train_part/0/img_train_2400.png, init_path: ./data/train_part/0/img_train_2400.png, state: 0\n",
      "2022-11-10 18:09:17,715 - test-demo-fixed-all-cate - INFO - dict_keys(['rotate_zero', 'p_or_g']) has been chosen\n",
      "2022-11-10 18:09:17,716 - test-demo-fixed-all-cate - INFO - new image has been created: ref_path: ./test-demo-fixed-all-cate/saved/ref-1-1668074957.71613.png, init_path: ./data/train_part/0/img_train_2400.png, state: 1\n",
      "2022-11-10 18:09:17,718 - test-demo-fixed-all-cate - INFO - dict_keys(['FGSM', 'p_or_g']) has been chosen\n"
     ]
    },
    {
     "name": "stdout",
     "output_type": "stream",
     "text": [
      "0.005512668607067185\n",
      "0.005238561647818663\n"
     ]
    },
    {
     "name": "stderr",
     "output_type": "stream",
     "text": [
      "2022-11-10 18:09:17,891 - test-demo-fixed-all-cate - INFO - new image has been created: ref_path: ./data/train_part/0/img_train_2400.png, init_path: ./data/train_part/0/img_train_2400.png, state: 0\n",
      "2022-11-10 18:09:17,891 - test-demo-fixed-all-cate - INFO - dict_keys(['FGSM', 'p_or_g']) has been chosen\n",
      "2022-11-10 18:09:18,078 - test-demo-fixed-all-cate - INFO - new image has been created: ref_path: ./data/train_part/0/img_train_2400.png, init_path: ./data/train_part/0/img_train_2400.png, state: 0\n",
      "2022-11-10 18:09:18,079 - test-demo-fixed-all-cate - INFO - dict_keys(['FGSM', 'p_or_g']) has been chosen\n"
     ]
    },
    {
     "name": "stdout",
     "output_type": "stream",
     "text": [
      "0.009973098154651836\n",
      "0.006853523735674832\n"
     ]
    },
    {
     "name": "stderr",
     "output_type": "stream",
     "text": [
      "2022-11-10 18:09:18,239 - test-demo-fixed-all-cate - INFO - new image has been created: ref_path: ./data/train_part/0/img_train_2400.png, init_path: ./data/train_part/0/img_train_2400.png, state: 0\n",
      "2022-11-10 18:09:18,240 - test-demo-fixed-all-cate - INFO - dict_keys(['FGSM', 'p_or_g']) has been chosen\n",
      "2022-11-10 18:09:18,437 - test-demo-fixed-all-cate - INFO - new image has been created: ref_path: ./data/train_part/0/img_train_2548.png, init_path: ./data/train_part/0/img_train_2548.png, state: 0\n",
      "2022-11-10 18:09:18,438 - test-demo-fixed-all-cate - INFO - dict_keys(['FGSM', 'p_or_g']) has been chosen\n"
     ]
    },
    {
     "name": "stdout",
     "output_type": "stream",
     "text": [
      "0.005320628519215562\n",
      "0.006686422302183699\n"
     ]
    },
    {
     "name": "stderr",
     "output_type": "stream",
     "text": [
      "2022-11-10 18:09:18,595 - test-demo-fixed-all-cate - INFO - new image has been created: ref_path: ./data/train_part/0/img_train_2548.png, init_path: ./data/train_part/0/img_train_2548.png, state: 0\n",
      "2022-11-10 18:09:18,596 - test-demo-fixed-all-cate - INFO - dict_keys(['rotate_zero', 'p_or_g']) has been chosen\n",
      "2022-11-10 18:09:18,598 - test-demo-fixed-all-cate - INFO - new image has been created: ref_path: ./test-demo-fixed-all-cate/saved/ref-2-1668074958.5973701.png, init_path: ./data/train_part/0/img_train_2548.png, state: 1\n",
      "2022-11-10 18:09:18,599 - test-demo-fixed-all-cate - INFO - dict_keys(['FGSM', 'p_or_g']) has been chosen\n",
      "2022-11-10 18:09:18,773 - test-demo-fixed-all-cate - INFO - new image has been created: ref_path: ./data/train_part/0/img_train_2548.png, init_path: ./data/train_part/0/img_train_2548.png, state: 0\n",
      "2022-11-10 18:09:18,774 - test-demo-fixed-all-cate - INFO - dict_keys(['rotate_zero', 'p_or_g']) has been chosen\n",
      "2022-11-10 18:09:18,776 - test-demo-fixed-all-cate - INFO - new image has been created: ref_path: ./test-demo-fixed-all-cate/saved/ref-4-1668074958.775723.png, init_path: ./data/train_part/0/img_train_2548.png, state: 1\n",
      "2022-11-10 18:09:18,777 - test-demo-fixed-all-cate - INFO - dict_keys(['FGSM', 'p_or_g']) has been chosen\n"
     ]
    },
    {
     "name": "stdout",
     "output_type": "stream",
     "text": [
      "0.007018880130026677\n",
      "0.006798726755090858\n"
     ]
    },
    {
     "name": "stderr",
     "output_type": "stream",
     "text": [
      "2022-11-10 18:09:18,953 - test-demo-fixed-all-cate - INFO - new image has been created: ref_path: ./data/train_part/0/img_train_2486.png, init_path: ./data/train_part/0/img_train_2486.png, state: 0\n",
      "2022-11-10 18:09:18,954 - test-demo-fixed-all-cate - INFO - dict_keys(['FGSM', 'p_or_g']) has been chosen\n",
      "2022-11-10 18:09:19,105 - test-demo-fixed-all-cate - INFO - new image has been created: ref_path: ./data/train_part/0/img_train_2486.png, init_path: ./data/train_part/0/img_train_2486.png, state: 0\n",
      "2022-11-10 18:09:19,106 - test-demo-fixed-all-cate - INFO - dict_keys(['rotate_zero', 'p_or_g']) has been chosen\n",
      "2022-11-10 18:09:19,108 - test-demo-fixed-all-cate - INFO - new image has been created: ref_path: ./test-demo-fixed-all-cate/saved/ref-2-1668074959.107629.png, init_path: ./data/train_part/0/img_train_2486.png, state: 1\n",
      "2022-11-10 18:09:19,109 - test-demo-fixed-all-cate - INFO - dict_keys(['FGSM', 'p_or_g']) has been chosen\n"
     ]
    },
    {
     "name": "stdout",
     "output_type": "stream",
     "text": [
      "0.0053383488056383925\n",
      "0.008882719859216678\n"
     ]
    },
    {
     "name": "stderr",
     "output_type": "stream",
     "text": [
      "2022-11-10 18:09:19,307 - test-demo-fixed-all-cate - INFO - new image has been created: ref_path: ./data/train_part/0/img_train_2486.png, init_path: ./data/train_part/0/img_train_2486.png, state: 0\n",
      "2022-11-10 18:09:19,308 - test-demo-fixed-all-cate - INFO - dict_keys(['rotate_zero', 'p_or_g']) has been chosen\n",
      "2022-11-10 18:09:19,311 - test-demo-fixed-all-cate - INFO - new image has been created: ref_path: ./test-demo-fixed-all-cate/saved/ref-4-1668074959.310745.png, init_path: ./data/train_part/0/img_train_2486.png, state: 1\n",
      "2022-11-10 18:09:19,312 - test-demo-fixed-all-cate - INFO - dict_keys(['FGSM', 'p_or_g']) has been chosen\n",
      "2022-11-10 18:09:19,479 - test-demo-fixed-all-cate - INFO - new image has been created: ref_path: ./data/train_part/6/img_train_60036.png, init_path: ./data/train_part/6/img_train_60036.png, state: 0\n",
      "2022-11-10 18:09:19,480 - test-demo-fixed-all-cate - INFO - dict_keys(['rotate_zero', 'p_or_g']) has been chosen\n",
      "2022-11-10 18:09:19,482 - test-demo-fixed-all-cate - INFO - new image has been created: ref_path: ./test-demo-fixed-all-cate/saved/ref-1-1668074959.48233.png, init_path: ./data/train_part/6/img_train_60036.png, state: 1\n",
      "2022-11-10 18:09:19,483 - test-demo-fixed-all-cate - INFO - dict_keys(['FGSM', 'p_or_g']) has been chosen\n"
     ]
    },
    {
     "name": "stdout",
     "output_type": "stream",
     "text": [
      "0.00774555652361301\n",
      "0.006612596653065671\n"
     ]
    },
    {
     "name": "stderr",
     "output_type": "stream",
     "text": [
      "2022-11-10 18:09:19,637 - test-demo-fixed-all-cate - INFO - new image has been created: ref_path: ./data/train_part/6/img_train_60036.png, init_path: ./data/train_part/6/img_train_60036.png, state: 0\n",
      "2022-11-10 18:09:19,637 - test-demo-fixed-all-cate - INFO - dict_keys(['rotate_zero', 'p_or_g']) has been chosen\n",
      "2022-11-10 18:09:19,639 - test-demo-fixed-all-cate - INFO - new image has been created: ref_path: ./test-demo-fixed-all-cate/saved/ref-3-1668074959.639144.png, init_path: ./data/train_part/6/img_train_60036.png, state: 1\n",
      "2022-11-10 18:09:19,640 - test-demo-fixed-all-cate - INFO - dict_keys(['rotate_zero', 'p_or_g']) has been chosen\n",
      "2022-11-10 18:09:19,643 - test-demo-fixed-all-cate - INFO - new image has been created: ref_path: ./test-demo-fixed-all-cate/saved/ref-4-1668074959.642593.png, init_path: ./data/train_part/6/img_train_60036.png, state: 1\n",
      "2022-11-10 18:09:19,644 - test-demo-fixed-all-cate - INFO - dict_keys(['FGSM', 'p_or_g']) has been chosen\n",
      "2022-11-10 18:09:19,791 - test-demo-fixed-all-cate - INFO - new image has been created: ref_path: ./data/train_part/4/img_train_39804.png, init_path: ./data/train_part/4/img_train_39804.png, state: 0\n",
      "2022-11-10 18:09:19,792 - test-demo-fixed-all-cate - INFO - dict_keys(['rotate_zero', 'p_or_g']) has been chosen\n",
      "2022-11-10 18:09:19,794 - test-demo-fixed-all-cate - INFO - new image has been created: ref_path: ./test-demo-fixed-all-cate/saved/ref-1-1668074959.793241.png, init_path: ./data/train_part/4/img_train_39804.png, state: 1\n",
      "2022-11-10 18:09:19,794 - test-demo-fixed-all-cate - INFO - dict_keys(['rotate_zero', 'p_or_g']) has been chosen\n",
      "2022-11-10 18:09:19,796 - test-demo-fixed-all-cate - INFO - new image has been created: ref_path: ./test-demo-fixed-all-cate/saved/ref-2-1668074959.79581.png, init_path: ./data/train_part/4/img_train_39804.png, state: 1\n",
      "2022-11-10 18:09:19,797 - test-demo-fixed-all-cate - INFO - dict_keys(['rotate_zero', 'p_or_g']) has been chosen\n",
      "2022-11-10 18:09:19,799 - test-demo-fixed-all-cate - INFO - new image has been created: ref_path: ./test-demo-fixed-all-cate/saved/ref-3-1668074959.798453.png, init_path: ./data/train_part/4/img_train_39804.png, state: 1\n",
      "2022-11-10 18:09:19,800 - test-demo-fixed-all-cate - INFO - dict_keys(['FGSM', 'p_or_g']) has been chosen\n"
     ]
    },
    {
     "name": "stdout",
     "output_type": "stream",
     "text": [
      "0.00523482196378358\n",
      "0.006657404873146239\n"
     ]
    },
    {
     "name": "stderr",
     "output_type": "stream",
     "text": [
      "2022-11-10 18:09:19,963 - test-demo-fixed-all-cate - INFO - new image has been created: ref_path: ./data/train_part/4/img_train_39804.png, init_path: ./data/train_part/4/img_train_39804.png, state: 0\n",
      "2022-11-10 18:09:19,964 - test-demo-fixed-all-cate - INFO - dict_keys(['rotate_zero', 'p_or_g']) has been chosen\n",
      "2022-11-10 18:09:19,966 - test-demo-fixed-all-cate - INFO - new image has been created: ref_path: ./test-demo-fixed-all-cate/saved/ref-0-1668074959.965389.png, init_path: ./data/train_part/4/img_train_40619.png, state: 1\n",
      "2022-11-10 18:09:19,966 - test-demo-fixed-all-cate - INFO - dict_keys(['rotate_zero', 'p_or_g']) has been chosen\n",
      "2022-11-10 18:09:19,968 - test-demo-fixed-all-cate - INFO - new image has been created: ref_path: ./test-demo-fixed-all-cate/saved/ref-1-1668074959.9679942.png, init_path: ./data/train_part/4/img_train_40619.png, state: 1\n",
      "2022-11-10 18:09:19,969 - test-demo-fixed-all-cate - INFO - dict_keys(['rotate_zero', 'p_or_g']) has been chosen\n",
      "2022-11-10 18:09:19,971 - test-demo-fixed-all-cate - INFO - new image has been created: ref_path: ./test-demo-fixed-all-cate/saved/ref-2-1668074959.970756.png, init_path: ./data/train_part/4/img_train_40619.png, state: 1\n",
      "2022-11-10 18:09:19,972 - test-demo-fixed-all-cate - INFO - dict_keys(['FGSM', 'p_or_g']) has been chosen\n",
      "2022-11-10 18:09:20,130 - test-demo-fixed-all-cate - INFO - new image has been created: ref_path: ./data/train_part/4/img_train_40619.png, init_path: ./data/train_part/4/img_train_40619.png, state: 0\n",
      "2022-11-10 18:09:20,131 - test-demo-fixed-all-cate - INFO - dict_keys(['rotate_zero', 'p_or_g']) has been chosen\n",
      "2022-11-10 18:09:20,132 - test-demo-fixed-all-cate - INFO - new image has been created: ref_path: ./test-demo-fixed-all-cate/saved/ref-4-1668074960.1322181.png, init_path: ./data/train_part/4/img_train_40619.png, state: 1\n",
      "2022-11-10 18:09:20,133 - test-demo-fixed-all-cate - INFO - dict_keys(['FGSM', 'p_or_g']) has been chosen\n"
     ]
    },
    {
     "name": "stdout",
     "output_type": "stream",
     "text": [
      "0.009573859929983476\n",
      "0.0067136673090148515\n"
     ]
    },
    {
     "name": "stderr",
     "output_type": "stream",
     "text": [
      "2022-11-10 18:09:20,271 - test-demo-fixed-all-cate - INFO - new image has been created: ref_path: ./data/train_part/3/img_train_30285.png, init_path: ./data/train_part/3/img_train_30285.png, state: 0\n",
      "2022-11-10 18:09:20,272 - test-demo-fixed-all-cate - INFO - dict_keys(['rotate_zero', 'p_or_g']) has been chosen\n",
      "2022-11-10 18:09:20,274 - test-demo-fixed-all-cate - INFO - new image has been created: ref_path: ./test-demo-fixed-all-cate/saved/ref-1-1668074960.273267.png, init_path: ./data/train_part/3/img_train_30285.png, state: 1\n",
      "2022-11-10 18:09:20,274 - test-demo-fixed-all-cate - INFO - dict_keys(['rotate_zero', 'p_or_g']) has been chosen\n",
      "2022-11-10 18:09:20,277 - test-demo-fixed-all-cate - INFO - new image has been created: ref_path: ./test-demo-fixed-all-cate/saved/ref-2-1668074960.276546.png, init_path: ./data/train_part/3/img_train_30285.png, state: 1\n",
      "2022-11-10 18:09:20,278 - test-demo-fixed-all-cate - INFO - dict_keys(['rotate_zero', 'p_or_g']) has been chosen\n",
      "2022-11-10 18:09:20,280 - test-demo-fixed-all-cate - INFO - new image has been created: ref_path: ./test-demo-fixed-all-cate/saved/ref-3-1668074960.279652.png, init_path: ./data/train_part/3/img_train_30285.png, state: 1\n",
      "2022-11-10 18:09:20,281 - test-demo-fixed-all-cate - INFO - dict_keys(['FGSM', 'p_or_g']) has been chosen\n",
      "2022-11-10 18:09:20,429 - test-demo-fixed-all-cate - INFO - new image has been created: ref_path: ./data/train_part/3/img_train_30285.png, init_path: ./data/train_part/3/img_train_30285.png, state: 0\n",
      "2022-11-10 18:09:20,430 - test-demo-fixed-all-cate - INFO - dict_keys(['rotate_zero', 'p_or_g']) has been chosen\n",
      "2022-11-10 18:09:20,432 - test-demo-fixed-all-cate - INFO - new image has been created: ref_path: ./test-demo-fixed-all-cate/saved/ref-0-1668074960.4317608.png, init_path: ./data/train_part/3/img_train_29824.png, state: 1\n",
      "2022-11-10 18:09:20,433 - test-demo-fixed-all-cate - INFO - dict_keys(['FGSM', 'p_or_g']) has been chosen\n"
     ]
    },
    {
     "name": "stdout",
     "output_type": "stream",
     "text": [
      "0.009600106469034824\n",
      "0.008476153935120707\n"
     ]
    },
    {
     "name": "stderr",
     "output_type": "stream",
     "text": [
      "2022-11-10 18:09:20,581 - test-demo-fixed-all-cate - INFO - new image has been created: ref_path: ./data/train_part/3/img_train_29824.png, init_path: ./data/train_part/3/img_train_29824.png, state: 0\n",
      "2022-11-10 18:09:20,582 - test-demo-fixed-all-cate - INFO - dict_keys(['FGSM', 'p_or_g']) has been chosen\n",
      "2022-11-10 18:09:20,727 - test-demo-fixed-all-cate - INFO - new image has been created: ref_path: ./data/train_part/3/img_train_29824.png, init_path: ./data/train_part/3/img_train_29824.png, state: 0\n",
      "2022-11-10 18:09:20,728 - test-demo-fixed-all-cate - INFO - dict_keys(['rotate_zero', 'p_or_g']) has been chosen\n",
      "2022-11-10 18:09:20,730 - test-demo-fixed-all-cate - INFO - new image has been created: ref_path: ./test-demo-fixed-all-cate/saved/ref-3-1668074960.729606.png, init_path: ./data/train_part/3/img_train_29824.png, state: 1\n",
      "2022-11-10 18:09:20,731 - test-demo-fixed-all-cate - INFO - dict_keys(['rotate_zero', 'p_or_g']) has been chosen\n",
      "2022-11-10 18:09:20,733 - test-demo-fixed-all-cate - INFO - new image has been created: ref_path: ./test-demo-fixed-all-cate/saved/ref-4-1668074960.732651.png, init_path: ./data/train_part/3/img_train_29824.png, state: 1\n",
      "2022-11-10 18:09:20,734 - test-demo-fixed-all-cate - INFO - dict_keys(['FGSM', 'p_or_g']) has been chosen\n"
     ]
    },
    {
     "name": "stdout",
     "output_type": "stream",
     "text": [
      "0.009720646342603802\n",
      "0.0070474659386594385\n"
     ]
    },
    {
     "name": "stderr",
     "output_type": "stream",
     "text": [
      "2022-11-10 18:09:20,883 - test-demo-fixed-all-cate - INFO - new image has been created: ref_path: ./data/train_part/2/img_train_19730.png, init_path: ./data/train_part/2/img_train_19730.png, state: 0\n",
      "2022-11-10 18:09:20,884 - test-demo-fixed-all-cate - INFO - dict_keys(['rotate_zero', 'p_or_g']) has been chosen\n",
      "2022-11-10 18:09:20,886 - test-demo-fixed-all-cate - INFO - new image has been created: ref_path: ./test-demo-fixed-all-cate/saved/ref-1-1668074960.885422.png, init_path: ./data/train_part/2/img_train_19730.png, state: 1\n",
      "2022-11-10 18:09:20,887 - test-demo-fixed-all-cate - INFO - dict_keys(['rotate_zero', 'p_or_g']) has been chosen\n",
      "2022-11-10 18:09:20,889 - test-demo-fixed-all-cate - INFO - new image has been created: ref_path: ./test-demo-fixed-all-cate/saved/ref-2-1668074960.88882.png, init_path: ./data/train_part/2/img_train_19730.png, state: 1\n",
      "2022-11-10 18:09:20,890 - test-demo-fixed-all-cate - INFO - dict_keys(['FGSM', 'p_or_g']) has been chosen\n",
      "2022-11-10 18:09:21,038 - test-demo-fixed-all-cate - INFO - new image has been created: ref_path: ./data/train_part/2/img_train_19730.png, init_path: ./data/train_part/2/img_train_19730.png, state: 0\n",
      "2022-11-10 18:09:21,040 - test-demo-fixed-all-cate - INFO - dict_keys(['rotate_zero', 'p_or_g']) has been chosen\n",
      "2022-11-10 18:09:21,042 - test-demo-fixed-all-cate - INFO - new image has been created: ref_path: ./test-demo-fixed-all-cate/saved/ref-4-1668074961.0423522.png, init_path: ./data/train_part/2/img_train_19730.png, state: 1\n",
      "2022-11-10 18:09:21,044 - test-demo-fixed-all-cate - INFO - dict_keys(['FGSM', 'p_or_g']) has been chosen\n"
     ]
    },
    {
     "name": "stdout",
     "output_type": "stream",
     "text": [
      "0.007656606255743029\n",
      "0.006165877994612797\n"
     ]
    },
    {
     "name": "stderr",
     "output_type": "stream",
     "text": [
      "2022-11-10 18:09:21,194 - test-demo-fixed-all-cate - INFO - new image has been created: ref_path: ./data/train_part/2/img_train_19732.png, init_path: ./data/train_part/2/img_train_19732.png, state: 0\n",
      "2022-11-10 18:09:21,194 - test-demo-fixed-all-cate - INFO - dict_keys(['rotate_zero', 'p_or_g']) has been chosen\n",
      "2022-11-10 18:09:21,197 - test-demo-fixed-all-cate - INFO - new image has been created: ref_path: ./test-demo-fixed-all-cate/saved/ref-1-1668074961.196393.png, init_path: ./data/train_part/2/img_train_19732.png, state: 1\n",
      "2022-11-10 18:09:21,197 - test-demo-fixed-all-cate - INFO - dict_keys(['rotate_zero', 'p_or_g']) has been chosen\n",
      "2022-11-10 18:09:21,199 - test-demo-fixed-all-cate - INFO - new image has been created: ref_path: ./test-demo-fixed-all-cate/saved/ref-2-1668074961.199145.png, init_path: ./data/train_part/2/img_train_19732.png, state: 1\n",
      "2022-11-10 18:09:21,200 - test-demo-fixed-all-cate - INFO - dict_keys(['FGSM', 'p_or_g']) has been chosen\n",
      "2022-11-10 18:09:21,328 - test-demo-fixed-all-cate - INFO - new image has been created: ref_path: ./data/train_part/2/img_train_19732.png, init_path: ./data/train_part/2/img_train_19732.png, state: 0\n",
      "2022-11-10 18:09:21,328 - test-demo-fixed-all-cate - INFO - dict_keys(['rotate_zero', 'p_or_g']) has been chosen\n",
      "2022-11-10 18:09:21,330 - test-demo-fixed-all-cate - INFO - new image has been created: ref_path: ./test-demo-fixed-all-cate/saved/ref-4-1668074961.329644.png, init_path: ./data/train_part/2/img_train_19732.png, state: 1\n",
      "2022-11-10 18:09:21,331 - test-demo-fixed-all-cate - INFO - dict_keys(['FGSM', 'p_or_g']) has been chosen\n"
     ]
    },
    {
     "name": "stdout",
     "output_type": "stream",
     "text": [
      "0.0064677255290616\n",
      "0.008094798502109918\n"
     ]
    },
    {
     "name": "stderr",
     "output_type": "stream",
     "text": [
      "2022-11-10 18:09:21,469 - test-demo-fixed-all-cate - INFO - new image has been created: ref_path: ./data/train_part/2/img_train_19953.png, init_path: ./data/train_part/2/img_train_19953.png, state: 0\n",
      "2022-11-10 18:09:21,470 - test-demo-fixed-all-cate - INFO - dict_keys(['rotate_zero', 'p_or_g']) has been chosen\n",
      "2022-11-10 18:09:21,472 - test-demo-fixed-all-cate - INFO - new image has been created: ref_path: ./test-demo-fixed-all-cate/saved/ref-1-1668074961.4720562.png, init_path: ./data/train_part/2/img_train_19953.png, state: 1\n",
      "2022-11-10 18:09:21,473 - test-demo-fixed-all-cate - INFO - dict_keys(['rotate_zero', 'p_or_g']) has been chosen\n",
      "2022-11-10 18:09:21,475 - test-demo-fixed-all-cate - INFO - new image has been created: ref_path: ./test-demo-fixed-all-cate/saved/ref-2-1668074961.4744692.png, init_path: ./data/train_part/2/img_train_19953.png, state: 1\n",
      "2022-11-10 18:09:21,476 - test-demo-fixed-all-cate - INFO - dict_keys(['rotate_zero', 'p_or_g']) has been chosen\n",
      "2022-11-10 18:09:21,478 - test-demo-fixed-all-cate - INFO - new image has been created: ref_path: ./test-demo-fixed-all-cate/saved/ref-3-1668074961.477142.png, init_path: ./data/train_part/2/img_train_19953.png, state: 1\n",
      "2022-11-10 18:09:21,479 - test-demo-fixed-all-cate - INFO - dict_keys(['rotate_zero', 'p_or_g']) has been chosen\n",
      "2022-11-10 18:09:21,481 - test-demo-fixed-all-cate - INFO - new image has been created: ref_path: ./test-demo-fixed-all-cate/saved/ref-4-1668074961.4810839.png, init_path: ./data/train_part/2/img_train_19953.png, state: 1\n",
      "2022-11-10 18:09:21,485 - test-demo-fixed-all-cate - INFO - dict_keys(['rotate_zero', 'p_or_g']) has been chosen\n",
      "2022-11-10 18:09:21,487 - test-demo-fixed-all-cate - INFO - new image has been created: ref_path: ./test-demo-fixed-all-cate/saved/ref-0-1668074961.4866078.png, init_path: ./data/train_part/5/img_train_49177.png, state: 1\n",
      "2022-11-10 18:09:21,488 - test-demo-fixed-all-cate - INFO - dict_keys(['rotate_zero', 'p_or_g']) has been chosen\n",
      "2022-11-10 18:09:21,489 - test-demo-fixed-all-cate - INFO - new image has been created: ref_path: ./test-demo-fixed-all-cate/saved/ref-1-1668074961.489256.png, init_path: ./data/train_part/5/img_train_49177.png, state: 1\n",
      "2022-11-10 18:09:21,492 - test-demo-fixed-all-cate - INFO - dict_keys(['FGSM', 'p_or_g']) has been chosen\n",
      "2022-11-10 18:09:21,645 - test-demo-fixed-all-cate - INFO - new image has been created: ref_path: ./data/train_part/5/img_train_49177.png, init_path: ./data/train_part/5/img_train_49177.png, state: 0\n",
      "2022-11-10 18:09:21,646 - test-demo-fixed-all-cate - INFO - dict_keys(['rotate_zero', 'p_or_g']) has been chosen\n",
      "2022-11-10 18:09:21,648 - test-demo-fixed-all-cate - INFO - new image has been created: ref_path: ./test-demo-fixed-all-cate/saved/ref-3-1668074961.64742.png, init_path: ./data/train_part/5/img_train_49177.png, state: 1\n",
      "2022-11-10 18:09:21,649 - test-demo-fixed-all-cate - INFO - dict_keys(['FGSM', 'p_or_g']) has been chosen\n"
     ]
    },
    {
     "name": "stdout",
     "output_type": "stream",
     "text": [
      "0.005103167416010124\n",
      "0.008023785606404633\n"
     ]
    },
    {
     "name": "stderr",
     "output_type": "stream",
     "text": [
      "2022-11-10 18:09:21,792 - test-demo-fixed-all-cate - INFO - new image has been created: ref_path: ./data/train_part/5/img_train_49177.png, init_path: ./data/train_part/5/img_train_49177.png, state: 0\n",
      "2022-11-10 18:09:21,793 - test-demo-fixed-all-cate - INFO - dict_keys(['FGSM', 'p_or_g']) has been chosen\n",
      "2022-11-10 18:09:21,946 - test-demo-fixed-all-cate - INFO - new image has been created: ref_path: ./data/train_part/5/img_train_50152.png, init_path: ./data/train_part/5/img_train_50152.png, state: 0\n",
      "2022-11-10 18:09:21,947 - test-demo-fixed-all-cate - INFO - dict_keys(['rotate_zero', 'p_or_g']) has been chosen\n",
      "2022-11-10 18:09:21,949 - test-demo-fixed-all-cate - INFO - new image has been created: ref_path: ./test-demo-fixed-all-cate/saved/ref-1-1668074961.948724.png, init_path: ./data/train_part/5/img_train_50152.png, state: 1\n",
      "2022-11-10 18:09:21,950 - test-demo-fixed-all-cate - INFO - dict_keys(['rotate_zero', 'p_or_g']) has been chosen\n",
      "2022-11-10 18:09:21,954 - test-demo-fixed-all-cate - INFO - new image has been created: ref_path: ./test-demo-fixed-all-cate/saved/ref-2-1668074961.9533591.png, init_path: ./data/train_part/5/img_train_50152.png, state: 1\n",
      "2022-11-10 18:09:21,955 - test-demo-fixed-all-cate - INFO - dict_keys(['FGSM', 'p_or_g']) has been chosen\n"
     ]
    },
    {
     "name": "stdout",
     "output_type": "stream",
     "text": [
      "0.007482786036093296\n",
      "0.009646136912697008\n"
     ]
    },
    {
     "name": "stderr",
     "output_type": "stream",
     "text": [
      "2022-11-10 18:09:22,129 - test-demo-fixed-all-cate - INFO - new image has been created: ref_path: ./data/train_part/5/img_train_50152.png, init_path: ./data/train_part/5/img_train_50152.png, state: 0\n",
      "2022-11-10 18:09:22,130 - test-demo-fixed-all-cate - INFO - dict_keys(['FGSM', 'p_or_g']) has been chosen\n",
      "2022-11-10 18:09:22,269 - test-demo-fixed-all-cate - INFO - new image has been created: ref_path: ./data/train_part/5/img_train_50152.png, init_path: ./data/train_part/5/img_train_50152.png, state: 0\n",
      "2022-11-10 18:09:22,271 - test-demo-fixed-all-cate - INFO - dict_keys(['FGSM', 'p_or_g']) has been chosen\n"
     ]
    },
    {
     "name": "stdout",
     "output_type": "stream",
     "text": [
      "0.005629315163217777\n",
      "0.0068883481372395885\n"
     ]
    },
    {
     "name": "stderr",
     "output_type": "stream",
     "text": [
      "2022-11-10 18:09:22,425 - test-demo-fixed-all-cate - INFO - new image has been created: ref_path: ./data/train_part/5/img_train_49952.png, init_path: ./data/train_part/5/img_train_49952.png, state: 0\n",
      "2022-11-10 18:09:22,426 - test-demo-fixed-all-cate - INFO - dict_keys(['rotate_zero', 'p_or_g']) has been chosen\n",
      "2022-11-10 18:09:22,429 - test-demo-fixed-all-cate - INFO - new image has been created: ref_path: ./test-demo-fixed-all-cate/saved/ref-1-1668074962.428312.png, init_path: ./data/train_part/5/img_train_49952.png, state: 1\n",
      "2022-11-10 18:09:22,429 - test-demo-fixed-all-cate - INFO - dict_keys(['FGSM', 'p_or_g']) has been chosen\n",
      "2022-11-10 18:09:22,598 - test-demo-fixed-all-cate - INFO - new image has been created: ref_path: ./data/train_part/5/img_train_49952.png, init_path: ./data/train_part/5/img_train_49952.png, state: 0\n",
      "2022-11-10 18:09:22,599 - test-demo-fixed-all-cate - INFO - dict_keys(['FGSM', 'p_or_g']) has been chosen\n"
     ]
    },
    {
     "name": "stdout",
     "output_type": "stream",
     "text": [
      "0.007134505988947374\n",
      "0.005978124985535946\n"
     ]
    },
    {
     "name": "stderr",
     "output_type": "stream",
     "text": [
      "2022-11-10 18:09:22,744 - test-demo-fixed-all-cate - INFO - new image has been created: ref_path: ./data/train_part/5/img_train_49952.png, init_path: ./data/train_part/5/img_train_49952.png, state: 0\n",
      "2022-11-10 18:09:22,745 - test-demo-fixed-all-cate - INFO - dict_keys(['FGSM', 'p_or_g']) has been chosen\n",
      "2022-11-10 18:09:22,896 - test-demo-fixed-all-cate - INFO - new image has been created: ref_path: ./data/train_part/5/img_train_49952.png, init_path: ./data/train_part/5/img_train_49952.png, state: 0\n",
      "2022-11-10 18:09:22,896 - test-demo-fixed-all-cate - INFO - update seed info successfully, current p is 0.95\n",
      "2022-11-10 18:09:22,897 - test-demo-fixed-all-cate - INFO - update seed info successfully, current p is 0.9\n",
      "2022-11-10 18:09:22,898 - test-demo-fixed-all-cate - INFO - update seed info successfully, current p is 0.95\n",
      "2022-11-10 18:09:22,898 - test-demo-fixed-all-cate - INFO - update seed info successfully, current p is 0.95\n",
      "2022-11-10 18:09:22,899 - test-demo-fixed-all-cate - INFO - update seed info successfully, current p is 0.95\n",
      "2022-11-10 18:09:22,900 - test-demo-fixed-all-cate - INFO - update seed info successfully, current p is 0.95\n",
      "2022-11-10 18:09:22,901 - test-demo-fixed-all-cate - INFO - update seed info successfully, current p is 0.95\n",
      "2022-11-10 18:09:22,902 - test-demo-fixed-all-cate - INFO - update seed info successfully, current p is 0.95\n",
      "2022-11-10 18:09:22,903 - test-demo-fixed-all-cate - INFO - update seed info successfully, current p is 0.95\n",
      "2022-11-10 18:09:22,904 - test-demo-fixed-all-cate - INFO - update seed info successfully, current p is 0.95\n",
      "2022-11-10 18:09:22,905 - test-demo-fixed-all-cate - INFO - update seed info successfully, current p is 0.95\n",
      "2022-11-10 18:09:22,906 - test-demo-fixed-all-cate - INFO - update seed info successfully, current p is 0.95\n",
      "2022-11-10 18:09:22,907 - test-demo-fixed-all-cate - INFO - update seed info successfully, current p is 0.95\n",
      "2022-11-10 18:09:22,908 - test-demo-fixed-all-cate - INFO - update seed info successfully, current p is 0.95\n",
      "2022-11-10 18:09:22,909 - test-demo-fixed-all-cate - INFO - update seed info successfully, current p is 0.95\n",
      "2022-11-10 18:09:22,910 - test-demo-fixed-all-cate - INFO - update seed info successfully, current p is 0.95\n"
     ]
    },
    {
     "name": "stdout",
     "output_type": "stream",
     "text": [
      "0.005726736494141391\n"
     ]
    },
    {
     "name": "stderr",
     "output_type": "stream",
     "text": [
      "2022-11-10 18:09:23,164 - test-demo-fixed-all-cate - INFO - for test-demo-fixed-all-cate/fail_test/0/35.png: its label should be 0, but got 4, it would be stored in test-demo-fixed-all-cate/fail_test/0/35.png\n",
      "2022-11-10 18:09:23,894 - test-demo-fixed-all-cate - INFO - for test-demo-fixed-all-cate/fail_test/2/36.png: its label should be 2, but got 4, it would be stored in test-demo-fixed-all-cate/fail_test/2/36.png\n",
      "2022-11-10 18:09:33,934 - test-demo-fixed-all-cate - INFO - the new seed would be stored as test-demo-fixed-all-cate/saved/37.png\n",
      "2022-11-10 18:09:33,936 - test-demo-fixed-all-cate - INFO - add new seed successfully, current seed queue length: 1653, new path: test-demo-fixed-all-cate/saved/37.png, init path: ./data/train_part/0/img_train_2205.png, ref_path: ./data/train_part/0/img_train_2205.png, label: 0, state: 0\n",
      "2022-11-10 18:09:33,937 - test-demo-fixed-all-cate - INFO - the new seed would be stored as test-demo-fixed-all-cate/saved/38.png\n",
      "2022-11-10 18:09:33,939 - test-demo-fixed-all-cate - INFO - add new seed successfully, current seed queue length: 1654, new path: test-demo-fixed-all-cate/saved/38.png, init path: ./data/train_part/0/img_train_2400.png, ref_path: ./data/train_part/0/img_train_2400.png, label: 0, state: 0\n",
      "2022-11-10 18:09:33,941 - test-demo-fixed-all-cate - INFO - the new seed would be stored as test-demo-fixed-all-cate/saved/39.png\n",
      "2022-11-10 18:09:33,942 - test-demo-fixed-all-cate - INFO - add new seed successfully, current seed queue length: 1655, new path: test-demo-fixed-all-cate/saved/39.png, init path: ./data/train_part/0/img_train_2400.png, ref_path: ./data/train_part/0/img_train_2400.png, label: 0, state: 0\n",
      "2022-11-10 18:09:33,944 - test-demo-fixed-all-cate - INFO - the new seed would be stored as test-demo-fixed-all-cate/saved/40.png\n",
      "2022-11-10 18:09:33,945 - test-demo-fixed-all-cate - INFO - add new seed successfully, current seed queue length: 1656, new path: test-demo-fixed-all-cate/saved/40.png, init path: ./data/train_part/0/img_train_2400.png, ref_path: ./data/train_part/0/img_train_2400.png, label: 0, state: 0\n",
      "2022-11-10 18:09:33,948 - test-demo-fixed-all-cate - INFO - the new seed would be stored as test-demo-fixed-all-cate/saved/41.png\n",
      "2022-11-10 18:09:33,949 - test-demo-fixed-all-cate - INFO - add new seed successfully, current seed queue length: 1657, new path: test-demo-fixed-all-cate/saved/41.png, init path: ./data/train_part/0/img_train_2400.png, ref_path: ./data/train_part/0/img_train_2400.png, label: 0, state: 0\n",
      "2022-11-10 18:09:33,951 - test-demo-fixed-all-cate - INFO - the new seed would be stored as test-demo-fixed-all-cate/saved/42.png\n",
      "2022-11-10 18:09:33,953 - test-demo-fixed-all-cate - INFO - add new seed successfully, current seed queue length: 1658, new path: test-demo-fixed-all-cate/saved/42.png, init path: ./data/train_part/0/img_train_2548.png, ref_path: ./data/train_part/0/img_train_2548.png, label: 0, state: 0\n",
      "2022-11-10 18:09:33,955 - test-demo-fixed-all-cate - INFO - the new seed would be stored as test-demo-fixed-all-cate/saved/43.png\n",
      "2022-11-10 18:09:33,957 - test-demo-fixed-all-cate - INFO - add new seed successfully, current seed queue length: 1659, new path: test-demo-fixed-all-cate/saved/43.png, init path: ./data/train_part/0/img_train_2548.png, ref_path: ./data/train_part/0/img_train_2548.png, label: 0, state: 0\n",
      "2022-11-10 18:09:33,959 - test-demo-fixed-all-cate - INFO - the new seed would be stored as test-demo-fixed-all-cate/saved/44.png\n",
      "2022-11-10 18:09:33,960 - test-demo-fixed-all-cate - INFO - add new seed successfully, current seed queue length: 1660, new path: test-demo-fixed-all-cate/saved/44.png, init path: ./data/train_part/0/img_train_2548.png, ref_path: ./data/train_part/0/img_train_2548.png, label: 0, state: 0\n",
      "2022-11-10 18:09:33,962 - test-demo-fixed-all-cate - INFO - the new seed would be stored as test-demo-fixed-all-cate/saved/45.png\n",
      "2022-11-10 18:09:33,963 - test-demo-fixed-all-cate - INFO - add new seed successfully, current seed queue length: 1661, new path: test-demo-fixed-all-cate/saved/45.png, init path: ./data/train_part/0/img_train_2486.png, ref_path: ./data/train_part/0/img_train_2486.png, label: 0, state: 0\n",
      "2022-11-10 18:09:33,965 - test-demo-fixed-all-cate - INFO - the new seed would be stored as test-demo-fixed-all-cate/saved/46.png\n",
      "2022-11-10 18:09:33,966 - test-demo-fixed-all-cate - INFO - add new seed successfully, current seed queue length: 1662, new path: test-demo-fixed-all-cate/saved/46.png, init path: ./data/train_part/0/img_train_2486.png, ref_path: ./data/train_part/0/img_train_2486.png, label: 0, state: 0\n",
      "2022-11-10 18:09:33,968 - test-demo-fixed-all-cate - INFO - the new seed would be stored as test-demo-fixed-all-cate/saved/47.png\n",
      "2022-11-10 18:09:33,969 - test-demo-fixed-all-cate - INFO - add new seed successfully, current seed queue length: 1663, new path: test-demo-fixed-all-cate/saved/47.png, init path: ./data/train_part/0/img_train_2486.png, ref_path: ./test-demo-fixed-all-cate/saved/ref-2-1668074959.107629.png, label: 0, state: 1\n",
      "2022-11-10 18:09:33,971 - test-demo-fixed-all-cate - INFO - the new seed would be stored as test-demo-fixed-all-cate/saved/48.png\n",
      "2022-11-10 18:09:33,973 - test-demo-fixed-all-cate - INFO - add new seed successfully, current seed queue length: 1664, new path: test-demo-fixed-all-cate/saved/48.png, init path: ./data/train_part/0/img_train_2486.png, ref_path: ./data/train_part/0/img_train_2486.png, label: 0, state: 0\n",
      "2022-11-10 18:09:33,974 - test-demo-fixed-all-cate - INFO - the new seed would be stored as test-demo-fixed-all-cate/saved/49.png\n",
      "2022-11-10 18:09:33,976 - test-demo-fixed-all-cate - INFO - add new seed successfully, current seed queue length: 1665, new path: test-demo-fixed-all-cate/saved/49.png, init path: ./data/train_part/0/img_train_2486.png, ref_path: ./test-demo-fixed-all-cate/saved/ref-4-1668074959.310745.png, label: 0, state: 1\n",
      "2022-11-10 18:09:33,978 - test-demo-fixed-all-cate - INFO - the new seed would be stored as test-demo-fixed-all-cate/saved/50.png\n",
      "2022-11-10 18:09:33,979 - test-demo-fixed-all-cate - INFO - add new seed successfully, current seed queue length: 1666, new path: test-demo-fixed-all-cate/saved/50.png, init path: ./data/train_part/6/img_train_60036.png, ref_path: ./test-demo-fixed-all-cate/saved/ref-3-1668074959.639144.png, label: 6, state: 1\n",
      "2022-11-10 18:09:33,981 - test-demo-fixed-all-cate - INFO - the new seed would be stored as test-demo-fixed-all-cate/saved/51.png\n",
      "2022-11-10 18:09:33,982 - test-demo-fixed-all-cate - INFO - add new seed successfully, current seed queue length: 1667, new path: test-demo-fixed-all-cate/saved/51.png, init path: ./data/train_part/6/img_train_60036.png, ref_path: ./test-demo-fixed-all-cate/saved/ref-4-1668074959.642593.png, label: 6, state: 1\n",
      "2022-11-10 18:09:33,984 - test-demo-fixed-all-cate - INFO - the new seed would be stored as test-demo-fixed-all-cate/saved/52.png\n",
      "2022-11-10 18:09:33,985 - test-demo-fixed-all-cate - INFO - add new seed successfully, current seed queue length: 1668, new path: test-demo-fixed-all-cate/saved/52.png, init path: ./data/train_part/4/img_train_39804.png, ref_path: ./test-demo-fixed-all-cate/saved/ref-1-1668074959.793241.png, label: 4, state: 1\n",
      "2022-11-10 18:09:33,988 - test-demo-fixed-all-cate - INFO - the new seed would be stored as test-demo-fixed-all-cate/saved/53.png\n",
      "2022-11-10 18:09:33,989 - test-demo-fixed-all-cate - INFO - add new seed successfully, current seed queue length: 1669, new path: test-demo-fixed-all-cate/saved/53.png, init path: ./data/train_part/4/img_train_39804.png, ref_path: ./test-demo-fixed-all-cate/saved/ref-2-1668074959.79581.png, label: 4, state: 1\n",
      "2022-11-10 18:09:33,991 - test-demo-fixed-all-cate - INFO - the new seed would be stored as test-demo-fixed-all-cate/saved/54.png\n",
      "2022-11-10 18:09:33,993 - test-demo-fixed-all-cate - INFO - add new seed successfully, current seed queue length: 1670, new path: test-demo-fixed-all-cate/saved/54.png, init path: ./data/train_part/4/img_train_39804.png, ref_path: ./test-demo-fixed-all-cate/saved/ref-3-1668074959.798453.png, label: 4, state: 1\n",
      "2022-11-10 18:09:33,995 - test-demo-fixed-all-cate - INFO - the new seed would be stored as test-demo-fixed-all-cate/saved/55.png\n",
      "2022-11-10 18:09:33,996 - test-demo-fixed-all-cate - INFO - add new seed successfully, current seed queue length: 1671, new path: test-demo-fixed-all-cate/saved/55.png, init path: ./data/train_part/3/img_train_30285.png, ref_path: ./test-demo-fixed-all-cate/saved/ref-1-1668074960.273267.png, label: 3, state: 1\n",
      "2022-11-10 18:09:33,998 - test-demo-fixed-all-cate - INFO - the new seed would be stored as test-demo-fixed-all-cate/saved/56.png\n",
      "2022-11-10 18:09:34,000 - test-demo-fixed-all-cate - INFO - add new seed successfully, current seed queue length: 1672, new path: test-demo-fixed-all-cate/saved/56.png, init path: ./data/train_part/3/img_train_30285.png, ref_path: ./test-demo-fixed-all-cate/saved/ref-2-1668074960.276546.png, label: 3, state: 1\n",
      "2022-11-10 18:09:34,001 - test-demo-fixed-all-cate - INFO - the new seed would be stored as test-demo-fixed-all-cate/saved/57.png\n",
      "2022-11-10 18:09:34,003 - test-demo-fixed-all-cate - INFO - add new seed successfully, current seed queue length: 1673, new path: test-demo-fixed-all-cate/saved/57.png, init path: ./data/train_part/3/img_train_30285.png, ref_path: ./test-demo-fixed-all-cate/saved/ref-3-1668074960.279652.png, label: 3, state: 1\n",
      "2022-11-10 18:09:34,005 - test-demo-fixed-all-cate - INFO - the new seed would be stored as test-demo-fixed-all-cate/saved/58.png\n",
      "2022-11-10 18:09:34,007 - test-demo-fixed-all-cate - INFO - add new seed successfully, current seed queue length: 1674, new path: test-demo-fixed-all-cate/saved/58.png, init path: ./data/train_part/2/img_train_19730.png, ref_path: ./test-demo-fixed-all-cate/saved/ref-1-1668074960.885422.png, label: 2, state: 1\n",
      "2022-11-10 18:09:34,009 - test-demo-fixed-all-cate - INFO - the new seed would be stored as test-demo-fixed-all-cate/saved/59.png\n",
      "2022-11-10 18:09:34,010 - test-demo-fixed-all-cate - INFO - add new seed successfully, current seed queue length: 1675, new path: test-demo-fixed-all-cate/saved/59.png, init path: ./data/train_part/2/img_train_19730.png, ref_path: ./test-demo-fixed-all-cate/saved/ref-2-1668074960.88882.png, label: 2, state: 1\n",
      "2022-11-10 18:09:34,012 - test-demo-fixed-all-cate - INFO - the new seed would be stored as test-demo-fixed-all-cate/saved/60.png\n",
      "2022-11-10 18:09:34,013 - test-demo-fixed-all-cate - INFO - add new seed successfully, current seed queue length: 1676, new path: test-demo-fixed-all-cate/saved/60.png, init path: ./data/train_part/2/img_train_19730.png, ref_path: ./test-demo-fixed-all-cate/saved/ref-4-1668074961.0423522.png, label: 2, state: 1\n",
      "2022-11-10 18:09:34,015 - test-demo-fixed-all-cate - INFO - the new seed would be stored as test-demo-fixed-all-cate/saved/61.png\n",
      "2022-11-10 18:09:34,016 - test-demo-fixed-all-cate - INFO - add new seed successfully, current seed queue length: 1677, new path: test-demo-fixed-all-cate/saved/61.png, init path: ./data/train_part/2/img_train_19732.png, ref_path: ./test-demo-fixed-all-cate/saved/ref-1-1668074961.196393.png, label: 2, state: 1\n",
      "2022-11-10 18:09:34,018 - test-demo-fixed-all-cate - INFO - the new seed would be stored as test-demo-fixed-all-cate/saved/62.png\n",
      "2022-11-10 18:09:34,019 - test-demo-fixed-all-cate - INFO - add new seed successfully, current seed queue length: 1678, new path: test-demo-fixed-all-cate/saved/62.png, init path: ./data/train_part/2/img_train_19732.png, ref_path: ./test-demo-fixed-all-cate/saved/ref-2-1668074961.199145.png, label: 2, state: 1\n",
      "2022-11-10 18:09:34,020 - test-demo-fixed-all-cate - INFO - the new seed would be stored as test-demo-fixed-all-cate/saved/63.png\n",
      "2022-11-10 18:09:34,022 - test-demo-fixed-all-cate - INFO - add new seed successfully, current seed queue length: 1679, new path: test-demo-fixed-all-cate/saved/63.png, init path: ./data/train_part/2/img_train_19732.png, ref_path: ./test-demo-fixed-all-cate/saved/ref-4-1668074961.329644.png, label: 2, state: 1\n",
      "2022-11-10 18:09:34,024 - test-demo-fixed-all-cate - INFO - the new seed would be stored as test-demo-fixed-all-cate/saved/64.png\n",
      "2022-11-10 18:09:34,025 - test-demo-fixed-all-cate - INFO - add new seed successfully, current seed queue length: 1680, new path: test-demo-fixed-all-cate/saved/64.png, init path: ./data/train_part/2/img_train_19953.png, ref_path: ./data/train_part/2/img_train_19953.png, label: 2, state: 0\n",
      "2022-11-10 18:09:34,027 - test-demo-fixed-all-cate - INFO - the new seed would be stored as test-demo-fixed-all-cate/saved/65.png\n",
      "2022-11-10 18:09:34,028 - test-demo-fixed-all-cate - INFO - add new seed successfully, current seed queue length: 1681, new path: test-demo-fixed-all-cate/saved/65.png, init path: ./data/train_part/5/img_train_50152.png, ref_path: ./test-demo-fixed-all-cate/saved/ref-1-1668074961.948724.png, label: 5, state: 1\n",
      "2022-11-10 18:09:34,030 - test-demo-fixed-all-cate - INFO - the new seed would be stored as test-demo-fixed-all-cate/saved/66.png\n",
      "2022-11-10 18:09:34,031 - test-demo-fixed-all-cate - INFO - add new seed successfully, current seed queue length: 1682, new path: test-demo-fixed-all-cate/saved/66.png, init path: ./data/train_part/5/img_train_50152.png, ref_path: ./test-demo-fixed-all-cate/saved/ref-2-1668074961.9533591.png, label: 5, state: 1\n",
      "2022-11-10 18:09:34,046 - test-demo-fixed-all-cate - INFO - dict_keys(['FGSM', 'p_or_g']) has been chosen\n",
      "2022-11-10 18:09:34,232 - test-demo-fixed-all-cate - INFO - new image has been created: ref_path: ./data/train_part/0/img_train_2561.png, init_path: ./data/train_part/0/img_train_2561.png, state: 0\n",
      "2022-11-10 18:09:34,233 - test-demo-fixed-all-cate - INFO - dict_keys(['rotate_zero', 'p_or_g']) has been chosen\n"
     ]
    },
    {
     "name": "stdout",
     "output_type": "stream",
     "text": [
      "========== iteration-2 ==========\n",
      "0.008659038691300589\n"
     ]
    },
    {
     "name": "stderr",
     "output_type": "stream",
     "text": [
      "2022-11-10 18:09:34,236 - test-demo-fixed-all-cate - INFO - new image has been created: ref_path: ./test-demo-fixed-all-cate/saved/ref-1-1668074974.2351859.png, init_path: ./data/train_part/0/img_train_2561.png, state: 1\n",
      "2022-11-10 18:09:34,236 - test-demo-fixed-all-cate - INFO - dict_keys(['rotate_zero', 'p_or_g']) has been chosen\n",
      "2022-11-10 18:09:34,238 - test-demo-fixed-all-cate - INFO - new image has been created: ref_path: ./test-demo-fixed-all-cate/saved/ref-2-1668074974.2382982.png, init_path: ./data/train_part/0/img_train_2561.png, state: 1\n",
      "2022-11-10 18:09:34,239 - test-demo-fixed-all-cate - INFO - dict_keys(['rotate_zero', 'p_or_g']) has been chosen\n",
      "2022-11-10 18:09:34,241 - test-demo-fixed-all-cate - INFO - new image has been created: ref_path: ./test-demo-fixed-all-cate/saved/ref-3-1668074974.240435.png, init_path: ./data/train_part/0/img_train_2561.png, state: 1\n",
      "2022-11-10 18:09:34,246 - test-demo-fixed-all-cate - INFO - dict_keys(['rotate_zero', 'p_or_g']) has been chosen\n",
      "2022-11-10 18:09:34,248 - test-demo-fixed-all-cate - INFO - new image has been created: ref_path: ./test-demo-fixed-all-cate/saved/ref-4-1668074974.2481961.png, init_path: ./data/train_part/0/img_train_2561.png, state: 1\n",
      "2022-11-10 18:09:34,251 - test-demo-fixed-all-cate - INFO - dict_keys(['FGSM', 'p_or_g']) has been chosen\n"
     ]
    },
    {
     "name": "stdout",
     "output_type": "stream",
     "text": [
      "0.005725031815960409\n"
     ]
    },
    {
     "name": "stderr",
     "output_type": "stream",
     "text": [
      "2022-11-10 18:09:34,469 - test-demo-fixed-all-cate - INFO - new image has been created: ref_path: ./data/train_part/0/img_train_2568.png, init_path: ./data/train_part/0/img_train_2568.png, state: 0\n",
      "2022-11-10 18:09:34,470 - test-demo-fixed-all-cate - INFO - dict_keys(['FGSM', 'p_or_g']) has been chosen\n",
      "2022-11-10 18:09:34,615 - test-demo-fixed-all-cate - INFO - new image has been created: ref_path: ./data/train_part/0/img_train_2568.png, init_path: ./data/train_part/0/img_train_2568.png, state: 0\n",
      "2022-11-10 18:09:34,616 - test-demo-fixed-all-cate - INFO - dict_keys(['rotate_zero', 'p_or_g']) has been chosen\n",
      "2022-11-10 18:09:34,617 - test-demo-fixed-all-cate - INFO - new image has been created: ref_path: ./test-demo-fixed-all-cate/saved/ref-2-1668074974.617075.png, init_path: ./data/train_part/0/img_train_2568.png, state: 1\n",
      "2022-11-10 18:09:34,618 - test-demo-fixed-all-cate - INFO - dict_keys(['FGSM', 'p_or_g']) has been chosen\n"
     ]
    },
    {
     "name": "stdout",
     "output_type": "stream",
     "text": [
      "0.006593029697531687\n",
      "0.008871019591262089\n"
     ]
    },
    {
     "name": "stderr",
     "output_type": "stream",
     "text": [
      "2022-11-10 18:09:34,767 - test-demo-fixed-all-cate - INFO - new image has been created: ref_path: ./data/train_part/0/img_train_2568.png, init_path: ./data/train_part/0/img_train_2568.png, state: 0\n",
      "2022-11-10 18:09:34,768 - test-demo-fixed-all-cate - INFO - dict_keys(['FGSM', 'p_or_g']) has been chosen\n",
      "2022-11-10 18:09:34,950 - test-demo-fixed-all-cate - INFO - new image has been created: ref_path: ./data/train_part/0/img_train_2568.png, init_path: ./data/train_part/0/img_train_2568.png, state: 0\n",
      "2022-11-10 18:09:34,951 - test-demo-fixed-all-cate - INFO - dict_keys(['rotate_zero', 'p_or_g']) has been chosen\n",
      "2022-11-10 18:09:34,954 - test-demo-fixed-all-cate - INFO - new image has been created: ref_path: ./test-demo-fixed-all-cate/saved/ref-0-1668074974.953578.png, init_path: ./data/train_part/6/img_train_59300.png, state: 1\n",
      "2022-11-10 18:09:34,955 - test-demo-fixed-all-cate - INFO - dict_keys(['rotate_zero', 'p_or_g']) has been chosen\n",
      "2022-11-10 18:09:34,957 - test-demo-fixed-all-cate - INFO - new image has been created: ref_path: ./test-demo-fixed-all-cate/saved/ref-1-1668074974.956864.png, init_path: ./data/train_part/6/img_train_59300.png, state: 1\n",
      "2022-11-10 18:09:34,958 - test-demo-fixed-all-cate - INFO - dict_keys(['rotate_zero', 'p_or_g']) has been chosen\n",
      "2022-11-10 18:09:34,961 - test-demo-fixed-all-cate - INFO - new image has been created: ref_path: ./test-demo-fixed-all-cate/saved/ref-2-1668074974.9609149.png, init_path: ./data/train_part/6/img_train_59300.png, state: 1\n",
      "2022-11-10 18:09:34,962 - test-demo-fixed-all-cate - INFO - dict_keys(['rotate_zero', 'p_or_g']) has been chosen\n",
      "2022-11-10 18:09:34,964 - test-demo-fixed-all-cate - INFO - new image has been created: ref_path: ./test-demo-fixed-all-cate/saved/ref-3-1668074974.9637911.png, init_path: ./data/train_part/6/img_train_59300.png, state: 1\n",
      "2022-11-10 18:09:34,965 - test-demo-fixed-all-cate - INFO - dict_keys(['rotate_zero', 'p_or_g']) has been chosen\n",
      "2022-11-10 18:09:34,968 - test-demo-fixed-all-cate - INFO - new image has been created: ref_path: ./test-demo-fixed-all-cate/saved/ref-4-1668074974.9675362.png, init_path: ./data/train_part/6/img_train_59300.png, state: 1\n",
      "2022-11-10 18:09:34,969 - test-demo-fixed-all-cate - INFO - dict_keys(['rotate_zero', 'p_or_g']) has been chosen\n"
     ]
    },
    {
     "name": "stdout",
     "output_type": "stream",
     "text": [
      "0.005942973305763237\n"
     ]
    },
    {
     "name": "stderr",
     "output_type": "stream",
     "text": [
      "2022-11-10 18:09:34,972 - test-demo-fixed-all-cate - INFO - new image has been created: ref_path: ./test-demo-fixed-all-cate/saved/ref-0-1668074974.971375.png, init_path: ./data/train_part/6/img_train_62803.png, state: 1\n",
      "2022-11-10 18:09:34,974 - test-demo-fixed-all-cate - INFO - dict_keys(['FGSM', 'p_or_g']) has been chosen\n",
      "2022-11-10 18:09:35,169 - test-demo-fixed-all-cate - INFO - new image has been created: ref_path: ./data/train_part/6/img_train_62803.png, init_path: ./data/train_part/6/img_train_62803.png, state: 0\n",
      "2022-11-10 18:09:35,173 - test-demo-fixed-all-cate - INFO - dict_keys(['rotate_zero', 'p_or_g']) has been chosen\n"
     ]
    },
    {
     "name": "stdout",
     "output_type": "stream",
     "text": [
      "0.008215483034215891\n"
     ]
    },
    {
     "name": "stderr",
     "output_type": "stream",
     "text": [
      "2022-11-10 18:09:35,179 - test-demo-fixed-all-cate - INFO - new image has been created: ref_path: ./test-demo-fixed-all-cate/saved/ref-2-1668074975.178806.png, init_path: ./data/train_part/6/img_train_62803.png, state: 1\n",
      "2022-11-10 18:09:35,186 - test-demo-fixed-all-cate - INFO - dict_keys(['rotate_zero', 'p_or_g']) has been chosen\n",
      "2022-11-10 18:09:35,190 - test-demo-fixed-all-cate - INFO - new image has been created: ref_path: ./test-demo-fixed-all-cate/saved/ref-3-1668074975.189632.png, init_path: ./data/train_part/6/img_train_62803.png, state: 1\n",
      "2022-11-10 18:09:35,197 - test-demo-fixed-all-cate - INFO - dict_keys(['FGSM', 'p_or_g']) has been chosen\n"
     ]
    },
    {
     "name": "stdout",
     "output_type": "stream",
     "text": [
      "0.007696701266991713\n"
     ]
    },
    {
     "name": "stderr",
     "output_type": "stream",
     "text": [
      "2022-11-10 18:09:35,423 - test-demo-fixed-all-cate - INFO - new image has been created: ref_path: ./data/train_part/6/img_train_62803.png, init_path: ./data/train_part/6/img_train_62803.png, state: 0\n",
      "2022-11-10 18:09:35,425 - test-demo-fixed-all-cate - INFO - dict_keys(['rotate_zero', 'p_or_g']) has been chosen\n",
      "2022-11-10 18:09:35,428 - test-demo-fixed-all-cate - INFO - new image has been created: ref_path: ./test-demo-fixed-all-cate/saved/ref-0-1668074975.4270809.png, init_path: ./data/train_part/6/img_train_62709.png, state: 1\n",
      "2022-11-10 18:09:35,428 - test-demo-fixed-all-cate - INFO - dict_keys(['rotate_zero', 'p_or_g']) has been chosen\n",
      "2022-11-10 18:09:35,430 - test-demo-fixed-all-cate - INFO - new image has been created: ref_path: ./test-demo-fixed-all-cate/saved/ref-1-1668074975.430044.png, init_path: ./data/train_part/6/img_train_62709.png, state: 1\n",
      "2022-11-10 18:09:35,431 - test-demo-fixed-all-cate - INFO - dict_keys(['rotate_zero', 'p_or_g']) has been chosen\n",
      "2022-11-10 18:09:35,433 - test-demo-fixed-all-cate - INFO - new image has been created: ref_path: ./test-demo-fixed-all-cate/saved/ref-2-1668074975.433057.png, init_path: ./data/train_part/6/img_train_62709.png, state: 1\n",
      "2022-11-10 18:09:35,435 - test-demo-fixed-all-cate - INFO - dict_keys(['FGSM', 'p_or_g']) has been chosen\n",
      "2022-11-10 18:09:35,612 - test-demo-fixed-all-cate - INFO - new image has been created: ref_path: ./data/train_part/6/img_train_62709.png, init_path: ./data/train_part/6/img_train_62709.png, state: 0\n",
      "2022-11-10 18:09:35,613 - test-demo-fixed-all-cate - INFO - dict_keys(['FGSM', 'p_or_g']) has been chosen\n"
     ]
    },
    {
     "name": "stdout",
     "output_type": "stream",
     "text": [
      "0.006811476695755046\n",
      "0.007325559860513784\n"
     ]
    },
    {
     "name": "stderr",
     "output_type": "stream",
     "text": [
      "2022-11-10 18:09:35,782 - test-demo-fixed-all-cate - INFO - new image has been created: ref_path: ./data/train_part/6/img_train_62709.png, init_path: ./data/train_part/6/img_train_62709.png, state: 0\n",
      "2022-11-10 18:09:35,783 - test-demo-fixed-all-cate - INFO - dict_keys(['FGSM', 'p_or_g']) has been chosen\n",
      "2022-11-10 18:09:35,955 - test-demo-fixed-all-cate - INFO - new image has been created: ref_path: ./data/train_part/1/img_train_10863.png, init_path: ./data/train_part/1/img_train_10863.png, state: 0\n",
      "2022-11-10 18:09:35,956 - test-demo-fixed-all-cate - INFO - dict_keys(['rotate_zero', 'p_or_g']) has been chosen\n",
      "2022-11-10 18:09:35,958 - test-demo-fixed-all-cate - INFO - new image has been created: ref_path: ./test-demo-fixed-all-cate/saved/ref-1-1668074975.9580889.png, init_path: ./data/train_part/1/img_train_10863.png, state: 1\n",
      "2022-11-10 18:09:35,960 - test-demo-fixed-all-cate - INFO - dict_keys(['rotate_zero', 'p_or_g']) has been chosen\n",
      "2022-11-10 18:09:35,962 - test-demo-fixed-all-cate - INFO - new image has been created: ref_path: ./test-demo-fixed-all-cate/saved/ref-2-1668074975.9616792.png, init_path: ./data/train_part/1/img_train_10863.png, state: 1\n",
      "2022-11-10 18:09:35,963 - test-demo-fixed-all-cate - INFO - dict_keys(['FGSM', 'p_or_g']) has been chosen\n"
     ]
    },
    {
     "name": "stdout",
     "output_type": "stream",
     "text": [
      "0.0053032375011869606\n",
      "0.009830355120487811\n"
     ]
    },
    {
     "name": "stderr",
     "output_type": "stream",
     "text": [
      "2022-11-10 18:09:36,123 - test-demo-fixed-all-cate - INFO - new image has been created: ref_path: ./data/train_part/1/img_train_10863.png, init_path: ./data/train_part/1/img_train_10863.png, state: 0\n",
      "2022-11-10 18:09:36,124 - test-demo-fixed-all-cate - INFO - dict_keys(['FGSM', 'p_or_g']) has been chosen\n",
      "2022-11-10 18:09:36,265 - test-demo-fixed-all-cate - INFO - new image has been created: ref_path: ./data/train_part/1/img_train_10863.png, init_path: ./data/train_part/1/img_train_10863.png, state: 0\n",
      "2022-11-10 18:09:36,266 - test-demo-fixed-all-cate - INFO - dict_keys(['FGSM', 'p_or_g']) has been chosen\n"
     ]
    },
    {
     "name": "stdout",
     "output_type": "stream",
     "text": [
      "0.008577215115815351\n",
      "0.00889179755385414\n"
     ]
    },
    {
     "name": "stderr",
     "output_type": "stream",
     "text": [
      "2022-11-10 18:09:36,406 - test-demo-fixed-all-cate - INFO - new image has been created: ref_path: ./data/train_part/4/img_train_40740.png, init_path: ./data/train_part/4/img_train_40740.png, state: 0\n",
      "2022-11-10 18:09:36,407 - test-demo-fixed-all-cate - INFO - dict_keys(['rotate_zero', 'p_or_g']) has been chosen\n",
      "2022-11-10 18:09:36,415 - test-demo-fixed-all-cate - INFO - new image has been created: ref_path: ./test-demo-fixed-all-cate/saved/ref-1-1668074976.415086.png, init_path: ./data/train_part/4/img_train_40740.png, state: 1\n",
      "2022-11-10 18:09:36,416 - test-demo-fixed-all-cate - INFO - dict_keys(['rotate_zero', 'p_or_g']) has been chosen\n",
      "2022-11-10 18:09:36,420 - test-demo-fixed-all-cate - INFO - new image has been created: ref_path: ./test-demo-fixed-all-cate/saved/ref-2-1668074976.419307.png, init_path: ./data/train_part/4/img_train_40740.png, state: 1\n",
      "2022-11-10 18:09:36,434 - test-demo-fixed-all-cate - INFO - dict_keys(['FGSM', 'p_or_g']) has been chosen\n"
     ]
    },
    {
     "name": "stdout",
     "output_type": "stream",
     "text": [
      "0.008415133968225217\n"
     ]
    },
    {
     "name": "stderr",
     "output_type": "stream",
     "text": [
      "2022-11-10 18:09:36,666 - test-demo-fixed-all-cate - INFO - new image has been created: ref_path: ./data/train_part/4/img_train_40740.png, init_path: ./data/train_part/4/img_train_40740.png, state: 0\n",
      "2022-11-10 18:09:36,667 - test-demo-fixed-all-cate - INFO - dict_keys(['rotate_zero', 'p_or_g']) has been chosen\n",
      "2022-11-10 18:09:36,670 - test-demo-fixed-all-cate - INFO - new image has been created: ref_path: ./test-demo-fixed-all-cate/saved/ref-4-1668074976.669596.png, init_path: ./data/train_part/4/img_train_40740.png, state: 1\n",
      "2022-11-10 18:09:36,672 - test-demo-fixed-all-cate - INFO - dict_keys(['rotate_zero', 'p_or_g']) has been chosen\n",
      "2022-11-10 18:09:36,674 - test-demo-fixed-all-cate - INFO - new image has been created: ref_path: ./test-demo-fixed-all-cate/saved/ref-0-1668074976.673641.png, init_path: ./data/train_part/3/img_train_29813.png, state: 1\n",
      "2022-11-10 18:09:36,675 - test-demo-fixed-all-cate - INFO - dict_keys(['FGSM', 'p_or_g']) has been chosen\n",
      "2022-11-10 18:09:36,841 - test-demo-fixed-all-cate - INFO - new image has been created: ref_path: ./data/train_part/3/img_train_29813.png, init_path: ./data/train_part/3/img_train_29813.png, state: 0\n",
      "2022-11-10 18:09:36,842 - test-demo-fixed-all-cate - INFO - dict_keys(['FGSM', 'p_or_g']) has been chosen\n"
     ]
    },
    {
     "name": "stdout",
     "output_type": "stream",
     "text": [
      "0.008873797665531414\n",
      "0.008890455881076335\n"
     ]
    },
    {
     "name": "stderr",
     "output_type": "stream",
     "text": [
      "2022-11-10 18:09:37,004 - test-demo-fixed-all-cate - INFO - new image has been created: ref_path: ./data/train_part/3/img_train_29813.png, init_path: ./data/train_part/3/img_train_29813.png, state: 0\n",
      "2022-11-10 18:09:37,005 - test-demo-fixed-all-cate - INFO - dict_keys(['FGSM', 'p_or_g']) has been chosen\n",
      "2022-11-10 18:09:37,166 - test-demo-fixed-all-cate - INFO - new image has been created: ref_path: ./data/train_part/3/img_train_29813.png, init_path: ./data/train_part/3/img_train_29813.png, state: 0\n",
      "2022-11-10 18:09:37,167 - test-demo-fixed-all-cate - INFO - dict_keys(['FGSM', 'p_or_g']) has been chosen\n"
     ]
    },
    {
     "name": "stdout",
     "output_type": "stream",
     "text": [
      "0.009925346012015737\n",
      "0.008826623283750733\n"
     ]
    },
    {
     "name": "stderr",
     "output_type": "stream",
     "text": [
      "2022-11-10 18:09:37,333 - test-demo-fixed-all-cate - INFO - new image has been created: ref_path: ./data/train_part/3/img_train_29813.png, init_path: ./data/train_part/3/img_train_29813.png, state: 0\n",
      "2022-11-10 18:09:37,334 - test-demo-fixed-all-cate - INFO - dict_keys(['rotate_zero', 'p_or_g']) has been chosen\n",
      "2022-11-10 18:09:37,337 - test-demo-fixed-all-cate - INFO - new image has been created: ref_path: ./test-demo-fixed-all-cate/saved/ref-0-1668074977.336262.png, init_path: ./data/train_part/3/img_train_30029.png, state: 1\n",
      "2022-11-10 18:09:37,337 - test-demo-fixed-all-cate - INFO - dict_keys(['FGSM', 'p_or_g']) has been chosen\n",
      "2022-11-10 18:09:37,534 - test-demo-fixed-all-cate - INFO - new image has been created: ref_path: ./data/train_part/3/img_train_30029.png, init_path: ./data/train_part/3/img_train_30029.png, state: 0\n",
      "2022-11-10 18:09:37,535 - test-demo-fixed-all-cate - INFO - dict_keys(['FGSM', 'p_or_g']) has been chosen\n"
     ]
    },
    {
     "name": "stdout",
     "output_type": "stream",
     "text": [
      "0.008588828105068865\n",
      "0.006880060856848425\n"
     ]
    },
    {
     "name": "stderr",
     "output_type": "stream",
     "text": [
      "2022-11-10 18:09:37,710 - test-demo-fixed-all-cate - INFO - new image has been created: ref_path: ./data/train_part/3/img_train_30029.png, init_path: ./data/train_part/3/img_train_30029.png, state: 0\n",
      "2022-11-10 18:09:37,713 - test-demo-fixed-all-cate - INFO - dict_keys(['FGSM', 'p_or_g']) has been chosen\n",
      "2022-11-10 18:09:37,886 - test-demo-fixed-all-cate - INFO - new image has been created: ref_path: ./data/train_part/3/img_train_30029.png, init_path: ./data/train_part/3/img_train_30029.png, state: 0\n",
      "2022-11-10 18:09:37,887 - test-demo-fixed-all-cate - INFO - dict_keys(['FGSM', 'p_or_g']) has been chosen\n"
     ]
    },
    {
     "name": "stdout",
     "output_type": "stream",
     "text": [
      "0.009276614436368104\n",
      "0.006090378437420788\n"
     ]
    },
    {
     "name": "stderr",
     "output_type": "stream",
     "text": [
      "2022-11-10 18:09:38,057 - test-demo-fixed-all-cate - INFO - new image has been created: ref_path: ./data/train_part/3/img_train_30029.png, init_path: ./data/train_part/3/img_train_30029.png, state: 0\n",
      "2022-11-10 18:09:38,058 - test-demo-fixed-all-cate - INFO - dict_keys(['FGSM', 'p_or_g']) has been chosen\n",
      "2022-11-10 18:09:38,221 - test-demo-fixed-all-cate - INFO - new image has been created: ref_path: ./data/train_part/3/img_train_29517.png, init_path: ./data/train_part/3/img_train_29517.png, state: 0\n",
      "2022-11-10 18:09:38,222 - test-demo-fixed-all-cate - INFO - dict_keys(['FGSM', 'p_or_g']) has been chosen\n"
     ]
    },
    {
     "name": "stdout",
     "output_type": "stream",
     "text": [
      "0.008445166017659522\n",
      "0.009482442599381774\n"
     ]
    },
    {
     "name": "stderr",
     "output_type": "stream",
     "text": [
      "2022-11-10 18:09:38,381 - test-demo-fixed-all-cate - INFO - new image has been created: ref_path: ./data/train_part/3/img_train_29517.png, init_path: ./data/train_part/3/img_train_29517.png, state: 0\n",
      "2022-11-10 18:09:38,382 - test-demo-fixed-all-cate - INFO - dict_keys(['rotate_zero', 'p_or_g']) has been chosen\n",
      "2022-11-10 18:09:38,384 - test-demo-fixed-all-cate - INFO - new image has been created: ref_path: ./test-demo-fixed-all-cate/saved/ref-2-1668074978.383269.png, init_path: ./data/train_part/3/img_train_29517.png, state: 1\n",
      "2022-11-10 18:09:38,384 - test-demo-fixed-all-cate - INFO - dict_keys(['FGSM', 'p_or_g']) has been chosen\n",
      "2022-11-10 18:09:38,544 - test-demo-fixed-all-cate - INFO - new image has been created: ref_path: ./data/train_part/3/img_train_29517.png, init_path: ./data/train_part/3/img_train_29517.png, state: 0\n",
      "2022-11-10 18:09:38,548 - test-demo-fixed-all-cate - INFO - dict_keys(['FGSM', 'p_or_g']) has been chosen\n"
     ]
    },
    {
     "name": "stdout",
     "output_type": "stream",
     "text": [
      "0.009777582519925868\n",
      "0.007479954327856857\n"
     ]
    },
    {
     "name": "stderr",
     "output_type": "stream",
     "text": [
      "2022-11-10 18:09:38,710 - test-demo-fixed-all-cate - INFO - new image has been created: ref_path: ./data/train_part/3/img_train_29517.png, init_path: ./data/train_part/3/img_train_29517.png, state: 0\n",
      "2022-11-10 18:09:38,714 - test-demo-fixed-all-cate - INFO - dict_keys(['rotate_zero', 'p_or_g']) has been chosen\n",
      "2022-11-10 18:09:38,716 - test-demo-fixed-all-cate - INFO - new image has been created: ref_path: ./test-demo-fixed-all-cate/saved/ref-0-1668074978.715528.png, init_path: ./data/train_part/3/img_train_29925.png, state: 1\n",
      "2022-11-10 18:09:38,717 - test-demo-fixed-all-cate - INFO - dict_keys(['FGSM', 'p_or_g']) has been chosen\n",
      "2022-11-10 18:09:38,875 - test-demo-fixed-all-cate - INFO - new image has been created: ref_path: ./data/train_part/3/img_train_29925.png, init_path: ./data/train_part/3/img_train_29925.png, state: 0\n",
      "2022-11-10 18:09:38,876 - test-demo-fixed-all-cate - INFO - dict_keys(['rotate_zero', 'p_or_g']) has been chosen\n",
      "2022-11-10 18:09:38,878 - test-demo-fixed-all-cate - INFO - new image has been created: ref_path: ./test-demo-fixed-all-cate/saved/ref-2-1668074978.87743.png, init_path: ./data/train_part/3/img_train_29925.png, state: 1\n",
      "2022-11-10 18:09:38,878 - test-demo-fixed-all-cate - INFO - dict_keys(['FGSM', 'p_or_g']) has been chosen\n"
     ]
    },
    {
     "name": "stdout",
     "output_type": "stream",
     "text": [
      "0.007368056931893177\n",
      "0.00919739694443054\n"
     ]
    },
    {
     "name": "stderr",
     "output_type": "stream",
     "text": [
      "2022-11-10 18:09:39,059 - test-demo-fixed-all-cate - INFO - new image has been created: ref_path: ./data/train_part/3/img_train_29925.png, init_path: ./data/train_part/3/img_train_29925.png, state: 0\n",
      "2022-11-10 18:09:39,060 - test-demo-fixed-all-cate - INFO - dict_keys(['FGSM', 'p_or_g']) has been chosen\n",
      "2022-11-10 18:09:39,233 - test-demo-fixed-all-cate - INFO - new image has been created: ref_path: ./data/train_part/3/img_train_29925.png, init_path: ./data/train_part/3/img_train_29925.png, state: 0\n",
      "2022-11-10 18:09:39,234 - test-demo-fixed-all-cate - INFO - dict_keys(['FGSM', 'p_or_g']) has been chosen\n"
     ]
    },
    {
     "name": "stdout",
     "output_type": "stream",
     "text": [
      "0.009642630614564891\n",
      "0.005588581757058244\n"
     ]
    },
    {
     "name": "stderr",
     "output_type": "stream",
     "text": [
      "2022-11-10 18:09:39,383 - test-demo-fixed-all-cate - INFO - new image has been created: ref_path: ./data/train_part/3/img_train_30168.png, init_path: ./data/train_part/3/img_train_30168.png, state: 0\n",
      "2022-11-10 18:09:39,384 - test-demo-fixed-all-cate - INFO - dict_keys(['rotate_zero', 'p_or_g']) has been chosen\n",
      "2022-11-10 18:09:39,386 - test-demo-fixed-all-cate - INFO - new image has been created: ref_path: ./test-demo-fixed-all-cate/saved/ref-1-1668074979.385321.png, init_path: ./data/train_part/3/img_train_30168.png, state: 1\n",
      "2022-11-10 18:09:39,386 - test-demo-fixed-all-cate - INFO - dict_keys(['rotate_zero', 'p_or_g']) has been chosen\n",
      "2022-11-10 18:09:39,388 - test-demo-fixed-all-cate - INFO - new image has been created: ref_path: ./test-demo-fixed-all-cate/saved/ref-2-1668074979.3879821.png, init_path: ./data/train_part/3/img_train_30168.png, state: 1\n",
      "2022-11-10 18:09:39,389 - test-demo-fixed-all-cate - INFO - dict_keys(['rotate_zero', 'p_or_g']) has been chosen\n",
      "2022-11-10 18:09:39,391 - test-demo-fixed-all-cate - INFO - new image has been created: ref_path: ./test-demo-fixed-all-cate/saved/ref-3-1668074979.390485.png, init_path: ./data/train_part/3/img_train_30168.png, state: 1\n",
      "2022-11-10 18:09:39,391 - test-demo-fixed-all-cate - INFO - dict_keys(['rotate_zero', 'p_or_g']) has been chosen\n",
      "2022-11-10 18:09:39,393 - test-demo-fixed-all-cate - INFO - new image has been created: ref_path: ./test-demo-fixed-all-cate/saved/ref-4-1668074979.392582.png, init_path: ./data/train_part/3/img_train_30168.png, state: 1\n",
      "2022-11-10 18:09:39,394 - test-demo-fixed-all-cate - INFO - dict_keys(['FGSM', 'p_or_g']) has been chosen\n",
      "2022-11-10 18:09:39,584 - test-demo-fixed-all-cate - INFO - new image has been created: ref_path: ./data/train_part/2/img_train_19888.png, init_path: ./data/train_part/2/img_train_19888.png, state: 0\n",
      "2022-11-10 18:09:39,586 - test-demo-fixed-all-cate - INFO - dict_keys(['rotate_zero', 'p_or_g']) has been chosen\n",
      "2022-11-10 18:09:39,590 - test-demo-fixed-all-cate - INFO - new image has been created: ref_path: ./test-demo-fixed-all-cate/saved/ref-1-1668074979.588661.png, init_path: ./data/train_part/2/img_train_19888.png, state: 1\n",
      "2022-11-10 18:09:39,591 - test-demo-fixed-all-cate - INFO - dict_keys(['FGSM', 'p_or_g']) has been chosen\n"
     ]
    },
    {
     "name": "stdout",
     "output_type": "stream",
     "text": [
      "0.005288712228208479\n",
      "0.009548561116488968\n"
     ]
    },
    {
     "name": "stderr",
     "output_type": "stream",
     "text": [
      "2022-11-10 18:09:39,755 - test-demo-fixed-all-cate - INFO - new image has been created: ref_path: ./data/train_part/2/img_train_19888.png, init_path: ./data/train_part/2/img_train_19888.png, state: 0\n",
      "2022-11-10 18:09:39,756 - test-demo-fixed-all-cate - INFO - dict_keys(['FGSM', 'p_or_g']) has been chosen\n",
      "2022-11-10 18:09:39,904 - test-demo-fixed-all-cate - INFO - new image has been created: ref_path: ./data/train_part/2/img_train_19888.png, init_path: ./data/train_part/2/img_train_19888.png, state: 0\n",
      "2022-11-10 18:09:39,905 - test-demo-fixed-all-cate - INFO - dict_keys(['rotate_zero', 'p_or_g']) has been chosen\n",
      "2022-11-10 18:09:39,907 - test-demo-fixed-all-cate - INFO - new image has been created: ref_path: ./test-demo-fixed-all-cate/saved/ref-4-1668074979.906183.png, init_path: ./data/train_part/2/img_train_19888.png, state: 1\n",
      "2022-11-10 18:09:39,908 - test-demo-fixed-all-cate - INFO - dict_keys(['rotate_zero', 'p_or_g']) has been chosen\n",
      "2022-11-10 18:09:39,911 - test-demo-fixed-all-cate - INFO - new image has been created: ref_path: ./test-demo-fixed-all-cate/saved/ref-0-1668074979.9102259.png, init_path: ./data/train_part/2/img_train_20159.png, state: 1\n",
      "2022-11-10 18:09:39,912 - test-demo-fixed-all-cate - INFO - dict_keys(['FGSM', 'p_or_g']) has been chosen\n"
     ]
    },
    {
     "name": "stdout",
     "output_type": "stream",
     "text": [
      "0.009272667558542948\n",
      "0.005031036668252174\n"
     ]
    },
    {
     "name": "stderr",
     "output_type": "stream",
     "text": [
      "2022-11-10 18:09:40,084 - test-demo-fixed-all-cate - INFO - new image has been created: ref_path: ./data/train_part/2/img_train_20159.png, init_path: ./data/train_part/2/img_train_20159.png, state: 0\n",
      "2022-11-10 18:09:40,087 - test-demo-fixed-all-cate - INFO - dict_keys(['rotate_zero', 'p_or_g']) has been chosen\n",
      "2022-11-10 18:09:40,089 - test-demo-fixed-all-cate - INFO - new image has been created: ref_path: ./test-demo-fixed-all-cate/saved/ref-2-1668074980.088892.png, init_path: ./data/train_part/2/img_train_20159.png, state: 1\n",
      "2022-11-10 18:09:40,090 - test-demo-fixed-all-cate - INFO - dict_keys(['rotate_zero', 'p_or_g']) has been chosen\n",
      "2022-11-10 18:09:40,092 - test-demo-fixed-all-cate - INFO - new image has been created: ref_path: ./test-demo-fixed-all-cate/saved/ref-3-1668074980.09158.png, init_path: ./data/train_part/2/img_train_20159.png, state: 1\n",
      "2022-11-10 18:09:40,092 - test-demo-fixed-all-cate - INFO - dict_keys(['FGSM', 'p_or_g']) has been chosen\n",
      "2022-11-10 18:09:40,291 - test-demo-fixed-all-cate - INFO - new image has been created: ref_path: ./data/train_part/2/img_train_20159.png, init_path: ./data/train_part/2/img_train_20159.png, state: 0\n",
      "2022-11-10 18:09:40,292 - test-demo-fixed-all-cate - INFO - dict_keys(['FGSM', 'p_or_g']) has been chosen\n"
     ]
    },
    {
     "name": "stdout",
     "output_type": "stream",
     "text": [
      "0.006951422151961031\n",
      "0.005108683294489696\n"
     ]
    },
    {
     "name": "stderr",
     "output_type": "stream",
     "text": [
      "2022-11-10 18:09:40,462 - test-demo-fixed-all-cate - INFO - new image has been created: ref_path: ./data/train_part/5/img_train_50368.png, init_path: ./data/train_part/5/img_train_50368.png, state: 0\n",
      "2022-11-10 18:09:40,463 - test-demo-fixed-all-cate - INFO - dict_keys(['FGSM', 'p_or_g']) has been chosen\n",
      "2022-11-10 18:09:40,611 - test-demo-fixed-all-cate - INFO - new image has been created: ref_path: ./data/train_part/5/img_train_50368.png, init_path: ./data/train_part/5/img_train_50368.png, state: 0\n",
      "2022-11-10 18:09:40,612 - test-demo-fixed-all-cate - INFO - dict_keys(['FGSM', 'p_or_g']) has been chosen\n"
     ]
    },
    {
     "name": "stdout",
     "output_type": "stream",
     "text": [
      "0.0054148856011624735\n",
      "0.0070719589562299795\n"
     ]
    },
    {
     "name": "stderr",
     "output_type": "stream",
     "text": [
      "2022-11-10 18:09:40,758 - test-demo-fixed-all-cate - INFO - new image has been created: ref_path: ./data/train_part/5/img_train_50368.png, init_path: ./data/train_part/5/img_train_50368.png, state: 0\n",
      "2022-11-10 18:09:40,759 - test-demo-fixed-all-cate - INFO - dict_keys(['FGSM', 'p_or_g']) has been chosen\n",
      "2022-11-10 18:09:40,916 - test-demo-fixed-all-cate - INFO - new image has been created: ref_path: ./data/train_part/5/img_train_50368.png, init_path: ./data/train_part/5/img_train_50368.png, state: 0\n",
      "2022-11-10 18:09:40,917 - test-demo-fixed-all-cate - INFO - dict_keys(['rotate_zero', 'p_or_g']) has been chosen\n",
      "2022-11-10 18:09:40,919 - test-demo-fixed-all-cate - INFO - new image has been created: ref_path: ./test-demo-fixed-all-cate/saved/ref-4-1668074980.919136.png, init_path: ./data/train_part/5/img_train_50368.png, state: 1\n",
      "2022-11-10 18:09:40,921 - test-demo-fixed-all-cate - INFO - dict_keys(['rotate_zero', 'p_or_g']) has been chosen\n",
      "2022-11-10 18:09:40,923 - test-demo-fixed-all-cate - INFO - new image has been created: ref_path: ./test-demo-fixed-all-cate/saved/ref-0-1668074980.922571.png, init_path: ./data/train_part/0/img_train_2518.png, state: 1\n",
      "2022-11-10 18:09:40,924 - test-demo-fixed-all-cate - INFO - dict_keys(['FGSM', 'p_or_g']) has been chosen\n"
     ]
    },
    {
     "name": "stdout",
     "output_type": "stream",
     "text": [
      "0.006654936456567641\n",
      "0.009158725773084608\n"
     ]
    },
    {
     "name": "stderr",
     "output_type": "stream",
     "text": [
      "2022-11-10 18:09:41,082 - test-demo-fixed-all-cate - INFO - new image has been created: ref_path: ./data/train_part/0/img_train_2518.png, init_path: ./data/train_part/0/img_train_2518.png, state: 0\n",
      "2022-11-10 18:09:41,083 - test-demo-fixed-all-cate - INFO - dict_keys(['rotate_zero', 'p_or_g']) has been chosen\n",
      "2022-11-10 18:09:41,086 - test-demo-fixed-all-cate - INFO - new image has been created: ref_path: ./test-demo-fixed-all-cate/saved/ref-2-1668074981.085881.png, init_path: ./data/train_part/0/img_train_2518.png, state: 1\n",
      "2022-11-10 18:09:41,087 - test-demo-fixed-all-cate - INFO - dict_keys(['FGSM', 'p_or_g']) has been chosen\n",
      "2022-11-10 18:09:41,242 - test-demo-fixed-all-cate - INFO - new image has been created: ref_path: ./data/train_part/0/img_train_2518.png, init_path: ./data/train_part/0/img_train_2518.png, state: 0\n",
      "2022-11-10 18:09:41,243 - test-demo-fixed-all-cate - INFO - dict_keys(['FGSM', 'p_or_g']) has been chosen\n"
     ]
    },
    {
     "name": "stdout",
     "output_type": "stream",
     "text": [
      "0.007130752019322518\n",
      "0.006610536935550471\n"
     ]
    },
    {
     "name": "stderr",
     "output_type": "stream",
     "text": [
      "2022-11-10 18:09:41,397 - test-demo-fixed-all-cate - INFO - new image has been created: ref_path: ./data/train_part/0/img_train_2518.png, init_path: ./data/train_part/0/img_train_2518.png, state: 0\n",
      "2022-11-10 18:09:41,397 - test-demo-fixed-all-cate - INFO - update seed info successfully, current p is 0.95\n",
      "2022-11-10 18:09:41,398 - test-demo-fixed-all-cate - INFO - update seed info successfully, current p is 0.95\n",
      "2022-11-10 18:09:41,399 - test-demo-fixed-all-cate - INFO - update seed info successfully, current p is 0.95\n",
      "2022-11-10 18:09:41,400 - test-demo-fixed-all-cate - INFO - update seed info successfully, current p is 0.95\n",
      "2022-11-10 18:09:41,401 - test-demo-fixed-all-cate - INFO - update seed info successfully, current p is 0.95\n",
      "2022-11-10 18:09:41,402 - test-demo-fixed-all-cate - INFO - update seed info successfully, current p is 0.95\n",
      "2022-11-10 18:09:41,403 - test-demo-fixed-all-cate - INFO - update seed info successfully, current p is 0.95\n",
      "2022-11-10 18:09:41,404 - test-demo-fixed-all-cate - INFO - update seed info successfully, current p is 0.95\n",
      "2022-11-10 18:09:41,405 - test-demo-fixed-all-cate - INFO - update seed info successfully, current p is 0.95\n",
      "2022-11-10 18:09:41,406 - test-demo-fixed-all-cate - INFO - update seed info successfully, current p is 0.9\n",
      "2022-11-10 18:09:41,407 - test-demo-fixed-all-cate - INFO - update seed info successfully, current p is 0.95\n",
      "2022-11-10 18:09:41,408 - test-demo-fixed-all-cate - INFO - update seed info successfully, current p is 0.95\n",
      "2022-11-10 18:09:41,410 - test-demo-fixed-all-cate - INFO - update seed info successfully, current p is 0.95\n",
      "2022-11-10 18:09:41,411 - test-demo-fixed-all-cate - INFO - update seed info successfully, current p is 0.95\n",
      "2022-11-10 18:09:41,412 - test-demo-fixed-all-cate - INFO - update seed info successfully, current p is 0.95\n",
      "2022-11-10 18:09:41,412 - test-demo-fixed-all-cate - INFO - update seed info successfully, current p is 0.95\n",
      "2022-11-10 18:09:43,431 - test-demo-fixed-all-cate - INFO - for test-demo-fixed-all-cate/fail_test/0/67.png: its label should be 0, but got 5, it would be stored in test-demo-fixed-all-cate/fail_test/0/67.png\n",
      "2022-11-10 18:09:43,434 - test-demo-fixed-all-cate - INFO - for test-demo-fixed-all-cate/fail_test/0/68.png: its label should be 0, but got 5, it would be stored in test-demo-fixed-all-cate/fail_test/0/68.png\n",
      "2022-11-10 18:09:43,436 - test-demo-fixed-all-cate - INFO - for test-demo-fixed-all-cate/fail_test/0/69.png: its label should be 0, but got 5, it would be stored in test-demo-fixed-all-cate/fail_test/0/69.png\n",
      "2022-11-10 18:09:53,329 - test-demo-fixed-all-cate - INFO - the new seed would be stored as test-demo-fixed-all-cate/saved/70.png\n",
      "2022-11-10 18:09:53,331 - test-demo-fixed-all-cate - INFO - add new seed successfully, current seed queue length: 1683, new path: test-demo-fixed-all-cate/saved/70.png, init path: ./data/train_part/0/img_train_2568.png, ref_path: ./data/train_part/0/img_train_2568.png, label: 0, state: 0\n",
      "2022-11-10 18:09:53,332 - test-demo-fixed-all-cate - INFO - the new seed would be stored as test-demo-fixed-all-cate/saved/71.png\n",
      "2022-11-10 18:09:53,334 - test-demo-fixed-all-cate - INFO - add new seed successfully, current seed queue length: 1684, new path: test-demo-fixed-all-cate/saved/71.png, init path: ./data/train_part/0/img_train_2568.png, ref_path: ./data/train_part/0/img_train_2568.png, label: 0, state: 0\n",
      "2022-11-10 18:09:53,336 - test-demo-fixed-all-cate - INFO - the new seed would be stored as test-demo-fixed-all-cate/saved/72.png\n",
      "2022-11-10 18:09:53,337 - test-demo-fixed-all-cate - INFO - add new seed successfully, current seed queue length: 1685, new path: test-demo-fixed-all-cate/saved/72.png, init path: ./data/train_part/0/img_train_2568.png, ref_path: ./data/train_part/0/img_train_2568.png, label: 0, state: 0\n",
      "2022-11-10 18:09:53,340 - test-demo-fixed-all-cate - INFO - the new seed would be stored as test-demo-fixed-all-cate/saved/73.png\n",
      "2022-11-10 18:09:53,341 - test-demo-fixed-all-cate - INFO - add new seed successfully, current seed queue length: 1686, new path: test-demo-fixed-all-cate/saved/73.png, init path: ./data/train_part/0/img_train_2568.png, ref_path: ./data/train_part/0/img_train_2568.png, label: 0, state: 0\n",
      "2022-11-10 18:09:53,344 - test-demo-fixed-all-cate - INFO - the new seed would be stored as test-demo-fixed-all-cate/saved/74.png\n",
      "2022-11-10 18:09:53,346 - test-demo-fixed-all-cate - INFO - add new seed successfully, current seed queue length: 1687, new path: test-demo-fixed-all-cate/saved/74.png, init path: ./data/train_part/1/img_train_10863.png, ref_path: ./data/train_part/1/img_train_10863.png, label: 1, state: 0\n",
      "2022-11-10 18:09:53,348 - test-demo-fixed-all-cate - INFO - the new seed would be stored as test-demo-fixed-all-cate/saved/75.png\n",
      "2022-11-10 18:09:53,349 - test-demo-fixed-all-cate - INFO - add new seed successfully, current seed queue length: 1688, new path: test-demo-fixed-all-cate/saved/75.png, init path: ./data/train_part/1/img_train_10863.png, ref_path: ./test-demo-fixed-all-cate/saved/ref-1-1668074975.9580889.png, label: 1, state: 1\n",
      "2022-11-10 18:09:53,351 - test-demo-fixed-all-cate - INFO - the new seed would be stored as test-demo-fixed-all-cate/saved/76.png\n",
      "2022-11-10 18:09:53,353 - test-demo-fixed-all-cate - INFO - add new seed successfully, current seed queue length: 1689, new path: test-demo-fixed-all-cate/saved/76.png, init path: ./data/train_part/1/img_train_10863.png, ref_path: ./test-demo-fixed-all-cate/saved/ref-2-1668074975.9616792.png, label: 1, state: 1\n",
      "2022-11-10 18:09:53,355 - test-demo-fixed-all-cate - INFO - the new seed would be stored as test-demo-fixed-all-cate/saved/77.png\n",
      "2022-11-10 18:09:53,356 - test-demo-fixed-all-cate - INFO - add new seed successfully, current seed queue length: 1690, new path: test-demo-fixed-all-cate/saved/77.png, init path: ./data/train_part/1/img_train_10863.png, ref_path: ./data/train_part/1/img_train_10863.png, label: 1, state: 0\n",
      "2022-11-10 18:09:53,359 - test-demo-fixed-all-cate - INFO - the new seed would be stored as test-demo-fixed-all-cate/saved/78.png\n",
      "2022-11-10 18:09:53,360 - test-demo-fixed-all-cate - INFO - add new seed successfully, current seed queue length: 1691, new path: test-demo-fixed-all-cate/saved/78.png, init path: ./data/train_part/1/img_train_10863.png, ref_path: ./data/train_part/1/img_train_10863.png, label: 1, state: 0\n",
      "2022-11-10 18:09:53,362 - test-demo-fixed-all-cate - INFO - the new seed would be stored as test-demo-fixed-all-cate/saved/79.png\n",
      "2022-11-10 18:09:53,363 - test-demo-fixed-all-cate - INFO - add new seed successfully, current seed queue length: 1692, new path: test-demo-fixed-all-cate/saved/79.png, init path: ./data/train_part/3/img_train_29813.png, ref_path: ./test-demo-fixed-all-cate/saved/ref-0-1668074976.673641.png, label: 3, state: 1\n",
      "2022-11-10 18:09:53,365 - test-demo-fixed-all-cate - INFO - the new seed would be stored as test-demo-fixed-all-cate/saved/80.png\n",
      "2022-11-10 18:09:53,366 - test-demo-fixed-all-cate - INFO - add new seed successfully, current seed queue length: 1693, new path: test-demo-fixed-all-cate/saved/80.png, init path: ./data/train_part/3/img_train_30029.png, ref_path: ./test-demo-fixed-all-cate/saved/ref-0-1668074977.336262.png, label: 3, state: 1\n",
      "2022-11-10 18:09:53,368 - test-demo-fixed-all-cate - INFO - the new seed would be stored as test-demo-fixed-all-cate/saved/81.png\n",
      "2022-11-10 18:09:53,369 - test-demo-fixed-all-cate - INFO - add new seed successfully, current seed queue length: 1694, new path: test-demo-fixed-all-cate/saved/81.png, init path: ./data/train_part/2/img_train_19888.png, ref_path: ./test-demo-fixed-all-cate/saved/ref-1-1668074979.588661.png, label: 2, state: 1\n",
      "2022-11-10 18:09:53,371 - test-demo-fixed-all-cate - INFO - the new seed would be stored as test-demo-fixed-all-cate/saved/82.png\n",
      "2022-11-10 18:09:53,373 - test-demo-fixed-all-cate - INFO - add new seed successfully, current seed queue length: 1695, new path: test-demo-fixed-all-cate/saved/82.png, init path: ./data/train_part/2/img_train_19888.png, ref_path: ./test-demo-fixed-all-cate/saved/ref-4-1668074979.906183.png, label: 2, state: 1\n",
      "2022-11-10 18:09:53,375 - test-demo-fixed-all-cate - INFO - the new seed would be stored as test-demo-fixed-all-cate/saved/83.png\n",
      "2022-11-10 18:09:53,377 - test-demo-fixed-all-cate - INFO - add new seed successfully, current seed queue length: 1696, new path: test-demo-fixed-all-cate/saved/83.png, init path: ./data/train_part/2/img_train_20159.png, ref_path: ./test-demo-fixed-all-cate/saved/ref-0-1668074979.9102259.png, label: 2, state: 1\n",
      "2022-11-10 18:09:53,379 - test-demo-fixed-all-cate - INFO - the new seed would be stored as test-demo-fixed-all-cate/saved/84.png\n",
      "2022-11-10 18:09:53,380 - test-demo-fixed-all-cate - INFO - add new seed successfully, current seed queue length: 1697, new path: test-demo-fixed-all-cate/saved/84.png, init path: ./data/train_part/2/img_train_20159.png, ref_path: ./test-demo-fixed-all-cate/saved/ref-2-1668074980.088892.png, label: 2, state: 1\n",
      "2022-11-10 18:09:53,381 - test-demo-fixed-all-cate - INFO - the new seed would be stored as test-demo-fixed-all-cate/saved/85.png\n",
      "2022-11-10 18:09:53,382 - test-demo-fixed-all-cate - INFO - add new seed successfully, current seed queue length: 1698, new path: test-demo-fixed-all-cate/saved/85.png, init path: ./data/train_part/2/img_train_20159.png, ref_path: ./test-demo-fixed-all-cate/saved/ref-3-1668074980.09158.png, label: 2, state: 1\n",
      "2022-11-10 18:09:53,395 - test-demo-fixed-all-cate - INFO - dict_keys(['rotate_zero', 'p_or_g']) has been chosen\n",
      "2022-11-10 18:09:53,396 - test-demo-fixed-all-cate - INFO - new image has been created: ref_path: ./test-demo-fixed-all-cate/saved/ref-0-1668074993.3964832.png, init_path: ./data/train_part/0/img_train_2253.png, state: 1\n",
      "2022-11-10 18:09:53,397 - test-demo-fixed-all-cate - INFO - dict_keys(['rotate_zero', 'p_or_g']) has been chosen\n",
      "2022-11-10 18:09:53,398 - test-demo-fixed-all-cate - INFO - new image has been created: ref_path: ./test-demo-fixed-all-cate/saved/ref-1-1668074993.398398.png, init_path: ./data/train_part/0/img_train_2253.png, state: 1\n",
      "2022-11-10 18:09:53,399 - test-demo-fixed-all-cate - INFO - dict_keys(['FGSM', 'p_or_g']) has been chosen\n"
     ]
    },
    {
     "name": "stdout",
     "output_type": "stream",
     "text": [
      "========== iteration-3 ==========\n",
      "0.006587532650621085\n"
     ]
    },
    {
     "name": "stderr",
     "output_type": "stream",
     "text": [
      "2022-11-10 18:09:53,606 - test-demo-fixed-all-cate - INFO - new image has been created: ref_path: ./data/train_part/0/img_train_2253.png, init_path: ./data/train_part/0/img_train_2253.png, state: 0\n",
      "2022-11-10 18:09:53,607 - test-demo-fixed-all-cate - INFO - dict_keys(['rotate_zero', 'p_or_g']) has been chosen\n",
      "2022-11-10 18:09:53,609 - test-demo-fixed-all-cate - INFO - new image has been created: ref_path: ./test-demo-fixed-all-cate/saved/ref-3-1668074993.609052.png, init_path: ./data/train_part/0/img_train_2253.png, state: 1\n",
      "2022-11-10 18:09:53,610 - test-demo-fixed-all-cate - INFO - dict_keys(['FGSM', 'p_or_g']) has been chosen\n",
      "2022-11-10 18:09:53,811 - test-demo-fixed-all-cate - INFO - new image has been created: ref_path: ./data/train_part/0/img_train_2253.png, init_path: ./data/train_part/0/img_train_2253.png, state: 0\n"
     ]
    },
    {
     "name": "stdout",
     "output_type": "stream",
     "text": [
      "0.006344623227181441\n"
     ]
    },
    {
     "name": "stderr",
     "output_type": "stream",
     "text": [
      "2022-11-10 18:09:53,812 - test-demo-fixed-all-cate - INFO - dict_keys(['rotate_zero', 'p_or_g']) has been chosen\n",
      "2022-11-10 18:09:53,815 - test-demo-fixed-all-cate - INFO - new image has been created: ref_path: ./test-demo-fixed-all-cate/saved/ref-0-1668074993.8150249.png, init_path: ./data/train_part/6/img_train_62837.png, state: 1\n",
      "2022-11-10 18:09:53,816 - test-demo-fixed-all-cate - INFO - dict_keys(['rotate_zero', 'p_or_g']) has been chosen\n",
      "2022-11-10 18:09:53,818 - test-demo-fixed-all-cate - INFO - new image has been created: ref_path: ./test-demo-fixed-all-cate/saved/ref-1-1668074993.817568.png, init_path: ./data/train_part/6/img_train_62837.png, state: 1\n",
      "2022-11-10 18:09:53,819 - test-demo-fixed-all-cate - INFO - dict_keys(['rotate_zero', 'p_or_g']) has been chosen\n",
      "2022-11-10 18:09:53,821 - test-demo-fixed-all-cate - INFO - new image has been created: ref_path: ./test-demo-fixed-all-cate/saved/ref-2-1668074993.821173.png, init_path: ./data/train_part/6/img_train_62837.png, state: 1\n",
      "2022-11-10 18:09:53,822 - test-demo-fixed-all-cate - INFO - dict_keys(['rotate_zero', 'p_or_g']) has been chosen\n",
      "2022-11-10 18:09:53,825 - test-demo-fixed-all-cate - INFO - new image has been created: ref_path: ./test-demo-fixed-all-cate/saved/ref-3-1668074993.8245.png, init_path: ./data/train_part/6/img_train_62837.png, state: 1\n",
      "2022-11-10 18:09:53,826 - test-demo-fixed-all-cate - INFO - dict_keys(['FGSM', 'p_or_g']) has been chosen\n",
      "2022-11-10 18:09:53,994 - test-demo-fixed-all-cate - INFO - new image has been created: ref_path: ./data/train_part/6/img_train_62837.png, init_path: ./data/train_part/6/img_train_62837.png, state: 0\n",
      "2022-11-10 18:09:53,996 - test-demo-fixed-all-cate - INFO - dict_keys(['rotate_zero', 'p_or_g']) has been chosen\n",
      "2022-11-10 18:09:53,997 - test-demo-fixed-all-cate - INFO - new image has been created: ref_path: ./test-demo-fixed-all-cate/saved/ref-0-1668074993.9971452.png, init_path: ./data/train_part/1/img_train_10474.png, state: 1\n",
      "2022-11-10 18:09:53,998 - test-demo-fixed-all-cate - INFO - dict_keys(['rotate_zero', 'p_or_g']) has been chosen\n",
      "2022-11-10 18:09:54,000 - test-demo-fixed-all-cate - INFO - new image has been created: ref_path: ./test-demo-fixed-all-cate/saved/ref-1-1668074993.999821.png, init_path: ./data/train_part/1/img_train_10474.png, state: 1\n",
      "2022-11-10 18:09:54,001 - test-demo-fixed-all-cate - INFO - dict_keys(['rotate_zero', 'p_or_g']) has been chosen\n",
      "2022-11-10 18:09:54,004 - test-demo-fixed-all-cate - INFO - new image has been created: ref_path: ./test-demo-fixed-all-cate/saved/ref-2-1668074994.003582.png, init_path: ./data/train_part/1/img_train_10474.png, state: 1\n",
      "2022-11-10 18:09:54,005 - test-demo-fixed-all-cate - INFO - dict_keys(['rotate_zero', 'p_or_g']) has been chosen\n",
      "2022-11-10 18:09:54,007 - test-demo-fixed-all-cate - INFO - new image has been created: ref_path: ./test-demo-fixed-all-cate/saved/ref-3-1668074994.0070348.png, init_path: ./data/train_part/1/img_train_10474.png, state: 1\n",
      "2022-11-10 18:09:54,009 - test-demo-fixed-all-cate - INFO - dict_keys(['FGSM', 'p_or_g']) has been chosen\n"
     ]
    },
    {
     "name": "stdout",
     "output_type": "stream",
     "text": [
      "0.009107447164768988\n",
      "0.00970508085843114\n"
     ]
    },
    {
     "name": "stderr",
     "output_type": "stream",
     "text": [
      "2022-11-10 18:09:54,184 - test-demo-fixed-all-cate - INFO - new image has been created: ref_path: ./data/train_part/1/img_train_10474.png, init_path: ./data/train_part/1/img_train_10474.png, state: 0\n",
      "2022-11-10 18:09:54,185 - test-demo-fixed-all-cate - INFO - dict_keys(['rotate_zero', 'p_or_g']) has been chosen\n",
      "2022-11-10 18:09:54,187 - test-demo-fixed-all-cate - INFO - new image has been created: ref_path: ./test-demo-fixed-all-cate/saved/ref-0-1668074994.186993.png, init_path: ./data/train_part/4/img_train_40536.png, state: 1\n",
      "2022-11-10 18:09:54,188 - test-demo-fixed-all-cate - INFO - dict_keys(['rotate_zero', 'p_or_g']) has been chosen\n",
      "2022-11-10 18:09:54,191 - test-demo-fixed-all-cate - INFO - new image has been created: ref_path: ./test-demo-fixed-all-cate/saved/ref-1-1668074994.190091.png, init_path: ./data/train_part/4/img_train_40536.png, state: 1\n",
      "2022-11-10 18:09:54,192 - test-demo-fixed-all-cate - INFO - dict_keys(['FGSM', 'p_or_g']) has been chosen\n",
      "2022-11-10 18:09:54,357 - test-demo-fixed-all-cate - INFO - new image has been created: ref_path: ./data/train_part/4/img_train_40536.png, init_path: ./data/train_part/4/img_train_40536.png, state: 0\n",
      "2022-11-10 18:09:54,358 - test-demo-fixed-all-cate - INFO - dict_keys(['FGSM', 'p_or_g']) has been chosen\n"
     ]
    },
    {
     "name": "stdout",
     "output_type": "stream",
     "text": [
      "0.006583427587931389\n",
      "0.006761657743415166\n"
     ]
    },
    {
     "name": "stderr",
     "output_type": "stream",
     "text": [
      "2022-11-10 18:09:54,527 - test-demo-fixed-all-cate - INFO - new image has been created: ref_path: ./data/train_part/4/img_train_40536.png, init_path: ./data/train_part/4/img_train_40536.png, state: 0\n",
      "2022-11-10 18:09:54,528 - test-demo-fixed-all-cate - INFO - dict_keys(['FGSM', 'p_or_g']) has been chosen\n",
      "2022-11-10 18:09:54,706 - test-demo-fixed-all-cate - INFO - new image has been created: ref_path: ./data/train_part/4/img_train_40536.png, init_path: ./data/train_part/4/img_train_40536.png, state: 0\n",
      "2022-11-10 18:09:54,708 - test-demo-fixed-all-cate - INFO - dict_keys(['rotate_zero', 'p_or_g']) has been chosen\n",
      "2022-11-10 18:09:54,711 - test-demo-fixed-all-cate - INFO - new image has been created: ref_path: ./test-demo-fixed-all-cate/saved/ref-0-1668074994.710319.png, init_path: ./data/train_part/4/img_train_40682.png, state: 1\n",
      "2022-11-10 18:09:54,712 - test-demo-fixed-all-cate - INFO - dict_keys(['FGSM', 'p_or_g']) has been chosen\n"
     ]
    },
    {
     "name": "stdout",
     "output_type": "stream",
     "text": [
      "0.009548641387402156\n",
      "0.006321201167671238\n"
     ]
    },
    {
     "name": "stderr",
     "output_type": "stream",
     "text": [
      "2022-11-10 18:09:54,888 - test-demo-fixed-all-cate - INFO - new image has been created: ref_path: ./data/train_part/4/img_train_40682.png, init_path: ./data/train_part/4/img_train_40682.png, state: 0\n",
      "2022-11-10 18:09:54,889 - test-demo-fixed-all-cate - INFO - dict_keys(['FGSM', 'p_or_g']) has been chosen\n",
      "2022-11-10 18:09:55,069 - test-demo-fixed-all-cate - INFO - new image has been created: ref_path: ./data/train_part/4/img_train_40682.png, init_path: ./data/train_part/4/img_train_40682.png, state: 0\n",
      "2022-11-10 18:09:55,087 - test-demo-fixed-all-cate - INFO - dict_keys(['rotate_zero', 'p_or_g']) has been chosen\n",
      "2022-11-10 18:09:55,090 - test-demo-fixed-all-cate - INFO - new image has been created: ref_path: ./test-demo-fixed-all-cate/saved/ref-3-1668074995.088895.png, init_path: ./data/train_part/4/img_train_40682.png, state: 1\n",
      "2022-11-10 18:09:55,091 - test-demo-fixed-all-cate - INFO - dict_keys(['FGSM', 'p_or_g']) has been chosen\n"
     ]
    },
    {
     "name": "stdout",
     "output_type": "stream",
     "text": [
      "0.0053632017690584686\n"
     ]
    },
    {
     "name": "stderr",
     "output_type": "stream",
     "text": [
      "2022-11-10 18:09:55,263 - test-demo-fixed-all-cate - INFO - new image has been created: ref_path: ./data/train_part/4/img_train_40682.png, init_path: ./data/train_part/4/img_train_40682.png, state: 0\n",
      "2022-11-10 18:09:55,265 - test-demo-fixed-all-cate - INFO - dict_keys(['rotate_zero', 'p_or_g']) has been chosen\n",
      "2022-11-10 18:09:55,267 - test-demo-fixed-all-cate - INFO - new image has been created: ref_path: ./test-demo-fixed-all-cate/saved/ref-0-1668074995.266529.png, init_path: ./data/train_part/4/img_train_40551.png, state: 1\n",
      "2022-11-10 18:09:55,267 - test-demo-fixed-all-cate - INFO - dict_keys(['rotate_zero', 'p_or_g']) has been chosen\n",
      "2022-11-10 18:09:55,270 - test-demo-fixed-all-cate - INFO - new image has been created: ref_path: ./test-demo-fixed-all-cate/saved/ref-1-1668074995.269372.png, init_path: ./data/train_part/4/img_train_40551.png, state: 1\n",
      "2022-11-10 18:09:55,271 - test-demo-fixed-all-cate - INFO - dict_keys(['FGSM', 'p_or_g']) has been chosen\n"
     ]
    },
    {
     "name": "stdout",
     "output_type": "stream",
     "text": [
      "0.008442605021120118\n",
      "0.008201457468411557\n"
     ]
    },
    {
     "name": "stderr",
     "output_type": "stream",
     "text": [
      "2022-11-10 18:09:55,442 - test-demo-fixed-all-cate - INFO - new image has been created: ref_path: ./data/train_part/4/img_train_40551.png, init_path: ./data/train_part/4/img_train_40551.png, state: 0\n",
      "2022-11-10 18:09:55,443 - test-demo-fixed-all-cate - INFO - dict_keys(['rotate_zero', 'p_or_g']) has been chosen\n",
      "2022-11-10 18:09:55,444 - test-demo-fixed-all-cate - INFO - new image has been created: ref_path: ./test-demo-fixed-all-cate/saved/ref-3-1668074995.4439301.png, init_path: ./data/train_part/4/img_train_40551.png, state: 1\n",
      "2022-11-10 18:09:55,445 - test-demo-fixed-all-cate - INFO - dict_keys(['FGSM', 'p_or_g']) has been chosen\n",
      "2022-11-10 18:09:55,611 - test-demo-fixed-all-cate - INFO - new image has been created: ref_path: ./data/train_part/4/img_train_40551.png, init_path: ./data/train_part/4/img_train_40551.png, state: 0\n",
      "2022-11-10 18:09:55,613 - test-demo-fixed-all-cate - INFO - dict_keys(['FGSM', 'p_or_g']) has been chosen\n"
     ]
    },
    {
     "name": "stdout",
     "output_type": "stream",
     "text": [
      "0.005021953172537278\n",
      "0.008434304373952532\n"
     ]
    },
    {
     "name": "stderr",
     "output_type": "stream",
     "text": [
      "2022-11-10 18:09:55,785 - test-demo-fixed-all-cate - INFO - new image has been created: ref_path: ./data/train_part/4/img_train_39675.png, init_path: ./data/train_part/4/img_train_39675.png, state: 0\n",
      "2022-11-10 18:09:55,786 - test-demo-fixed-all-cate - INFO - dict_keys(['FGSM', 'p_or_g']) has been chosen\n",
      "2022-11-10 18:09:55,953 - test-demo-fixed-all-cate - INFO - new image has been created: ref_path: ./data/train_part/4/img_train_39675.png, init_path: ./data/train_part/4/img_train_39675.png, state: 0\n",
      "2022-11-10 18:09:55,955 - test-demo-fixed-all-cate - INFO - dict_keys(['rotate_zero', 'p_or_g']) has been chosen\n",
      "2022-11-10 18:09:55,957 - test-demo-fixed-all-cate - INFO - new image has been created: ref_path: ./test-demo-fixed-all-cate/saved/ref-2-1668074995.9567091.png, init_path: ./data/train_part/4/img_train_39675.png, state: 1\n",
      "2022-11-10 18:09:55,958 - test-demo-fixed-all-cate - INFO - dict_keys(['FGSM', 'p_or_g']) has been chosen\n"
     ]
    },
    {
     "name": "stdout",
     "output_type": "stream",
     "text": [
      "0.009588694053549132\n",
      "0.00746165949400643\n"
     ]
    },
    {
     "name": "stderr",
     "output_type": "stream",
     "text": [
      "2022-11-10 18:09:56,128 - test-demo-fixed-all-cate - INFO - new image has been created: ref_path: ./data/train_part/4/img_train_39675.png, init_path: ./data/train_part/4/img_train_39675.png, state: 0\n",
      "2022-11-10 18:09:56,129 - test-demo-fixed-all-cate - INFO - dict_keys(['rotate_zero', 'p_or_g']) has been chosen\n",
      "2022-11-10 18:09:56,132 - test-demo-fixed-all-cate - INFO - new image has been created: ref_path: ./test-demo-fixed-all-cate/saved/ref-4-1668074996.131114.png, init_path: ./data/train_part/4/img_train_39675.png, state: 1\n",
      "2022-11-10 18:09:56,133 - test-demo-fixed-all-cate - INFO - dict_keys(['rotate_zero', 'p_or_g']) has been chosen\n",
      "2022-11-10 18:09:56,136 - test-demo-fixed-all-cate - INFO - new image has been created: ref_path: ./test-demo-fixed-all-cate/saved/ref-0-1668074996.135307.png, init_path: ./data/train_part/4/img_train_39439.png, state: 1\n",
      "2022-11-10 18:09:56,136 - test-demo-fixed-all-cate - INFO - dict_keys(['FGSM', 'p_or_g']) has been chosen\n"
     ]
    },
    {
     "name": "stdout",
     "output_type": "stream",
     "text": [
      "0.005213213781040222\n"
     ]
    },
    {
     "name": "stderr",
     "output_type": "stream",
     "text": [
      "2022-11-10 18:09:56,354 - test-demo-fixed-all-cate - INFO - new image has been created: ref_path: ./data/train_part/4/img_train_39439.png, init_path: ./data/train_part/4/img_train_39439.png, state: 0\n",
      "2022-11-10 18:09:56,355 - test-demo-fixed-all-cate - INFO - dict_keys(['rotate_zero', 'p_or_g']) has been chosen\n",
      "2022-11-10 18:09:56,357 - test-demo-fixed-all-cate - INFO - new image has been created: ref_path: ./test-demo-fixed-all-cate/saved/ref-2-1668074996.356947.png, init_path: ./data/train_part/4/img_train_39439.png, state: 1\n",
      "2022-11-10 18:09:56,359 - test-demo-fixed-all-cate - INFO - dict_keys(['rotate_zero', 'p_or_g']) has been chosen\n",
      "2022-11-10 18:09:56,363 - test-demo-fixed-all-cate - INFO - new image has been created: ref_path: ./test-demo-fixed-all-cate/saved/ref-3-1668074996.361831.png, init_path: ./data/train_part/4/img_train_39439.png, state: 1\n",
      "2022-11-10 18:09:56,366 - test-demo-fixed-all-cate - INFO - dict_keys(['FGSM', 'p_or_g']) has been chosen\n",
      "2022-11-10 18:09:56,559 - test-demo-fixed-all-cate - INFO - new image has been created: ref_path: ./data/train_part/4/img_train_39439.png, init_path: ./data/train_part/4/img_train_39439.png, state: 0\n",
      "2022-11-10 18:09:56,561 - test-demo-fixed-all-cate - INFO - dict_keys(['FGSM', 'p_or_g']) has been chosen\n"
     ]
    },
    {
     "name": "stdout",
     "output_type": "stream",
     "text": [
      "0.006283866871873958\n",
      "0.006633109350157324\n"
     ]
    },
    {
     "name": "stderr",
     "output_type": "stream",
     "text": [
      "2022-11-10 18:09:56,732 - test-demo-fixed-all-cate - INFO - new image has been created: ref_path: ./data/train_part/3/img_train_29636.png, init_path: ./data/train_part/3/img_train_29636.png, state: 0\n",
      "2022-11-10 18:09:56,733 - test-demo-fixed-all-cate - INFO - dict_keys(['FGSM', 'p_or_g']) has been chosen\n",
      "2022-11-10 18:09:56,899 - test-demo-fixed-all-cate - INFO - new image has been created: ref_path: ./data/train_part/3/img_train_29636.png, init_path: ./data/train_part/3/img_train_29636.png, state: 0\n",
      "2022-11-10 18:09:56,900 - test-demo-fixed-all-cate - INFO - dict_keys(['rotate_zero', 'p_or_g']) has been chosen\n",
      "2022-11-10 18:09:56,904 - test-demo-fixed-all-cate - INFO - new image has been created: ref_path: ./test-demo-fixed-all-cate/saved/ref-2-1668074996.9032252.png, init_path: ./data/train_part/3/img_train_29636.png, state: 1\n",
      "2022-11-10 18:09:56,905 - test-demo-fixed-all-cate - INFO - dict_keys(['rotate_zero', 'p_or_g']) has been chosen\n",
      "2022-11-10 18:09:56,907 - test-demo-fixed-all-cate - INFO - new image has been created: ref_path: ./test-demo-fixed-all-cate/saved/ref-3-1668074996.9067562.png, init_path: ./data/train_part/3/img_train_29636.png, state: 1\n",
      "2022-11-10 18:09:56,908 - test-demo-fixed-all-cate - INFO - dict_keys(['FGSM', 'p_or_g']) has been chosen\n"
     ]
    },
    {
     "name": "stdout",
     "output_type": "stream",
     "text": [
      "0.008588153190844942\n",
      "0.007732720835823683\n"
     ]
    },
    {
     "name": "stderr",
     "output_type": "stream",
     "text": [
      "2022-11-10 18:09:57,068 - test-demo-fixed-all-cate - INFO - new image has been created: ref_path: ./data/train_part/3/img_train_29636.png, init_path: ./data/train_part/3/img_train_29636.png, state: 0\n",
      "2022-11-10 18:09:57,070 - test-demo-fixed-all-cate - INFO - dict_keys(['FGSM', 'p_or_g']) has been chosen\n",
      "2022-11-10 18:09:57,230 - test-demo-fixed-all-cate - INFO - new image has been created: ref_path: ./data/train_part/3/img_train_30412.png, init_path: ./data/train_part/3/img_train_30412.png, state: 0\n",
      "2022-11-10 18:09:57,231 - test-demo-fixed-all-cate - INFO - dict_keys(['rotate_zero', 'p_or_g']) has been chosen\n",
      "2022-11-10 18:09:57,233 - test-demo-fixed-all-cate - INFO - new image has been created: ref_path: ./test-demo-fixed-all-cate/saved/ref-1-1668074997.232586.png, init_path: ./data/train_part/3/img_train_30412.png, state: 1\n",
      "2022-11-10 18:09:57,234 - test-demo-fixed-all-cate - INFO - dict_keys(['FGSM', 'p_or_g']) has been chosen\n"
     ]
    },
    {
     "name": "stdout",
     "output_type": "stream",
     "text": [
      "0.005720459159341472\n",
      "0.008556370510363797\n"
     ]
    },
    {
     "name": "stderr",
     "output_type": "stream",
     "text": [
      "2022-11-10 18:09:57,406 - test-demo-fixed-all-cate - INFO - new image has been created: ref_path: ./data/train_part/3/img_train_30412.png, init_path: ./data/train_part/3/img_train_30412.png, state: 0\n",
      "2022-11-10 18:09:57,407 - test-demo-fixed-all-cate - INFO - dict_keys(['FGSM', 'p_or_g']) has been chosen\n",
      "2022-11-10 18:09:57,572 - test-demo-fixed-all-cate - INFO - new image has been created: ref_path: ./data/train_part/3/img_train_30412.png, init_path: ./data/train_part/3/img_train_30412.png, state: 0\n",
      "2022-11-10 18:09:57,573 - test-demo-fixed-all-cate - INFO - dict_keys(['rotate_zero', 'p_or_g']) has been chosen\n",
      "2022-11-10 18:09:57,575 - test-demo-fixed-all-cate - INFO - new image has been created: ref_path: ./test-demo-fixed-all-cate/saved/ref-4-1668074997.574469.png, init_path: ./data/train_part/3/img_train_30412.png, state: 1\n",
      "2022-11-10 18:09:57,576 - test-demo-fixed-all-cate - INFO - dict_keys(['FGSM', 'p_or_g']) has been chosen\n"
     ]
    },
    {
     "name": "stdout",
     "output_type": "stream",
     "text": [
      "0.005527372548769869\n",
      "0.007002917240045032\n"
     ]
    },
    {
     "name": "stderr",
     "output_type": "stream",
     "text": [
      "2022-11-10 18:09:57,739 - test-demo-fixed-all-cate - INFO - new image has been created: ref_path: ./data/train_part/3/img_train_30374.png, init_path: ./data/train_part/3/img_train_30374.png, state: 0\n",
      "2022-11-10 18:09:57,740 - test-demo-fixed-all-cate - INFO - dict_keys(['rotate_zero', 'p_or_g']) has been chosen\n",
      "2022-11-10 18:09:57,742 - test-demo-fixed-all-cate - INFO - new image has been created: ref_path: ./test-demo-fixed-all-cate/saved/ref-1-1668074997.7415109.png, init_path: ./data/train_part/3/img_train_30374.png, state: 1\n",
      "2022-11-10 18:09:57,743 - test-demo-fixed-all-cate - INFO - dict_keys(['rotate_zero', 'p_or_g']) has been chosen\n",
      "2022-11-10 18:09:57,744 - test-demo-fixed-all-cate - INFO - new image has been created: ref_path: ./test-demo-fixed-all-cate/saved/ref-2-1668074997.744159.png, init_path: ./data/train_part/3/img_train_30374.png, state: 1\n",
      "2022-11-10 18:09:57,745 - test-demo-fixed-all-cate - INFO - dict_keys(['FGSM', 'p_or_g']) has been chosen\n"
     ]
    },
    {
     "name": "stdout",
     "output_type": "stream",
     "text": [
      "0.008132048560622928\n"
     ]
    },
    {
     "name": "stderr",
     "output_type": "stream",
     "text": [
      "2022-11-10 18:09:57,951 - test-demo-fixed-all-cate - INFO - new image has been created: ref_path: ./data/train_part/3/img_train_30374.png, init_path: ./data/train_part/3/img_train_30374.png, state: 0\n",
      "2022-11-10 18:09:57,952 - test-demo-fixed-all-cate - INFO - dict_keys(['FGSM', 'p_or_g']) has been chosen\n",
      "2022-11-10 18:09:58,118 - test-demo-fixed-all-cate - INFO - new image has been created: ref_path: ./data/train_part/3/img_train_30374.png, init_path: ./data/train_part/3/img_train_30374.png, state: 0\n",
      "2022-11-10 18:09:58,119 - test-demo-fixed-all-cate - INFO - dict_keys(['FGSM', 'p_or_g']) has been chosen\n"
     ]
    },
    {
     "name": "stdout",
     "output_type": "stream",
     "text": [
      "0.00656258615007213\n",
      "0.005509626757892725\n"
     ]
    },
    {
     "name": "stderr",
     "output_type": "stream",
     "text": [
      "2022-11-10 18:09:58,280 - test-demo-fixed-all-cate - INFO - new image has been created: ref_path: ./data/train_part/3/img_train_29533.png, init_path: ./data/train_part/3/img_train_29533.png, state: 0\n",
      "2022-11-10 18:09:58,280 - test-demo-fixed-all-cate - INFO - dict_keys(['rotate_zero', 'p_or_g']) has been chosen\n",
      "2022-11-10 18:09:58,282 - test-demo-fixed-all-cate - INFO - new image has been created: ref_path: ./test-demo-fixed-all-cate/saved/ref-1-1668074998.2821708.png, init_path: ./data/train_part/3/img_train_29533.png, state: 1\n",
      "2022-11-10 18:09:58,283 - test-demo-fixed-all-cate - INFO - dict_keys(['FGSM', 'p_or_g']) has been chosen\n",
      "2022-11-10 18:09:58,444 - test-demo-fixed-all-cate - INFO - new image has been created: ref_path: ./data/train_part/3/img_train_29533.png, init_path: ./data/train_part/3/img_train_29533.png, state: 0\n",
      "2022-11-10 18:09:58,445 - test-demo-fixed-all-cate - INFO - dict_keys(['rotate_zero', 'p_or_g']) has been chosen\n",
      "2022-11-10 18:09:58,447 - test-demo-fixed-all-cate - INFO - new image has been created: ref_path: ./test-demo-fixed-all-cate/saved/ref-3-1668074998.446773.png, init_path: ./data/train_part/3/img_train_29533.png, state: 1\n",
      "2022-11-10 18:09:58,448 - test-demo-fixed-all-cate - INFO - dict_keys(['rotate_zero', 'p_or_g']) has been chosen\n",
      "2022-11-10 18:09:58,449 - test-demo-fixed-all-cate - INFO - new image has been created: ref_path: ./test-demo-fixed-all-cate/saved/ref-4-1668074998.4493508.png, init_path: ./data/train_part/3/img_train_29533.png, state: 1\n",
      "2022-11-10 18:09:58,450 - test-demo-fixed-all-cate - INFO - dict_keys(['rotate_zero', 'p_or_g']) has been chosen\n",
      "2022-11-10 18:09:58,452 - test-demo-fixed-all-cate - INFO - new image has been created: ref_path: ./test-demo-fixed-all-cate/saved/ref-0-1668074998.452109.png, init_path: ./data/train_part/3/img_train_29559.png, state: 1\n",
      "2022-11-10 18:09:58,453 - test-demo-fixed-all-cate - INFO - dict_keys(['rotate_zero', 'p_or_g']) has been chosen\n",
      "2022-11-10 18:09:58,454 - test-demo-fixed-all-cate - INFO - new image has been created: ref_path: ./test-demo-fixed-all-cate/saved/ref-1-1668074998.45428.png, init_path: ./data/train_part/3/img_train_29559.png, state: 1\n",
      "2022-11-10 18:09:58,455 - test-demo-fixed-all-cate - INFO - dict_keys(['FGSM', 'p_or_g']) has been chosen\n"
     ]
    },
    {
     "name": "stdout",
     "output_type": "stream",
     "text": [
      "0.007671753672612956\n",
      "0.007620824430040988\n"
     ]
    },
    {
     "name": "stderr",
     "output_type": "stream",
     "text": [
      "2022-11-10 18:09:58,616 - test-demo-fixed-all-cate - INFO - new image has been created: ref_path: ./data/train_part/3/img_train_29559.png, init_path: ./data/train_part/3/img_train_29559.png, state: 0\n",
      "2022-11-10 18:09:58,616 - test-demo-fixed-all-cate - INFO - dict_keys(['FGSM', 'p_or_g']) has been chosen\n",
      "2022-11-10 18:09:58,774 - test-demo-fixed-all-cate - INFO - new image has been created: ref_path: ./data/train_part/3/img_train_29559.png, init_path: ./data/train_part/3/img_train_29559.png, state: 0\n",
      "2022-11-10 18:09:58,774 - test-demo-fixed-all-cate - INFO - dict_keys(['rotate_zero', 'p_or_g']) has been chosen\n",
      "2022-11-10 18:09:58,776 - test-demo-fixed-all-cate - INFO - new image has been created: ref_path: ./test-demo-fixed-all-cate/saved/ref-4-1668074998.775894.png, init_path: ./data/train_part/3/img_train_29559.png, state: 1\n",
      "2022-11-10 18:09:58,777 - test-demo-fixed-all-cate - INFO - dict_keys(['FGSM', 'p_or_g']) has been chosen\n"
     ]
    },
    {
     "name": "stdout",
     "output_type": "stream",
     "text": [
      "0.006524272343477348\n",
      "0.005959491986166121\n"
     ]
    },
    {
     "name": "stderr",
     "output_type": "stream",
     "text": [
      "2022-11-10 18:09:58,937 - test-demo-fixed-all-cate - INFO - new image has been created: ref_path: ./data/train_part/5/img_train_49202.png, init_path: ./data/train_part/5/img_train_49202.png, state: 0\n",
      "2022-11-10 18:09:58,938 - test-demo-fixed-all-cate - INFO - dict_keys(['rotate_zero', 'p_or_g']) has been chosen\n",
      "2022-11-10 18:09:58,940 - test-demo-fixed-all-cate - INFO - new image has been created: ref_path: ./test-demo-fixed-all-cate/saved/ref-1-1668074998.939771.png, init_path: ./data/train_part/5/img_train_49202.png, state: 1\n",
      "2022-11-10 18:09:58,941 - test-demo-fixed-all-cate - INFO - dict_keys(['FGSM', 'p_or_g']) has been chosen\n",
      "2022-11-10 18:09:59,104 - test-demo-fixed-all-cate - INFO - new image has been created: ref_path: ./data/train_part/5/img_train_49202.png, init_path: ./data/train_part/5/img_train_49202.png, state: 0\n",
      "2022-11-10 18:09:59,105 - test-demo-fixed-all-cate - INFO - dict_keys(['rotate_zero', 'p_or_g']) has been chosen\n",
      "2022-11-10 18:09:59,107 - test-demo-fixed-all-cate - INFO - new image has been created: ref_path: ./test-demo-fixed-all-cate/saved/ref-3-1668074999.107199.png, init_path: ./data/train_part/5/img_train_49202.png, state: 1\n",
      "2022-11-10 18:09:59,108 - test-demo-fixed-all-cate - INFO - dict_keys(['FGSM', 'p_or_g']) has been chosen\n"
     ]
    },
    {
     "name": "stdout",
     "output_type": "stream",
     "text": [
      "0.006401626030800859\n",
      "0.00740725650177826\n"
     ]
    },
    {
     "name": "stderr",
     "output_type": "stream",
     "text": [
      "2022-11-10 18:09:59,272 - test-demo-fixed-all-cate - INFO - new image has been created: ref_path: ./data/train_part/5/img_train_49202.png, init_path: ./data/train_part/5/img_train_49202.png, state: 0\n",
      "2022-11-10 18:09:59,273 - test-demo-fixed-all-cate - INFO - dict_keys(['FGSM', 'p_or_g']) has been chosen\n",
      "2022-11-10 18:09:59,424 - test-demo-fixed-all-cate - INFO - new image has been created: ref_path: ./data/train_part/5/img_train_49594.png, init_path: ./data/train_part/5/img_train_49594.png, state: 0\n",
      "2022-11-10 18:09:59,424 - test-demo-fixed-all-cate - INFO - dict_keys(['FGSM', 'p_or_g']) has been chosen\n"
     ]
    },
    {
     "name": "stdout",
     "output_type": "stream",
     "text": [
      "0.007650900983071989\n",
      "0.006556401336560479\n"
     ]
    },
    {
     "name": "stderr",
     "output_type": "stream",
     "text": [
      "2022-11-10 18:09:59,574 - test-demo-fixed-all-cate - INFO - new image has been created: ref_path: ./data/train_part/5/img_train_49594.png, init_path: ./data/train_part/5/img_train_49594.png, state: 0\n",
      "2022-11-10 18:09:59,575 - test-demo-fixed-all-cate - INFO - dict_keys(['rotate_zero', 'p_or_g']) has been chosen\n",
      "2022-11-10 18:09:59,577 - test-demo-fixed-all-cate - INFO - new image has been created: ref_path: ./test-demo-fixed-all-cate/saved/ref-2-1668074999.57684.png, init_path: ./data/train_part/5/img_train_49594.png, state: 1\n",
      "2022-11-10 18:09:59,578 - test-demo-fixed-all-cate - INFO - dict_keys(['rotate_zero', 'p_or_g']) has been chosen\n",
      "2022-11-10 18:09:59,579 - test-demo-fixed-all-cate - INFO - new image has been created: ref_path: ./test-demo-fixed-all-cate/saved/ref-3-1668074999.5793002.png, init_path: ./data/train_part/5/img_train_49594.png, state: 1\n",
      "2022-11-10 18:09:59,580 - test-demo-fixed-all-cate - INFO - dict_keys(['FGSM', 'p_or_g']) has been chosen\n",
      "2022-11-10 18:09:59,733 - test-demo-fixed-all-cate - INFO - new image has been created: ref_path: ./data/train_part/5/img_train_49594.png, init_path: ./data/train_part/5/img_train_49594.png, state: 0\n",
      "2022-11-10 18:09:59,735 - test-demo-fixed-all-cate - INFO - dict_keys(['FGSM', 'p_or_g']) has been chosen\n"
     ]
    },
    {
     "name": "stdout",
     "output_type": "stream",
     "text": [
      "0.005894053298546736\n",
      "0.006245987052459117\n"
     ]
    },
    {
     "name": "stderr",
     "output_type": "stream",
     "text": [
      "2022-11-10 18:09:59,886 - test-demo-fixed-all-cate - INFO - new image has been created: ref_path: ./data/train_part/5/img_train_50305.png, init_path: ./data/train_part/5/img_train_50305.png, state: 0\n",
      "2022-11-10 18:09:59,887 - test-demo-fixed-all-cate - INFO - dict_keys(['rotate_zero', 'p_or_g']) has been chosen\n",
      "2022-11-10 18:09:59,889 - test-demo-fixed-all-cate - INFO - new image has been created: ref_path: ./test-demo-fixed-all-cate/saved/ref-1-1668074999.8889222.png, init_path: ./data/train_part/5/img_train_50305.png, state: 1\n",
      "2022-11-10 18:09:59,890 - test-demo-fixed-all-cate - INFO - dict_keys(['rotate_zero', 'p_or_g']) has been chosen\n",
      "2022-11-10 18:09:59,892 - test-demo-fixed-all-cate - INFO - new image has been created: ref_path: ./test-demo-fixed-all-cate/saved/ref-2-1668074999.891671.png, init_path: ./data/train_part/5/img_train_50305.png, state: 1\n",
      "2022-11-10 18:09:59,892 - test-demo-fixed-all-cate - INFO - dict_keys(['FGSM', 'p_or_g']) has been chosen\n",
      "2022-11-10 18:10:00,049 - test-demo-fixed-all-cate - INFO - new image has been created: ref_path: ./data/train_part/5/img_train_50305.png, init_path: ./data/train_part/5/img_train_50305.png, state: 0\n",
      "2022-11-10 18:10:00,050 - test-demo-fixed-all-cate - INFO - dict_keys(['rotate_zero', 'p_or_g']) has been chosen\n",
      "2022-11-10 18:10:00,051 - test-demo-fixed-all-cate - INFO - new image has been created: ref_path: ./test-demo-fixed-all-cate/saved/ref-4-1668075000.050991.png, init_path: ./data/train_part/5/img_train_50305.png, state: 1\n",
      "2022-11-10 18:10:00,052 - test-demo-fixed-all-cate - INFO - update seed info successfully, current p is 0.95\n",
      "2022-11-10 18:10:00,053 - test-demo-fixed-all-cate - INFO - update seed info successfully, current p is 0.95\n",
      "2022-11-10 18:10:00,054 - test-demo-fixed-all-cate - INFO - update seed info successfully, current p is 0.95\n",
      "2022-11-10 18:10:00,054 - test-demo-fixed-all-cate - INFO - update seed info successfully, current p is 0.95\n",
      "2022-11-10 18:10:00,055 - test-demo-fixed-all-cate - INFO - update seed info successfully, current p is 0.95\n",
      "2022-11-10 18:10:00,056 - test-demo-fixed-all-cate - INFO - update seed info successfully, current p is 0.95\n",
      "2022-11-10 18:10:00,056 - test-demo-fixed-all-cate - INFO - update seed info successfully, current p is 0.95\n",
      "2022-11-10 18:10:00,057 - test-demo-fixed-all-cate - INFO - update seed info successfully, current p is 0.95\n",
      "2022-11-10 18:10:00,058 - test-demo-fixed-all-cate - INFO - update seed info successfully, current p is 0.95\n",
      "2022-11-10 18:10:00,059 - test-demo-fixed-all-cate - INFO - update seed info successfully, current p is 0.95\n",
      "2022-11-10 18:10:00,060 - test-demo-fixed-all-cate - INFO - update seed info successfully, current p is 0.95\n",
      "2022-11-10 18:10:00,061 - test-demo-fixed-all-cate - INFO - update seed info successfully, current p is 0.95\n",
      "2022-11-10 18:10:00,062 - test-demo-fixed-all-cate - INFO - update seed info successfully, current p is 0.95\n",
      "2022-11-10 18:10:00,063 - test-demo-fixed-all-cate - INFO - update seed info successfully, current p is 0.95\n",
      "2022-11-10 18:10:00,063 - test-demo-fixed-all-cate - INFO - update seed info successfully, current p is 0.95\n",
      "2022-11-10 18:10:00,064 - test-demo-fixed-all-cate - INFO - update seed info successfully, current p is 0.95\n"
     ]
    },
    {
     "name": "stdout",
     "output_type": "stream",
     "text": [
      "0.0074746912382304765\n"
     ]
    },
    {
     "name": "stderr",
     "output_type": "stream",
     "text": [
      "2022-11-10 18:10:00,241 - test-demo-fixed-all-cate - INFO - for test-demo-fixed-all-cate/fail_test/6/86.png: its label should be 6, but got 4, it would be stored in test-demo-fixed-all-cate/fail_test/6/86.png\n",
      "2022-11-10 18:10:00,558 - test-demo-fixed-all-cate - INFO - for test-demo-fixed-all-cate/fail_test/4/87.png: its label should be 4, but got 2, it would be stored in test-demo-fixed-all-cate/fail_test/4/87.png\n",
      "2022-11-10 18:10:13,760 - test-demo-fixed-all-cate - INFO - the new seed would be stored as test-demo-fixed-all-cate/saved/88.png\n",
      "2022-11-10 18:10:13,762 - test-demo-fixed-all-cate - INFO - add new seed successfully, current seed queue length: 1699, new path: test-demo-fixed-all-cate/saved/88.png, init path: ./data/train_part/0/img_train_2253.png, ref_path: ./data/train_part/0/img_train_2253.png, label: 0, state: 0\n",
      "2022-11-10 18:10:13,765 - test-demo-fixed-all-cate - INFO - the new seed would be stored as test-demo-fixed-all-cate/saved/89.png\n",
      "2022-11-10 18:10:13,766 - test-demo-fixed-all-cate - INFO - add new seed successfully, current seed queue length: 1700, new path: test-demo-fixed-all-cate/saved/89.png, init path: ./data/train_part/0/img_train_2253.png, ref_path: ./data/train_part/0/img_train_2253.png, label: 0, state: 0\n",
      "2022-11-10 18:10:13,768 - test-demo-fixed-all-cate - INFO - the new seed would be stored as test-demo-fixed-all-cate/saved/90.png\n",
      "2022-11-10 18:10:13,769 - test-demo-fixed-all-cate - INFO - add new seed successfully, current seed queue length: 1701, new path: test-demo-fixed-all-cate/saved/90.png, init path: ./data/train_part/6/img_train_62837.png, ref_path: ./data/train_part/6/img_train_62837.png, label: 6, state: 0\n",
      "2022-11-10 18:10:13,771 - test-demo-fixed-all-cate - INFO - the new seed would be stored as test-demo-fixed-all-cate/saved/91.png\n",
      "2022-11-10 18:10:13,772 - test-demo-fixed-all-cate - INFO - add new seed successfully, current seed queue length: 1702, new path: test-demo-fixed-all-cate/saved/91.png, init path: ./data/train_part/1/img_train_10474.png, ref_path: ./test-demo-fixed-all-cate/saved/ref-0-1668074993.9971452.png, label: 1, state: 1\n",
      "2022-11-10 18:10:13,773 - test-demo-fixed-all-cate - INFO - the new seed would be stored as test-demo-fixed-all-cate/saved/92.png\n",
      "2022-11-10 18:10:13,774 - test-demo-fixed-all-cate - INFO - add new seed successfully, current seed queue length: 1703, new path: test-demo-fixed-all-cate/saved/92.png, init path: ./data/train_part/1/img_train_10474.png, ref_path: ./test-demo-fixed-all-cate/saved/ref-1-1668074993.999821.png, label: 1, state: 1\n",
      "2022-11-10 18:10:13,776 - test-demo-fixed-all-cate - INFO - the new seed would be stored as test-demo-fixed-all-cate/saved/93.png\n",
      "2022-11-10 18:10:13,777 - test-demo-fixed-all-cate - INFO - add new seed successfully, current seed queue length: 1704, new path: test-demo-fixed-all-cate/saved/93.png, init path: ./data/train_part/1/img_train_10474.png, ref_path: ./test-demo-fixed-all-cate/saved/ref-2-1668074994.003582.png, label: 1, state: 1\n",
      "2022-11-10 18:10:13,778 - test-demo-fixed-all-cate - INFO - the new seed would be stored as test-demo-fixed-all-cate/saved/94.png\n",
      "2022-11-10 18:10:13,779 - test-demo-fixed-all-cate - INFO - add new seed successfully, current seed queue length: 1705, new path: test-demo-fixed-all-cate/saved/94.png, init path: ./data/train_part/1/img_train_10474.png, ref_path: ./test-demo-fixed-all-cate/saved/ref-3-1668074994.0070348.png, label: 1, state: 1\n",
      "2022-11-10 18:10:13,781 - test-demo-fixed-all-cate - INFO - the new seed would be stored as test-demo-fixed-all-cate/saved/95.png\n",
      "2022-11-10 18:10:13,782 - test-demo-fixed-all-cate - INFO - add new seed successfully, current seed queue length: 1706, new path: test-demo-fixed-all-cate/saved/95.png, init path: ./data/train_part/1/img_train_10474.png, ref_path: ./data/train_part/1/img_train_10474.png, label: 1, state: 0\n",
      "2022-11-10 18:10:13,784 - test-demo-fixed-all-cate - INFO - the new seed would be stored as test-demo-fixed-all-cate/saved/96.png\n",
      "2022-11-10 18:10:13,785 - test-demo-fixed-all-cate - INFO - add new seed successfully, current seed queue length: 1707, new path: test-demo-fixed-all-cate/saved/96.png, init path: ./data/train_part/4/img_train_40536.png, ref_path: ./test-demo-fixed-all-cate/saved/ref-0-1668074994.186993.png, label: 4, state: 1\n",
      "2022-11-10 18:10:13,786 - test-demo-fixed-all-cate - INFO - the new seed would be stored as test-demo-fixed-all-cate/saved/97.png\n",
      "2022-11-10 18:10:13,787 - test-demo-fixed-all-cate - INFO - add new seed successfully, current seed queue length: 1708, new path: test-demo-fixed-all-cate/saved/97.png, init path: ./data/train_part/4/img_train_40536.png, ref_path: ./test-demo-fixed-all-cate/saved/ref-1-1668074994.190091.png, label: 4, state: 1\n",
      "2022-11-10 18:10:13,789 - test-demo-fixed-all-cate - INFO - the new seed would be stored as test-demo-fixed-all-cate/saved/98.png\n",
      "2022-11-10 18:10:13,790 - test-demo-fixed-all-cate - INFO - add new seed successfully, current seed queue length: 1709, new path: test-demo-fixed-all-cate/saved/98.png, init path: ./data/train_part/4/img_train_40682.png, ref_path: ./test-demo-fixed-all-cate/saved/ref-0-1668074994.710319.png, label: 4, state: 1\n",
      "2022-11-10 18:10:13,792 - test-demo-fixed-all-cate - INFO - the new seed would be stored as test-demo-fixed-all-cate/saved/99.png\n",
      "2022-11-10 18:10:13,793 - test-demo-fixed-all-cate - INFO - add new seed successfully, current seed queue length: 1710, new path: test-demo-fixed-all-cate/saved/99.png, init path: ./data/train_part/4/img_train_40682.png, ref_path: ./test-demo-fixed-all-cate/saved/ref-3-1668074995.088895.png, label: 4, state: 1\n",
      "2022-11-10 18:10:13,795 - test-demo-fixed-all-cate - INFO - the new seed would be stored as test-demo-fixed-all-cate/saved/100.png\n",
      "2022-11-10 18:10:13,796 - test-demo-fixed-all-cate - INFO - add new seed successfully, current seed queue length: 1711, new path: test-demo-fixed-all-cate/saved/100.png, init path: ./data/train_part/4/img_train_39439.png, ref_path: ./test-demo-fixed-all-cate/saved/ref-0-1668074996.135307.png, label: 4, state: 1\n",
      "2022-11-10 18:10:13,797 - test-demo-fixed-all-cate - INFO - the new seed would be stored as test-demo-fixed-all-cate/saved/101.png\n",
      "2022-11-10 18:10:13,799 - test-demo-fixed-all-cate - INFO - add new seed successfully, current seed queue length: 1712, new path: test-demo-fixed-all-cate/saved/101.png, init path: ./data/train_part/4/img_train_39439.png, ref_path: ./test-demo-fixed-all-cate/saved/ref-2-1668074996.356947.png, label: 4, state: 1\n",
      "2022-11-10 18:10:13,801 - test-demo-fixed-all-cate - INFO - the new seed would be stored as test-demo-fixed-all-cate/saved/102.png\n",
      "2022-11-10 18:10:13,802 - test-demo-fixed-all-cate - INFO - add new seed successfully, current seed queue length: 1713, new path: test-demo-fixed-all-cate/saved/102.png, init path: ./data/train_part/4/img_train_39439.png, ref_path: ./test-demo-fixed-all-cate/saved/ref-3-1668074996.361831.png, label: 4, state: 1\n",
      "2022-11-10 18:10:13,804 - test-demo-fixed-all-cate - INFO - the new seed would be stored as test-demo-fixed-all-cate/saved/103.png\n",
      "2022-11-10 18:10:13,806 - test-demo-fixed-all-cate - INFO - add new seed successfully, current seed queue length: 1714, new path: test-demo-fixed-all-cate/saved/103.png, init path: ./data/train_part/3/img_train_29636.png, ref_path: ./test-demo-fixed-all-cate/saved/ref-2-1668074996.9032252.png, label: 3, state: 1\n",
      "2022-11-10 18:10:13,807 - test-demo-fixed-all-cate - INFO - the new seed would be stored as test-demo-fixed-all-cate/saved/104.png\n",
      "2022-11-10 18:10:13,809 - test-demo-fixed-all-cate - INFO - add new seed successfully, current seed queue length: 1715, new path: test-demo-fixed-all-cate/saved/104.png, init path: ./data/train_part/3/img_train_29636.png, ref_path: ./test-demo-fixed-all-cate/saved/ref-3-1668074996.9067562.png, label: 3, state: 1\n",
      "2022-11-10 18:10:13,811 - test-demo-fixed-all-cate - INFO - the new seed would be stored as test-demo-fixed-all-cate/saved/105.png\n",
      "2022-11-10 18:10:13,812 - test-demo-fixed-all-cate - INFO - add new seed successfully, current seed queue length: 1716, new path: test-demo-fixed-all-cate/saved/105.png, init path: ./data/train_part/3/img_train_30412.png, ref_path: ./test-demo-fixed-all-cate/saved/ref-1-1668074997.232586.png, label: 3, state: 1\n",
      "2022-11-10 18:10:13,813 - test-demo-fixed-all-cate - INFO - the new seed would be stored as test-demo-fixed-all-cate/saved/106.png\n",
      "2022-11-10 18:10:13,815 - test-demo-fixed-all-cate - INFO - add new seed successfully, current seed queue length: 1717, new path: test-demo-fixed-all-cate/saved/106.png, init path: ./data/train_part/3/img_train_30412.png, ref_path: ./test-demo-fixed-all-cate/saved/ref-4-1668074997.574469.png, label: 3, state: 1\n",
      "2022-11-10 18:10:13,816 - test-demo-fixed-all-cate - INFO - the new seed would be stored as test-demo-fixed-all-cate/saved/107.png\n",
      "2022-11-10 18:10:13,818 - test-demo-fixed-all-cate - INFO - add new seed successfully, current seed queue length: 1718, new path: test-demo-fixed-all-cate/saved/107.png, init path: ./data/train_part/3/img_train_30374.png, ref_path: ./test-demo-fixed-all-cate/saved/ref-1-1668074997.7415109.png, label: 3, state: 1\n",
      "2022-11-10 18:10:13,820 - test-demo-fixed-all-cate - INFO - the new seed would be stored as test-demo-fixed-all-cate/saved/108.png\n",
      "2022-11-10 18:10:13,821 - test-demo-fixed-all-cate - INFO - add new seed successfully, current seed queue length: 1719, new path: test-demo-fixed-all-cate/saved/108.png, init path: ./data/train_part/3/img_train_30374.png, ref_path: ./test-demo-fixed-all-cate/saved/ref-2-1668074997.744159.png, label: 3, state: 1\n",
      "2022-11-10 18:10:13,835 - test-demo-fixed-all-cate - INFO - dict_keys(['FGSM', 'p_or_g']) has been chosen\n"
     ]
    },
    {
     "name": "stdout",
     "output_type": "stream",
     "text": [
      "========== iteration-4 ==========\n",
      "0.008167375624803694\n"
     ]
    },
    {
     "name": "stderr",
     "output_type": "stream",
     "text": [
      "2022-11-10 18:10:14,051 - test-demo-fixed-all-cate - INFO - new image has been created: ref_path: ./data/train_part/6/img_train_59787.png, init_path: ./data/train_part/6/img_train_59787.png, state: 0\n",
      "2022-11-10 18:10:14,052 - test-demo-fixed-all-cate - INFO - dict_keys(['FGSM', 'p_or_g']) has been chosen\n",
      "2022-11-10 18:10:14,228 - test-demo-fixed-all-cate - INFO - new image has been created: ref_path: ./data/train_part/6/img_train_59787.png, init_path: ./data/train_part/6/img_train_59787.png, state: 0\n",
      "2022-11-10 18:10:14,229 - test-demo-fixed-all-cate - INFO - dict_keys(['rotate_zero', 'p_or_g']) has been chosen\n",
      "2022-11-10 18:10:14,232 - test-demo-fixed-all-cate - INFO - new image has been created: ref_path: ./test-demo-fixed-all-cate/saved/ref-2-1668075014.2313988.png, init_path: ./data/train_part/6/img_train_59787.png, state: 1\n",
      "2022-11-10 18:10:14,232 - test-demo-fixed-all-cate - INFO - dict_keys(['rotate_zero', 'p_or_g']) has been chosen\n",
      "2022-11-10 18:10:14,234 - test-demo-fixed-all-cate - INFO - new image has been created: ref_path: ./test-demo-fixed-all-cate/saved/ref-3-1668075014.234018.png, init_path: ./data/train_part/6/img_train_59787.png, state: 1\n",
      "2022-11-10 18:10:14,235 - test-demo-fixed-all-cate - INFO - dict_keys(['FGSM', 'p_or_g']) has been chosen\n"
     ]
    },
    {
     "name": "stdout",
     "output_type": "stream",
     "text": [
      "0.009631361488035242\n",
      "0.008918868072158446\n"
     ]
    },
    {
     "name": "stderr",
     "output_type": "stream",
     "text": [
      "2022-11-10 18:10:14,413 - test-demo-fixed-all-cate - INFO - new image has been created: ref_path: ./data/train_part/6/img_train_59787.png, init_path: ./data/train_part/6/img_train_59787.png, state: 0\n",
      "2022-11-10 18:10:14,414 - test-demo-fixed-all-cate - INFO - dict_keys(['FGSM', 'p_or_g']) has been chosen\n",
      "2022-11-10 18:10:14,595 - test-demo-fixed-all-cate - INFO - new image has been created: ref_path: ./data/train_part/6/img_train_62946.png, init_path: ./data/train_part/6/img_train_62946.png, state: 0\n",
      "2022-11-10 18:10:14,596 - test-demo-fixed-all-cate - INFO - dict_keys(['rotate_zero', 'p_or_g']) has been chosen\n",
      "2022-11-10 18:10:14,598 - test-demo-fixed-all-cate - INFO - new image has been created: ref_path: ./test-demo-fixed-all-cate/saved/ref-1-1668075014.597829.png, init_path: ./data/train_part/6/img_train_62946.png, state: 1\n",
      "2022-11-10 18:10:14,599 - test-demo-fixed-all-cate - INFO - dict_keys(['rotate_zero', 'p_or_g']) has been chosen\n",
      "2022-11-10 18:10:14,602 - test-demo-fixed-all-cate - INFO - new image has been created: ref_path: ./test-demo-fixed-all-cate/saved/ref-2-1668075014.60153.png, init_path: ./data/train_part/6/img_train_62946.png, state: 1\n",
      "2022-11-10 18:10:14,603 - test-demo-fixed-all-cate - INFO - dict_keys(['rotate_zero', 'p_or_g']) has been chosen\n",
      "2022-11-10 18:10:14,605 - test-demo-fixed-all-cate - INFO - new image has been created: ref_path: ./test-demo-fixed-all-cate/saved/ref-3-1668075014.604784.png, init_path: ./data/train_part/6/img_train_62946.png, state: 1\n",
      "2022-11-10 18:10:14,606 - test-demo-fixed-all-cate - INFO - dict_keys(['rotate_zero', 'p_or_g']) has been chosen\n",
      "2022-11-10 18:10:14,609 - test-demo-fixed-all-cate - INFO - new image has been created: ref_path: ./test-demo-fixed-all-cate/saved/ref-4-1668075014.60869.png, init_path: ./data/train_part/6/img_train_62946.png, state: 1\n",
      "2022-11-10 18:10:14,610 - test-demo-fixed-all-cate - INFO - dict_keys(['FGSM', 'p_or_g']) has been chosen\n"
     ]
    },
    {
     "name": "stdout",
     "output_type": "stream",
     "text": [
      "0.006348195703220492\n",
      "0.007004643137172262\n"
     ]
    },
    {
     "name": "stderr",
     "output_type": "stream",
     "text": [
      "2022-11-10 18:10:14,791 - test-demo-fixed-all-cate - INFO - new image has been created: ref_path: ./data/train_part/6/img_train_59095.png, init_path: ./data/train_part/6/img_train_59095.png, state: 0\n",
      "2022-11-10 18:10:14,792 - test-demo-fixed-all-cate - INFO - dict_keys(['rotate_zero', 'p_or_g']) has been chosen\n",
      "2022-11-10 18:10:14,794 - test-demo-fixed-all-cate - INFO - new image has been created: ref_path: ./test-demo-fixed-all-cate/saved/ref-1-1668075014.7935622.png, init_path: ./data/train_part/6/img_train_59095.png, state: 1\n",
      "2022-11-10 18:10:14,795 - test-demo-fixed-all-cate - INFO - dict_keys(['rotate_zero', 'p_or_g']) has been chosen\n",
      "2022-11-10 18:10:14,796 - test-demo-fixed-all-cate - INFO - new image has been created: ref_path: ./test-demo-fixed-all-cate/saved/ref-2-1668075014.7964082.png, init_path: ./data/train_part/6/img_train_59095.png, state: 1\n",
      "2022-11-10 18:10:14,797 - test-demo-fixed-all-cate - INFO - dict_keys(['FGSM', 'p_or_g']) has been chosen\n"
     ]
    },
    {
     "name": "stdout",
     "output_type": "stream",
     "text": [
      "0.006791219023853422\n"
     ]
    },
    {
     "name": "stderr",
     "output_type": "stream",
     "text": [
      "2022-11-10 18:10:15,007 - test-demo-fixed-all-cate - INFO - new image has been created: ref_path: ./data/train_part/6/img_train_59095.png, init_path: ./data/train_part/6/img_train_59095.png, state: 0\n",
      "2022-11-10 18:10:15,008 - test-demo-fixed-all-cate - INFO - dict_keys(['rotate_zero', 'p_or_g']) has been chosen\n",
      "2022-11-10 18:10:15,011 - test-demo-fixed-all-cate - INFO - new image has been created: ref_path: ./test-demo-fixed-all-cate/saved/ref-4-1668075015.010679.png, init_path: ./data/train_part/6/img_train_59095.png, state: 1\n",
      "2022-11-10 18:10:15,013 - test-demo-fixed-all-cate - INFO - dict_keys(['rotate_zero', 'p_or_g']) has been chosen\n",
      "2022-11-10 18:10:15,016 - test-demo-fixed-all-cate - INFO - new image has been created: ref_path: ./test-demo-fixed-all-cate/saved/ref-0-1668075015.015441.png, init_path: ./data/train_part/6/img_train_59915.png, state: 1\n",
      "2022-11-10 18:10:15,017 - test-demo-fixed-all-cate - INFO - dict_keys(['FGSM', 'p_or_g']) has been chosen\n",
      "2022-11-10 18:10:15,197 - test-demo-fixed-all-cate - INFO - new image has been created: ref_path: ./data/train_part/6/img_train_59915.png, init_path: ./data/train_part/6/img_train_59915.png, state: 0\n",
      "2022-11-10 18:10:15,198 - test-demo-fixed-all-cate - INFO - dict_keys(['FGSM', 'p_or_g']) has been chosen\n"
     ]
    },
    {
     "name": "stdout",
     "output_type": "stream",
     "text": [
      "0.006643181474932143\n",
      "0.009627705829602968\n"
     ]
    },
    {
     "name": "stderr",
     "output_type": "stream",
     "text": [
      "2022-11-10 18:10:15,370 - test-demo-fixed-all-cate - INFO - new image has been created: ref_path: ./data/train_part/6/img_train_59915.png, init_path: ./data/train_part/6/img_train_59915.png, state: 0\n",
      "2022-11-10 18:10:15,371 - test-demo-fixed-all-cate - INFO - dict_keys(['rotate_zero', 'p_or_g']) has been chosen\n",
      "2022-11-10 18:10:15,373 - test-demo-fixed-all-cate - INFO - new image has been created: ref_path: ./test-demo-fixed-all-cate/saved/ref-3-1668075015.372561.png, init_path: ./data/train_part/6/img_train_59915.png, state: 1\n",
      "2022-11-10 18:10:15,374 - test-demo-fixed-all-cate - INFO - dict_keys(['FGSM', 'p_or_g']) has been chosen\n",
      "2022-11-10 18:10:15,530 - test-demo-fixed-all-cate - INFO - new image has been created: ref_path: ./data/train_part/6/img_train_59915.png, init_path: ./data/train_part/6/img_train_59915.png, state: 0\n",
      "2022-11-10 18:10:15,532 - test-demo-fixed-all-cate - INFO - dict_keys(['FGSM', 'p_or_g']) has been chosen\n"
     ]
    },
    {
     "name": "stdout",
     "output_type": "stream",
     "text": [
      "0.0053787610842661255\n",
      "0.009537936624184944\n"
     ]
    },
    {
     "name": "stderr",
     "output_type": "stream",
     "text": [
      "2022-11-10 18:10:15,700 - test-demo-fixed-all-cate - INFO - new image has been created: ref_path: ./data/train_part/4/img_train_39389.png, init_path: ./data/train_part/4/img_train_39389.png, state: 0\n",
      "2022-11-10 18:10:15,701 - test-demo-fixed-all-cate - INFO - dict_keys(['rotate_zero', 'p_or_g']) has been chosen\n",
      "2022-11-10 18:10:15,703 - test-demo-fixed-all-cate - INFO - new image has been created: ref_path: ./test-demo-fixed-all-cate/saved/ref-1-1668075015.7029939.png, init_path: ./data/train_part/4/img_train_39389.png, state: 1\n",
      "2022-11-10 18:10:15,704 - test-demo-fixed-all-cate - INFO - dict_keys(['rotate_zero', 'p_or_g']) has been chosen\n",
      "2022-11-10 18:10:15,706 - test-demo-fixed-all-cate - INFO - new image has been created: ref_path: ./test-demo-fixed-all-cate/saved/ref-2-1668075015.705861.png, init_path: ./data/train_part/4/img_train_39389.png, state: 1\n",
      "2022-11-10 18:10:15,707 - test-demo-fixed-all-cate - INFO - dict_keys(['FGSM', 'p_or_g']) has been chosen\n",
      "2022-11-10 18:10:15,861 - test-demo-fixed-all-cate - INFO - new image has been created: ref_path: ./data/train_part/4/img_train_39389.png, init_path: ./data/train_part/4/img_train_39389.png, state: 0\n",
      "2022-11-10 18:10:15,862 - test-demo-fixed-all-cate - INFO - dict_keys(['FGSM', 'p_or_g']) has been chosen\n"
     ]
    },
    {
     "name": "stdout",
     "output_type": "stream",
     "text": [
      "0.0073787679141735785\n",
      "0.005848699387477123\n"
     ]
    },
    {
     "name": "stderr",
     "output_type": "stream",
     "text": [
      "2022-11-10 18:10:16,029 - test-demo-fixed-all-cate - INFO - new image has been created: ref_path: ./data/train_part/4/img_train_39389.png, init_path: ./data/train_part/4/img_train_39389.png, state: 0\n",
      "2022-11-10 18:10:16,030 - test-demo-fixed-all-cate - INFO - dict_keys(['rotate_zero', 'p_or_g']) has been chosen\n",
      "2022-11-10 18:10:16,032 - test-demo-fixed-all-cate - INFO - new image has been created: ref_path: ./test-demo-fixed-all-cate/saved/ref-0-1668075016.031944.png, init_path: ./data/train_part/3/img_train_29813.png, state: 1\n",
      "2022-11-10 18:10:16,033 - test-demo-fixed-all-cate - INFO - dict_keys(['rotate_zero', 'p_or_g']) has been chosen\n",
      "2022-11-10 18:10:16,036 - test-demo-fixed-all-cate - INFO - new image has been created: ref_path: ./test-demo-fixed-all-cate/saved/ref-1-1668075016.036166.png, init_path: ./data/train_part/3/img_train_29813.png, state: 1\n",
      "2022-11-10 18:10:16,037 - test-demo-fixed-all-cate - INFO - dict_keys(['FGSM', 'p_or_g']) has been chosen\n",
      "2022-11-10 18:10:16,203 - test-demo-fixed-all-cate - INFO - new image has been created: ref_path: ./data/train_part/3/img_train_29813.png, init_path: ./data/train_part/3/img_train_29813.png, state: 0\n",
      "2022-11-10 18:10:16,204 - test-demo-fixed-all-cate - INFO - dict_keys(['rotate_zero', 'p_or_g']) has been chosen\n",
      "2022-11-10 18:10:16,206 - test-demo-fixed-all-cate - INFO - new image has been created: ref_path: ./test-demo-fixed-all-cate/saved/ref-3-1668075016.206012.png, init_path: ./data/train_part/3/img_train_29813.png, state: 1\n",
      "2022-11-10 18:10:16,207 - test-demo-fixed-all-cate - INFO - dict_keys(['FGSM', 'p_or_g']) has been chosen\n"
     ]
    },
    {
     "name": "stdout",
     "output_type": "stream",
     "text": [
      "0.009492732740021515\n",
      "0.005408762478029545\n"
     ]
    },
    {
     "name": "stderr",
     "output_type": "stream",
     "text": [
      "2022-11-10 18:10:16,365 - test-demo-fixed-all-cate - INFO - new image has been created: ref_path: ./data/train_part/3/img_train_29813.png, init_path: ./data/train_part/3/img_train_29813.png, state: 0\n",
      "2022-11-10 18:10:16,367 - test-demo-fixed-all-cate - INFO - dict_keys(['FGSM', 'p_or_g']) has been chosen\n"
     ]
    },
    {
     "name": "stdout",
     "output_type": "stream",
     "text": [
      "0.006226862087365051\n"
     ]
    },
    {
     "name": "stderr",
     "output_type": "stream",
     "text": [
      "2022-11-10 18:10:16,587 - test-demo-fixed-all-cate - INFO - new image has been created: ref_path: ./data/train_part/3/img_train_30098.png, init_path: ./data/train_part/3/img_train_30098.png, state: 0\n",
      "2022-11-10 18:10:16,588 - test-demo-fixed-all-cate - INFO - dict_keys(['rotate_zero', 'p_or_g']) has been chosen\n",
      "2022-11-10 18:10:16,590 - test-demo-fixed-all-cate - INFO - new image has been created: ref_path: ./test-demo-fixed-all-cate/saved/ref-1-1668075016.589631.png, init_path: ./data/train_part/3/img_train_30098.png, state: 1\n",
      "2022-11-10 18:10:16,590 - test-demo-fixed-all-cate - INFO - dict_keys(['rotate_zero', 'p_or_g']) has been chosen\n",
      "2022-11-10 18:10:16,592 - test-demo-fixed-all-cate - INFO - new image has been created: ref_path: ./test-demo-fixed-all-cate/saved/ref-2-1668075016.591972.png, init_path: ./data/train_part/3/img_train_30098.png, state: 1\n",
      "2022-11-10 18:10:16,593 - test-demo-fixed-all-cate - INFO - dict_keys(['rotate_zero', 'p_or_g']) has been chosen\n",
      "2022-11-10 18:10:16,595 - test-demo-fixed-all-cate - INFO - new image has been created: ref_path: ./test-demo-fixed-all-cate/saved/ref-3-1668075016.594767.png, init_path: ./data/train_part/3/img_train_30098.png, state: 1\n",
      "2022-11-10 18:10:16,596 - test-demo-fixed-all-cate - INFO - dict_keys(['FGSM', 'p_or_g']) has been chosen\n",
      "2022-11-10 18:10:16,773 - test-demo-fixed-all-cate - INFO - new image has been created: ref_path: ./data/train_part/3/img_train_30098.png, init_path: ./data/train_part/3/img_train_30098.png, state: 0\n",
      "2022-11-10 18:10:16,774 - test-demo-fixed-all-cate - INFO - dict_keys(['rotate_zero', 'p_or_g']) has been chosen\n",
      "2022-11-10 18:10:16,777 - test-demo-fixed-all-cate - INFO - new image has been created: ref_path: ./test-demo-fixed-all-cate/saved/ref-0-1668075016.776509.png, init_path: ./data/train_part/3/img_train_29929.png, state: 1\n",
      "2022-11-10 18:10:16,778 - test-demo-fixed-all-cate - INFO - dict_keys(['FGSM', 'p_or_g']) has been chosen\n"
     ]
    },
    {
     "name": "stdout",
     "output_type": "stream",
     "text": [
      "0.009009360985484743\n",
      "0.0074196747433188555\n"
     ]
    },
    {
     "name": "stderr",
     "output_type": "stream",
     "text": [
      "2022-11-10 18:10:16,954 - test-demo-fixed-all-cate - INFO - new image has been created: ref_path: ./data/train_part/3/img_train_29929.png, init_path: ./data/train_part/3/img_train_29929.png, state: 0\n",
      "2022-11-10 18:10:16,954 - test-demo-fixed-all-cate - INFO - dict_keys(['FGSM', 'p_or_g']) has been chosen\n",
      "2022-11-10 18:10:17,115 - test-demo-fixed-all-cate - INFO - new image has been created: ref_path: ./data/train_part/3/img_train_29929.png, init_path: ./data/train_part/3/img_train_29929.png, state: 0\n",
      "2022-11-10 18:10:17,116 - test-demo-fixed-all-cate - INFO - dict_keys(['FGSM', 'p_or_g']) has been chosen\n"
     ]
    },
    {
     "name": "stdout",
     "output_type": "stream",
     "text": [
      "0.006618739571410067\n",
      "0.008023888271660116\n"
     ]
    },
    {
     "name": "stderr",
     "output_type": "stream",
     "text": [
      "2022-11-10 18:10:17,299 - test-demo-fixed-all-cate - INFO - new image has been created: ref_path: ./data/train_part/3/img_train_29929.png, init_path: ./data/train_part/3/img_train_29929.png, state: 0\n",
      "2022-11-10 18:10:17,300 - test-demo-fixed-all-cate - INFO - dict_keys(['FGSM', 'p_or_g']) has been chosen\n",
      "2022-11-10 18:10:17,455 - test-demo-fixed-all-cate - INFO - new image has been created: ref_path: ./data/train_part/3/img_train_29929.png, init_path: ./data/train_part/3/img_train_29929.png, state: 0\n",
      "2022-11-10 18:10:17,456 - test-demo-fixed-all-cate - INFO - dict_keys(['rotate_zero', 'p_or_g']) has been chosen\n",
      "2022-11-10 18:10:17,458 - test-demo-fixed-all-cate - INFO - new image has been created: ref_path: ./test-demo-fixed-all-cate/saved/ref-0-1668075017.4578419.png, init_path: ./data/train_part/3/img_train_30243.png, state: 1\n",
      "2022-11-10 18:10:17,459 - test-demo-fixed-all-cate - INFO - dict_keys(['rotate_zero', 'p_or_g']) has been chosen\n",
      "2022-11-10 18:10:17,460 - test-demo-fixed-all-cate - INFO - new image has been created: ref_path: ./test-demo-fixed-all-cate/saved/ref-1-1668075017.460207.png, init_path: ./data/train_part/3/img_train_30243.png, state: 1\n",
      "2022-11-10 18:10:17,461 - test-demo-fixed-all-cate - INFO - dict_keys(['FGSM', 'p_or_g']) has been chosen\n"
     ]
    },
    {
     "name": "stdout",
     "output_type": "stream",
     "text": [
      "0.009552334607257074\n",
      "0.00740838442619154\n"
     ]
    },
    {
     "name": "stderr",
     "output_type": "stream",
     "text": [
      "2022-11-10 18:10:17,641 - test-demo-fixed-all-cate - INFO - new image has been created: ref_path: ./data/train_part/3/img_train_30243.png, init_path: ./data/train_part/3/img_train_30243.png, state: 0\n",
      "2022-11-10 18:10:17,642 - test-demo-fixed-all-cate - INFO - dict_keys(['rotate_zero', 'p_or_g']) has been chosen\n",
      "2022-11-10 18:10:17,646 - test-demo-fixed-all-cate - INFO - new image has been created: ref_path: ./test-demo-fixed-all-cate/saved/ref-3-1668075017.645143.png, init_path: ./data/train_part/3/img_train_30243.png, state: 1\n",
      "2022-11-10 18:10:17,647 - test-demo-fixed-all-cate - INFO - dict_keys(['rotate_zero', 'p_or_g']) has been chosen\n",
      "2022-11-10 18:10:17,650 - test-demo-fixed-all-cate - INFO - new image has been created: ref_path: ./test-demo-fixed-all-cate/saved/ref-4-1668075017.649875.png, init_path: ./data/train_part/3/img_train_30243.png, state: 1\n",
      "2022-11-10 18:10:17,653 - test-demo-fixed-all-cate - INFO - dict_keys(['FGSM', 'p_or_g']) has been chosen\n",
      "2022-11-10 18:10:17,832 - test-demo-fixed-all-cate - INFO - new image has been created: ref_path: ./data/train_part/2/img_train_20570.png, init_path: ./data/train_part/2/img_train_20570.png, state: 0\n",
      "2022-11-10 18:10:17,833 - test-demo-fixed-all-cate - INFO - dict_keys(['FGSM', 'p_or_g']) has been chosen\n"
     ]
    },
    {
     "name": "stdout",
     "output_type": "stream",
     "text": [
      "0.006152268889743549\n",
      "0.009788032151997014\n"
     ]
    },
    {
     "name": "stderr",
     "output_type": "stream",
     "text": [
      "2022-11-10 18:10:18,018 - test-demo-fixed-all-cate - INFO - new image has been created: ref_path: ./data/train_part/2/img_train_20570.png, init_path: ./data/train_part/2/img_train_20570.png, state: 0\n",
      "2022-11-10 18:10:18,019 - test-demo-fixed-all-cate - INFO - dict_keys(['FGSM', 'p_or_g']) has been chosen\n",
      "2022-11-10 18:10:18,198 - test-demo-fixed-all-cate - INFO - new image has been created: ref_path: ./data/train_part/2/img_train_20570.png, init_path: ./data/train_part/2/img_train_20570.png, state: 0\n",
      "2022-11-10 18:10:18,199 - test-demo-fixed-all-cate - INFO - dict_keys(['rotate_zero', 'p_or_g']) has been chosen\n",
      "2022-11-10 18:10:18,200 - test-demo-fixed-all-cate - INFO - new image has been created: ref_path: ./test-demo-fixed-all-cate/saved/ref-3-1668075018.200004.png, init_path: ./data/train_part/2/img_train_20570.png, state: 1\n",
      "2022-11-10 18:10:18,201 - test-demo-fixed-all-cate - INFO - dict_keys(['FGSM', 'p_or_g']) has been chosen\n"
     ]
    },
    {
     "name": "stdout",
     "output_type": "stream",
     "text": [
      "0.007128929606898317\n",
      "0.007842758315635863\n"
     ]
    },
    {
     "name": "stderr",
     "output_type": "stream",
     "text": [
      "2022-11-10 18:10:18,349 - test-demo-fixed-all-cate - INFO - new image has been created: ref_path: ./data/train_part/2/img_train_20570.png, init_path: ./data/train_part/2/img_train_20570.png, state: 0\n",
      "2022-11-10 18:10:18,351 - test-demo-fixed-all-cate - INFO - dict_keys(['rotate_zero', 'p_or_g']) has been chosen\n",
      "2022-11-10 18:10:18,353 - test-demo-fixed-all-cate - INFO - new image has been created: ref_path: ./test-demo-fixed-all-cate/saved/ref-0-1668075018.352593.png, init_path: ./data/train_part/2/img_train_20529.png, state: 1\n",
      "2022-11-10 18:10:18,354 - test-demo-fixed-all-cate - INFO - dict_keys(['FGSM', 'p_or_g']) has been chosen\n",
      "2022-11-10 18:10:18,496 - test-demo-fixed-all-cate - INFO - new image has been created: ref_path: ./data/train_part/2/img_train_20529.png, init_path: ./data/train_part/2/img_train_20529.png, state: 0\n",
      "2022-11-10 18:10:18,496 - test-demo-fixed-all-cate - INFO - dict_keys(['rotate_zero', 'p_or_g']) has been chosen\n",
      "2022-11-10 18:10:18,498 - test-demo-fixed-all-cate - INFO - new image has been created: ref_path: ./test-demo-fixed-all-cate/saved/ref-2-1668075018.4977422.png, init_path: ./data/train_part/2/img_train_20529.png, state: 1\n",
      "2022-11-10 18:10:18,499 - test-demo-fixed-all-cate - INFO - dict_keys(['FGSM', 'p_or_g']) has been chosen\n"
     ]
    },
    {
     "name": "stdout",
     "output_type": "stream",
     "text": [
      "0.006541029368176899\n",
      "0.009422557020467359\n"
     ]
    },
    {
     "name": "stderr",
     "output_type": "stream",
     "text": [
      "2022-11-10 18:10:18,641 - test-demo-fixed-all-cate - INFO - new image has been created: ref_path: ./data/train_part/2/img_train_20529.png, init_path: ./data/train_part/2/img_train_20529.png, state: 0\n",
      "2022-11-10 18:10:18,642 - test-demo-fixed-all-cate - INFO - dict_keys(['FGSM', 'p_or_g']) has been chosen\n",
      "2022-11-10 18:10:18,779 - test-demo-fixed-all-cate - INFO - new image has been created: ref_path: ./data/train_part/2/img_train_20529.png, init_path: ./data/train_part/2/img_train_20529.png, state: 0\n",
      "2022-11-10 18:10:18,780 - test-demo-fixed-all-cate - INFO - dict_keys(['FGSM', 'p_or_g']) has been chosen\n"
     ]
    },
    {
     "name": "stdout",
     "output_type": "stream",
     "text": [
      "0.008429925628643314\n",
      "0.0073870731498835935\n"
     ]
    },
    {
     "name": "stderr",
     "output_type": "stream",
     "text": [
      "2022-11-10 18:10:18,924 - test-demo-fixed-all-cate - INFO - new image has been created: ref_path: ./data/train_part/2/img_train_20122.png, init_path: ./data/train_part/2/img_train_20122.png, state: 0\n",
      "2022-11-10 18:10:18,925 - test-demo-fixed-all-cate - INFO - dict_keys(['rotate_zero', 'p_or_g']) has been chosen\n",
      "2022-11-10 18:10:18,926 - test-demo-fixed-all-cate - INFO - new image has been created: ref_path: ./test-demo-fixed-all-cate/saved/ref-1-1668075018.926192.png, init_path: ./data/train_part/2/img_train_20122.png, state: 1\n",
      "2022-11-10 18:10:18,927 - test-demo-fixed-all-cate - INFO - dict_keys(['rotate_zero', 'p_or_g']) has been chosen\n",
      "2022-11-10 18:10:18,929 - test-demo-fixed-all-cate - INFO - new image has been created: ref_path: ./test-demo-fixed-all-cate/saved/ref-2-1668075018.9287949.png, init_path: ./data/train_part/2/img_train_20122.png, state: 1\n",
      "2022-11-10 18:10:18,930 - test-demo-fixed-all-cate - INFO - dict_keys(['FGSM', 'p_or_g']) has been chosen\n",
      "2022-11-10 18:10:19,076 - test-demo-fixed-all-cate - INFO - new image has been created: ref_path: ./data/train_part/2/img_train_20122.png, init_path: ./data/train_part/2/img_train_20122.png, state: 0\n",
      "2022-11-10 18:10:19,077 - test-demo-fixed-all-cate - INFO - dict_keys(['rotate_zero', 'p_or_g']) has been chosen\n",
      "2022-11-10 18:10:19,079 - test-demo-fixed-all-cate - INFO - new image has been created: ref_path: ./test-demo-fixed-all-cate/saved/ref-4-1668075019.078442.png, init_path: ./data/train_part/2/img_train_20122.png, state: 1\n",
      "2022-11-10 18:10:19,080 - test-demo-fixed-all-cate - INFO - dict_keys(['rotate_zero', 'p_or_g']) has been chosen\n",
      "2022-11-10 18:10:19,082 - test-demo-fixed-all-cate - INFO - new image has been created: ref_path: ./test-demo-fixed-all-cate/saved/ref-0-1668075019.082017.png, init_path: ./data/train_part/2/img_train_20719.png, state: 1\n",
      "2022-11-10 18:10:19,083 - test-demo-fixed-all-cate - INFO - dict_keys(['rotate_zero', 'p_or_g']) has been chosen\n",
      "2022-11-10 18:10:19,086 - test-demo-fixed-all-cate - INFO - new image has been created: ref_path: ./test-demo-fixed-all-cate/saved/ref-1-1668075019.085811.png, init_path: ./data/train_part/2/img_train_20719.png, state: 1\n",
      "2022-11-10 18:10:19,087 - test-demo-fixed-all-cate - INFO - dict_keys(['FGSM', 'p_or_g']) has been chosen\n"
     ]
    },
    {
     "name": "stdout",
     "output_type": "stream",
     "text": [
      "0.00828897634052279\n",
      "0.009810478638534046\n"
     ]
    },
    {
     "name": "stderr",
     "output_type": "stream",
     "text": [
      "2022-11-10 18:10:19,236 - test-demo-fixed-all-cate - INFO - new image has been created: ref_path: ./data/train_part/2/img_train_20719.png, init_path: ./data/train_part/2/img_train_20719.png, state: 0\n",
      "2022-11-10 18:10:19,237 - test-demo-fixed-all-cate - INFO - dict_keys(['rotate_zero', 'p_or_g']) has been chosen\n",
      "2022-11-10 18:10:19,239 - test-demo-fixed-all-cate - INFO - new image has been created: ref_path: ./test-demo-fixed-all-cate/saved/ref-3-1668075019.238626.png, init_path: ./data/train_part/2/img_train_20719.png, state: 1\n",
      "2022-11-10 18:10:19,239 - test-demo-fixed-all-cate - INFO - dict_keys(['FGSM', 'p_or_g']) has been chosen\n",
      "2022-11-10 18:10:19,377 - test-demo-fixed-all-cate - INFO - new image has been created: ref_path: ./data/train_part/2/img_train_20719.png, init_path: ./data/train_part/2/img_train_20719.png, state: 0\n",
      "2022-11-10 18:10:19,378 - test-demo-fixed-all-cate - INFO - dict_keys(['rotate_zero', 'p_or_g']) has been chosen\n",
      "2022-11-10 18:10:19,379 - test-demo-fixed-all-cate - INFO - new image has been created: ref_path: ./test-demo-fixed-all-cate/saved/ref-0-1668075019.379344.png, init_path: ./data/train_part/2/img_train_20090.png, state: 1\n",
      "2022-11-10 18:10:19,380 - test-demo-fixed-all-cate - INFO - dict_keys(['rotate_zero', 'p_or_g']) has been chosen\n",
      "2022-11-10 18:10:19,382 - test-demo-fixed-all-cate - INFO - new image has been created: ref_path: ./test-demo-fixed-all-cate/saved/ref-1-1668075019.381439.png, init_path: ./data/train_part/2/img_train_20090.png, state: 1\n",
      "2022-11-10 18:10:19,383 - test-demo-fixed-all-cate - INFO - dict_keys(['FGSM', 'p_or_g']) has been chosen\n"
     ]
    },
    {
     "name": "stdout",
     "output_type": "stream",
     "text": [
      "0.005977434819404392\n",
      "0.007106302419112446\n"
     ]
    },
    {
     "name": "stderr",
     "output_type": "stream",
     "text": [
      "2022-11-10 18:10:19,532 - test-demo-fixed-all-cate - INFO - new image has been created: ref_path: ./data/train_part/2/img_train_20090.png, init_path: ./data/train_part/2/img_train_20090.png, state: 0\n",
      "2022-11-10 18:10:19,533 - test-demo-fixed-all-cate - INFO - dict_keys(['FGSM', 'p_or_g']) has been chosen\n",
      "2022-11-10 18:10:19,678 - test-demo-fixed-all-cate - INFO - new image has been created: ref_path: ./data/train_part/2/img_train_20090.png, init_path: ./data/train_part/2/img_train_20090.png, state: 0\n",
      "2022-11-10 18:10:19,678 - test-demo-fixed-all-cate - INFO - dict_keys(['rotate_zero', 'p_or_g']) has been chosen\n",
      "2022-11-10 18:10:19,680 - test-demo-fixed-all-cate - INFO - new image has been created: ref_path: ./test-demo-fixed-all-cate/saved/ref-4-1668075019.679927.png, init_path: ./data/train_part/2/img_train_20090.png, state: 1\n",
      "2022-11-10 18:10:19,681 - test-demo-fixed-all-cate - INFO - dict_keys(['FGSM', 'p_or_g']) has been chosen\n"
     ]
    },
    {
     "name": "stdout",
     "output_type": "stream",
     "text": [
      "0.006064972144431365\n",
      "0.008064827295239257\n"
     ]
    },
    {
     "name": "stderr",
     "output_type": "stream",
     "text": [
      "2022-11-10 18:10:19,823 - test-demo-fixed-all-cate - INFO - new image has been created: ref_path: ./data/train_part/2/img_train_20385.png, init_path: ./data/train_part/2/img_train_20385.png, state: 0\n",
      "2022-11-10 18:10:19,824 - test-demo-fixed-all-cate - INFO - dict_keys(['FGSM', 'p_or_g']) has been chosen\n",
      "2022-11-10 18:10:19,996 - test-demo-fixed-all-cate - INFO - new image has been created: ref_path: ./data/train_part/2/img_train_20385.png, init_path: ./data/train_part/2/img_train_20385.png, state: 0\n",
      "2022-11-10 18:10:19,997 - test-demo-fixed-all-cate - INFO - dict_keys(['rotate_zero', 'p_or_g']) has been chosen\n",
      "2022-11-10 18:10:19,999 - test-demo-fixed-all-cate - INFO - new image has been created: ref_path: ./test-demo-fixed-all-cate/saved/ref-2-1668075019.9983559.png, init_path: ./data/train_part/2/img_train_20385.png, state: 1\n",
      "2022-11-10 18:10:19,999 - test-demo-fixed-all-cate - INFO - dict_keys(['FGSM', 'p_or_g']) has been chosen\n"
     ]
    },
    {
     "name": "stdout",
     "output_type": "stream",
     "text": [
      "0.0074191962534717135\n",
      "0.007801045096421641\n"
     ]
    },
    {
     "name": "stderr",
     "output_type": "stream",
     "text": [
      "2022-11-10 18:10:20,155 - test-demo-fixed-all-cate - INFO - new image has been created: ref_path: ./data/train_part/2/img_train_20385.png, init_path: ./data/train_part/2/img_train_20385.png, state: 0\n",
      "2022-11-10 18:10:20,155 - test-demo-fixed-all-cate - INFO - dict_keys(['rotate_zero', 'p_or_g']) has been chosen\n",
      "2022-11-10 18:10:20,157 - test-demo-fixed-all-cate - INFO - new image has been created: ref_path: ./test-demo-fixed-all-cate/saved/ref-4-1668075020.1567922.png, init_path: ./data/train_part/2/img_train_20385.png, state: 1\n",
      "2022-11-10 18:10:20,158 - test-demo-fixed-all-cate - INFO - dict_keys(['FGSM', 'p_or_g']) has been chosen\n",
      "2022-11-10 18:10:20,308 - test-demo-fixed-all-cate - INFO - new image has been created: ref_path: ./data/train_part/2/img_train_20030.png, init_path: ./data/train_part/2/img_train_20030.png, state: 0\n",
      "2022-11-10 18:10:20,309 - test-demo-fixed-all-cate - INFO - dict_keys(['rotate_zero', 'p_or_g']) has been chosen\n",
      "2022-11-10 18:10:20,311 - test-demo-fixed-all-cate - INFO - new image has been created: ref_path: ./test-demo-fixed-all-cate/saved/ref-1-1668075020.3107042.png, init_path: ./data/train_part/2/img_train_20030.png, state: 1\n",
      "2022-11-10 18:10:20,312 - test-demo-fixed-all-cate - INFO - dict_keys(['rotate_zero', 'p_or_g']) has been chosen\n",
      "2022-11-10 18:10:20,313 - test-demo-fixed-all-cate - INFO - new image has been created: ref_path: ./test-demo-fixed-all-cate/saved/ref-2-1668075020.3134232.png, init_path: ./data/train_part/2/img_train_20030.png, state: 1\n",
      "2022-11-10 18:10:20,314 - test-demo-fixed-all-cate - INFO - dict_keys(['FGSM', 'p_or_g']) has been chosen\n"
     ]
    },
    {
     "name": "stdout",
     "output_type": "stream",
     "text": [
      "0.0052211769165930585\n",
      "0.007762744909548926\n"
     ]
    },
    {
     "name": "stderr",
     "output_type": "stream",
     "text": [
      "2022-11-10 18:10:20,462 - test-demo-fixed-all-cate - INFO - new image has been created: ref_path: ./data/train_part/2/img_train_20030.png, init_path: ./data/train_part/2/img_train_20030.png, state: 0\n",
      "2022-11-10 18:10:20,463 - test-demo-fixed-all-cate - INFO - dict_keys(['FGSM', 'p_or_g']) has been chosen\n",
      "2022-11-10 18:10:20,603 - test-demo-fixed-all-cate - INFO - new image has been created: ref_path: ./data/train_part/2/img_train_20030.png, init_path: ./data/train_part/2/img_train_20030.png, state: 0\n",
      "2022-11-10 18:10:20,604 - test-demo-fixed-all-cate - INFO - update seed info successfully, current p is 0.95\n",
      "2022-11-10 18:10:20,605 - test-demo-fixed-all-cate - INFO - update seed info successfully, current p is 0.95\n",
      "2022-11-10 18:10:20,606 - test-demo-fixed-all-cate - INFO - update seed info successfully, current p is 0.95\n",
      "2022-11-10 18:10:20,606 - test-demo-fixed-all-cate - INFO - update seed info successfully, current p is 0.95\n",
      "2022-11-10 18:10:20,607 - test-demo-fixed-all-cate - INFO - update seed info successfully, current p is 0.95\n",
      "2022-11-10 18:10:20,608 - test-demo-fixed-all-cate - INFO - update seed info successfully, current p is 0.9\n",
      "2022-11-10 18:10:20,608 - test-demo-fixed-all-cate - INFO - update seed info successfully, current p is 0.95\n",
      "2022-11-10 18:10:20,609 - test-demo-fixed-all-cate - INFO - update seed info successfully, current p is 0.95\n",
      "2022-11-10 18:10:20,610 - test-demo-fixed-all-cate - INFO - update seed info successfully, current p is 0.95\n",
      "2022-11-10 18:10:20,610 - test-demo-fixed-all-cate - INFO - update seed info successfully, current p is 0.95\n",
      "2022-11-10 18:10:20,611 - test-demo-fixed-all-cate - INFO - update seed info successfully, current p is 0.95\n",
      "2022-11-10 18:10:20,612 - test-demo-fixed-all-cate - INFO - update seed info successfully, current p is 0.95\n",
      "2022-11-10 18:10:20,613 - test-demo-fixed-all-cate - INFO - update seed info successfully, current p is 0.95\n",
      "2022-11-10 18:10:20,614 - test-demo-fixed-all-cate - INFO - update seed info successfully, current p is 0.95\n",
      "2022-11-10 18:10:20,614 - test-demo-fixed-all-cate - INFO - update seed info successfully, current p is 0.95\n",
      "2022-11-10 18:10:20,615 - test-demo-fixed-all-cate - INFO - update seed info successfully, current p is 0.95\n"
     ]
    },
    {
     "name": "stdout",
     "output_type": "stream",
     "text": [
      "0.006022168507254475\n"
     ]
    },
    {
     "name": "stderr",
     "output_type": "stream",
     "text": [
      "2022-11-10 18:10:20,889 - test-demo-fixed-all-cate - INFO - for test-demo-fixed-all-cate/fail_test/6/109.png: its label should be 6, but got 5, it would be stored in test-demo-fixed-all-cate/fail_test/6/109.png\n",
      "2022-11-10 18:10:20,892 - test-demo-fixed-all-cate - INFO - for test-demo-fixed-all-cate/fail_test/6/110.png: its label should be 6, but got 5, it would be stored in test-demo-fixed-all-cate/fail_test/6/110.png\n",
      "2022-11-10 18:10:21,639 - test-demo-fixed-all-cate - INFO - for test-demo-fixed-all-cate/fail_test/2/111.png: its label should be 2, but got 4, it would be stored in test-demo-fixed-all-cate/fail_test/2/111.png\n",
      "2022-11-10 18:10:21,640 - test-demo-fixed-all-cate - INFO - for test-demo-fixed-all-cate/fail_test/2/112.png: its label should be 2, but got 4, it would be stored in test-demo-fixed-all-cate/fail_test/2/112.png\n",
      "2022-11-10 18:10:21,797 - test-demo-fixed-all-cate - INFO - for test-demo-fixed-all-cate/fail_test/2/113.png: its label should be 2, but got 4, it would be stored in test-demo-fixed-all-cate/fail_test/2/113.png\n",
      "2022-11-10 18:10:21,800 - test-demo-fixed-all-cate - INFO - for test-demo-fixed-all-cate/fail_test/2/114.png: its label should be 2, but got 4, it would be stored in test-demo-fixed-all-cate/fail_test/2/114.png\n",
      "2022-11-10 18:10:21,802 - test-demo-fixed-all-cate - INFO - for test-demo-fixed-all-cate/fail_test/2/115.png: its label should be 2, but got 4, it would be stored in test-demo-fixed-all-cate/fail_test/2/115.png\n",
      "2022-11-10 18:10:32,744 - test-demo-fixed-all-cate - INFO - the new seed would be stored as test-demo-fixed-all-cate/saved/116.png\n",
      "2022-11-10 18:10:32,747 - test-demo-fixed-all-cate - INFO - add new seed successfully, current seed queue length: 1720, new path: test-demo-fixed-all-cate/saved/116.png, init path: ./data/train_part/6/img_train_62946.png, ref_path: ./test-demo-fixed-all-cate/saved/ref-1-1668075014.597829.png, label: 6, state: 1\n",
      "2022-11-10 18:10:32,749 - test-demo-fixed-all-cate - INFO - the new seed would be stored as test-demo-fixed-all-cate/saved/117.png\n",
      "2022-11-10 18:10:32,750 - test-demo-fixed-all-cate - INFO - add new seed successfully, current seed queue length: 1721, new path: test-demo-fixed-all-cate/saved/117.png, init path: ./data/train_part/6/img_train_62946.png, ref_path: ./test-demo-fixed-all-cate/saved/ref-2-1668075014.60153.png, label: 6, state: 1\n",
      "2022-11-10 18:10:32,752 - test-demo-fixed-all-cate - INFO - the new seed would be stored as test-demo-fixed-all-cate/saved/118.png\n",
      "2022-11-10 18:10:32,754 - test-demo-fixed-all-cate - INFO - add new seed successfully, current seed queue length: 1722, new path: test-demo-fixed-all-cate/saved/118.png, init path: ./data/train_part/6/img_train_62946.png, ref_path: ./test-demo-fixed-all-cate/saved/ref-3-1668075014.604784.png, label: 6, state: 1\n",
      "2022-11-10 18:10:32,756 - test-demo-fixed-all-cate - INFO - the new seed would be stored as test-demo-fixed-all-cate/saved/119.png\n",
      "2022-11-10 18:10:32,757 - test-demo-fixed-all-cate - INFO - add new seed successfully, current seed queue length: 1723, new path: test-demo-fixed-all-cate/saved/119.png, init path: ./data/train_part/6/img_train_62946.png, ref_path: ./test-demo-fixed-all-cate/saved/ref-4-1668075014.60869.png, label: 6, state: 1\n",
      "2022-11-10 18:10:32,759 - test-demo-fixed-all-cate - INFO - the new seed would be stored as test-demo-fixed-all-cate/saved/120.png\n",
      "2022-11-10 18:10:32,761 - test-demo-fixed-all-cate - INFO - add new seed successfully, current seed queue length: 1724, new path: test-demo-fixed-all-cate/saved/120.png, init path: ./data/train_part/4/img_train_39389.png, ref_path: ./test-demo-fixed-all-cate/saved/ref-1-1668075015.7029939.png, label: 4, state: 1\n",
      "2022-11-10 18:10:32,763 - test-demo-fixed-all-cate - INFO - the new seed would be stored as test-demo-fixed-all-cate/saved/121.png\n",
      "2022-11-10 18:10:32,764 - test-demo-fixed-all-cate - INFO - add new seed successfully, current seed queue length: 1725, new path: test-demo-fixed-all-cate/saved/121.png, init path: ./data/train_part/4/img_train_39389.png, ref_path: ./test-demo-fixed-all-cate/saved/ref-2-1668075015.705861.png, label: 4, state: 1\n",
      "2022-11-10 18:10:32,766 - test-demo-fixed-all-cate - INFO - the new seed would be stored as test-demo-fixed-all-cate/saved/122.png\n",
      "2022-11-10 18:10:32,768 - test-demo-fixed-all-cate - INFO - add new seed successfully, current seed queue length: 1726, new path: test-demo-fixed-all-cate/saved/122.png, init path: ./data/train_part/3/img_train_29813.png, ref_path: ./test-demo-fixed-all-cate/saved/ref-0-1668075016.031944.png, label: 3, state: 1\n",
      "2022-11-10 18:10:32,770 - test-demo-fixed-all-cate - INFO - the new seed would be stored as test-demo-fixed-all-cate/saved/123.png\n",
      "2022-11-10 18:10:32,772 - test-demo-fixed-all-cate - INFO - add new seed successfully, current seed queue length: 1727, new path: test-demo-fixed-all-cate/saved/123.png, init path: ./data/train_part/3/img_train_29813.png, ref_path: ./test-demo-fixed-all-cate/saved/ref-1-1668075016.036166.png, label: 3, state: 1\n",
      "2022-11-10 18:10:32,774 - test-demo-fixed-all-cate - INFO - the new seed would be stored as test-demo-fixed-all-cate/saved/124.png\n",
      "2022-11-10 18:10:32,775 - test-demo-fixed-all-cate - INFO - add new seed successfully, current seed queue length: 1728, new path: test-demo-fixed-all-cate/saved/124.png, init path: ./data/train_part/3/img_train_29813.png, ref_path: ./test-demo-fixed-all-cate/saved/ref-3-1668075016.206012.png, label: 3, state: 1\n",
      "2022-11-10 18:10:32,777 - test-demo-fixed-all-cate - INFO - the new seed would be stored as test-demo-fixed-all-cate/saved/125.png\n",
      "2022-11-10 18:10:32,779 - test-demo-fixed-all-cate - INFO - add new seed successfully, current seed queue length: 1729, new path: test-demo-fixed-all-cate/saved/125.png, init path: ./data/train_part/3/img_train_30243.png, ref_path: ./test-demo-fixed-all-cate/saved/ref-0-1668075017.4578419.png, label: 3, state: 1\n",
      "2022-11-10 18:10:32,781 - test-demo-fixed-all-cate - INFO - the new seed would be stored as test-demo-fixed-all-cate/saved/126.png\n",
      "2022-11-10 18:10:32,783 - test-demo-fixed-all-cate - INFO - add new seed successfully, current seed queue length: 1730, new path: test-demo-fixed-all-cate/saved/126.png, init path: ./data/train_part/3/img_train_30243.png, ref_path: ./test-demo-fixed-all-cate/saved/ref-1-1668075017.460207.png, label: 3, state: 1\n",
      "2022-11-10 18:10:32,785 - test-demo-fixed-all-cate - INFO - the new seed would be stored as test-demo-fixed-all-cate/saved/127.png\n",
      "2022-11-10 18:10:32,787 - test-demo-fixed-all-cate - INFO - add new seed successfully, current seed queue length: 1731, new path: test-demo-fixed-all-cate/saved/127.png, init path: ./data/train_part/3/img_train_30243.png, ref_path: ./test-demo-fixed-all-cate/saved/ref-3-1668075017.645143.png, label: 3, state: 1\n",
      "2022-11-10 18:10:32,790 - test-demo-fixed-all-cate - INFO - the new seed would be stored as test-demo-fixed-all-cate/saved/128.png\n",
      "2022-11-10 18:10:32,791 - test-demo-fixed-all-cate - INFO - add new seed successfully, current seed queue length: 1732, new path: test-demo-fixed-all-cate/saved/128.png, init path: ./data/train_part/3/img_train_30243.png, ref_path: ./test-demo-fixed-all-cate/saved/ref-4-1668075017.649875.png, label: 3, state: 1\n",
      "2022-11-10 18:10:32,794 - test-demo-fixed-all-cate - INFO - the new seed would be stored as test-demo-fixed-all-cate/saved/129.png\n",
      "2022-11-10 18:10:32,795 - test-demo-fixed-all-cate - INFO - add new seed successfully, current seed queue length: 1733, new path: test-demo-fixed-all-cate/saved/129.png, init path: ./data/train_part/2/img_train_20719.png, ref_path: ./test-demo-fixed-all-cate/saved/ref-0-1668075019.082017.png, label: 2, state: 1\n",
      "2022-11-10 18:10:32,797 - test-demo-fixed-all-cate - INFO - the new seed would be stored as test-demo-fixed-all-cate/saved/130.png\n",
      "2022-11-10 18:10:32,799 - test-demo-fixed-all-cate - INFO - add new seed successfully, current seed queue length: 1734, new path: test-demo-fixed-all-cate/saved/130.png, init path: ./data/train_part/2/img_train_20719.png, ref_path: ./test-demo-fixed-all-cate/saved/ref-1-1668075019.085811.png, label: 2, state: 1\n",
      "2022-11-10 18:10:32,801 - test-demo-fixed-all-cate - INFO - the new seed would be stored as test-demo-fixed-all-cate/saved/131.png\n",
      "2022-11-10 18:10:32,802 - test-demo-fixed-all-cate - INFO - add new seed successfully, current seed queue length: 1735, new path: test-demo-fixed-all-cate/saved/131.png, init path: ./data/train_part/2/img_train_20719.png, ref_path: ./test-demo-fixed-all-cate/saved/ref-3-1668075019.238626.png, label: 2, state: 1\n",
      "2022-11-10 18:10:32,805 - test-demo-fixed-all-cate - INFO - the new seed would be stored as test-demo-fixed-all-cate/saved/132.png\n",
      "2022-11-10 18:10:32,806 - test-demo-fixed-all-cate - INFO - add new seed successfully, current seed queue length: 1736, new path: test-demo-fixed-all-cate/saved/132.png, init path: ./data/train_part/2/img_train_20090.png, ref_path: ./test-demo-fixed-all-cate/saved/ref-0-1668075019.379344.png, label: 2, state: 1\n",
      "2022-11-10 18:10:32,809 - test-demo-fixed-all-cate - INFO - the new seed would be stored as test-demo-fixed-all-cate/saved/133.png\n",
      "2022-11-10 18:10:32,810 - test-demo-fixed-all-cate - INFO - add new seed successfully, current seed queue length: 1737, new path: test-demo-fixed-all-cate/saved/133.png, init path: ./data/train_part/2/img_train_20090.png, ref_path: ./test-demo-fixed-all-cate/saved/ref-1-1668075019.381439.png, label: 2, state: 1\n",
      "2022-11-10 18:10:32,812 - test-demo-fixed-all-cate - INFO - the new seed would be stored as test-demo-fixed-all-cate/saved/134.png\n",
      "2022-11-10 18:10:32,814 - test-demo-fixed-all-cate - INFO - add new seed successfully, current seed queue length: 1738, new path: test-demo-fixed-all-cate/saved/134.png, init path: ./data/train_part/2/img_train_20090.png, ref_path: ./test-demo-fixed-all-cate/saved/ref-4-1668075019.679927.png, label: 2, state: 1\n",
      "2022-11-10 18:10:32,817 - test-demo-fixed-all-cate - INFO - the new seed would be stored as test-demo-fixed-all-cate/saved/135.png\n",
      "2022-11-10 18:10:32,818 - test-demo-fixed-all-cate - INFO - add new seed successfully, current seed queue length: 1739, new path: test-demo-fixed-all-cate/saved/135.png, init path: ./data/train_part/2/img_train_20385.png, ref_path: ./data/train_part/2/img_train_20385.png, label: 2, state: 0\n",
      "2022-11-10 18:10:32,820 - test-demo-fixed-all-cate - INFO - the new seed would be stored as test-demo-fixed-all-cate/saved/136.png\n",
      "2022-11-10 18:10:32,822 - test-demo-fixed-all-cate - INFO - add new seed successfully, current seed queue length: 1740, new path: test-demo-fixed-all-cate/saved/136.png, init path: ./data/train_part/2/img_train_20030.png, ref_path: ./test-demo-fixed-all-cate/saved/ref-1-1668075020.3107042.png, label: 2, state: 1\n",
      "2022-11-10 18:10:32,824 - test-demo-fixed-all-cate - INFO - the new seed would be stored as test-demo-fixed-all-cate/saved/137.png\n",
      "2022-11-10 18:10:32,825 - test-demo-fixed-all-cate - INFO - add new seed successfully, current seed queue length: 1741, new path: test-demo-fixed-all-cate/saved/137.png, init path: ./data/train_part/2/img_train_20030.png, ref_path: ./test-demo-fixed-all-cate/saved/ref-2-1668075020.3134232.png, label: 2, state: 1\n"
     ]
    }
   ],
   "source": [
    "# the file store the parameters\n",
    "yaml_path = 'hyps/hyps_v16_tt.yaml'\n",
    "# decode the parameter file\n",
    "meta_params, criteria_params = decode_yaml(yaml_path)\n",
    "# init DeepHunter\n",
    "deephunter = DeepHuner(img_dir='./data/train_part',\n",
    "                           output_dir='./useless',\n",
    "                           model_path='./models/v16/tsr_classifier_model.h5',\n",
    "                           criteria=['NC'],\n",
    "                           criteria_params=criteria_params,\n",
    "                           p_min=0.7,\n",
    "                           r=20,\n",
    "                           k_times=5,\n",
    "                           try_num=30,\n",
    "                           max_iter=5,\n",
    "                           alpha=0.8,\n",
    "                           beta=0.8,\n",
    "                           batch_size=16,\n",
    "                           meta_params=meta_params,\n",
    "                           project='test-demo-fixed-all-cate'\n",
    "                           )\n",
    "# run\n",
    "deephunter.run()"
   ],
   "metadata": {
    "collapsed": false,
    "pycharm": {
     "name": "#%%\n"
    }
   }
  },
  {
   "cell_type": "code",
   "execution_count": 3,
   "outputs": [
    {
     "name": "stdout",
     "output_type": "stream",
     "text": [
      "['attack_total:400,attack_success:17,ASR:0.0425']\n"
     ]
    }
   ],
   "source": [
    "with open('./test-demo-fixed-all-cate/attack_success_rate.txt', 'r') as f:\n",
    "    ss = f.readlines()\n",
    "f.close()\n",
    "print(ss)"
   ],
   "metadata": {
    "collapsed": false,
    "pycharm": {
     "name": "#%%\n"
    }
   }
  },
  {
   "cell_type": "code",
   "execution_count": null,
   "outputs": [],
   "source": [],
   "metadata": {
    "collapsed": false,
    "pycharm": {
     "name": "#%%\n"
    }
   }
  }
 ],
 "metadata": {
  "kernelspec": {
   "display_name": "Python 3",
   "language": "python",
   "name": "python3"
  },
  "language_info": {
   "codemirror_mode": {
    "name": "ipython",
    "version": 2
   },
   "file_extension": ".py",
   "mimetype": "text/x-python",
   "name": "python",
   "nbconvert_exporter": "python",
   "pygments_lexer": "ipython2",
   "version": "2.7.6"
  }
 },
 "nbformat": 4,
 "nbformat_minor": 0
}