{
 "cells": [
  {
   "cell_type": "markdown",
   "metadata": {},
   "source": [
    "# Tutorial: Data Distribution User Guide\n",
    "\n",
    "AI model is trained/validated/tested by feeding data, so dataset quality is very important to train a good AI model. `Data Distribution` is one of the aspects of the dataset quality and it reflects the data coverage of the dataset, and it is representative of the real world. \n",
    "\n",
    "In this tutorial, we use Traffic Sign Recognition(TSR) dataset as an example to demo how to visilize the data distribution of the dataset which was imported into ProSafeAI Evaluation Tool in the last step([Data management](2.1.data_management.ipynb)).\n",
    "\n"
   ]
  },
  {
   "cell_type": "markdown",
   "metadata": {},
   "source": [
    "## 1.Prerequisites\n",
    "\n",
    "* You have already imported the metadata of of your dataset accoding to the guiance of [Data management](2.1.data_management.ipynb)."
   ]
  },
  {
   "cell_type": "markdown",
   "metadata": {},
   "source": [
    "# 2.Visualization\n",
    "\n",
    "We can click `Data Distribution` on the left menu to navigate to the page below, and then, we can click `Visualization` button of the dataset:\n",
    "![data distribution](./media/data_distribution.png)\n",
    "\n",
    "And we will be redirected to page as below:\n",
    "![Data Display Chart](./media/data_display_chart.png)\n",
    "\n",
    "Now, we can fill the fields of the form in the web page and see how the dataset distribution looks like. For example, in this TSR dataset, we wants to see how the `samples` are distributed among different `Fog_intensity`(one of the ODD dimentition of the TSR user case) for the `version 4` of the dataset, then, we fill the form as below and click `Commit`, we will get the data distribution as below:\n",
    "![Data Display Chart for TSR](./media/data_display_chart_TSR.png)\n",
    "\n",
    "As you can see, we totally have 49778 samples with `no fog`, 18903 samples with `fog severity 1`, and we can get the `Histogram` on the left side & `Pie char` on the right side.\n",
    "\n",
    "We can also compare multiple ODD dimentions a among multiple version at the same time, for example:\n",
    "![Data Display Chart for TSR for multiple ODD dimentions a among multiple version](./media/data_display_chart_TSR_n.png)\n"
   ]
  },
  {
   "cell_type": "markdown",
   "metadata": {},
   "source": [
    "Now we know how we can visilize the data distritution of a specific dataset. Next, you can do some [Data Verification](2.3.data_verification.ipynb) based on data requirements of your user case."
   ]
  }
 ],
 "metadata": {
  "kernelspec": {
   "display_name": "Python 3",
   "language": "python",
   "name": "python3"
  },
  "language_info": {
   "codemirror_mode": {
    "name": "ipython",
    "version": 2
   },
   "file_extension": ".py",
   "mimetype": "text/x-python",
   "name": "python",
   "nbconvert_exporter": "python",
   "pygments_lexer": "ipython2",
   "version": "2.7.6"
  }
 },
 "nbformat": 4,
 "nbformat_minor": 0
}
