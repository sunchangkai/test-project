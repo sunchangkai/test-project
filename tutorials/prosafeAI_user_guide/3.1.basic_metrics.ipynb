{
 "cells": [
  {
   "cell_type": "markdown",
   "metadata": {},
   "source": [
    "# Tutorial: Basic Metrics Test User Guide\n",
    "\n",
    "For any AI model, accuracy metrics are very important for both AI development team and the customers who will use this AI model because these metrics are related to the safety and user expierence in the end. Basic metrics test in ProSafeAI Evaluation Tool is focusing on accuracy metrics right now for any AI model developed in-house or provided by supplier.\n",
    "\n",
    "Supported AI task type & metrics:\n",
    "\n",
    "| AI task type | Supported metrics | Status |\n",
    "| :-----: | :----: | :----: |\n",
    "| Image classfication | accuracy, precision, recall, f1-score | done |\n",
    "| Object Detection | precision, recall, f1-score , mAP| done |\n",
    "| Image Segmentation | (tbc) | in plan |\n",
    "\n",
    "In this tutorial, we will guide you how to do the basic metrics test step by step based on Traffic Sign Recognition(TSR) and Pedestrian and Vehicle Detection(PVD) user cases."
   ]
  },
  {
   "cell_type": "markdown",
   "metadata": {},
   "source": [
    "## 1.Prerequisites\n",
    "* You have already imported the metadata of of your dataset accoding to the guiance of [Data management](2.1.data_management.ipynb).\n",
    "* You have trained the AI model and stored in Azure Machine Lerning(AML) workspace's model registry or in your local environment."
   ]
  },
  {
   "cell_type": "markdown",
   "metadata": {},
   "source": [
    "## 2. Testing steps\n"
   ]
  },
  {
   "cell_type": "markdown",
   "metadata": {},
   "source": [
    "### 2.1. Create Task\n",
    "Follow the steps(`Basic Metrics Test` -> `New Task` -> `Create`) to create the basic metrics test task as the screenshot below:\n",
    "![basic_metrics_create_task](./media/basic_metrics_create_task.png)\n",
    "\n",
    "Now, you can see how the basic inforamtion of the created task by clicking the button below:\n",
    "![basic_metrics_2](./media/basic_metrics_2.png)\n",
    "\n",
    "Here is an example of how the task information looks like:\n",
    "\n",
    "![basic_metrics_3](./media/basic_metrics_3.png)"
   ]
  },
  {
   "cell_type": "markdown",
   "metadata": {},
   "source": [
    "### 2.2. Develop basic metrics testing script(Python) by integrating ProSafeAI SDK\n",
    "Now, you can click the button below to get the sample code about how to develop basic metrics testing script(Python) by integrating ProSafeAI SDK:\n",
    "![basic_metrics_5](./media/basic_metrics_5.png)\n",
    "\n",
    "And here is an example of how the sample code looks like:\n",
    "![basic_metrics_4](./media/basic_metrics_4.png)\n",
    "\n",
    "Now, please kindly follow the sample code guidance to develop basic metrics testing script(Python) by integrating ProSafeAI SDK. Here is an real example:"
   ]
  },
  {
   "cell_type": "code",
   "execution_count": null,
   "metadata": {},
   "outputs": [],
   "source": [
    "## @Changkai, please help to prepare a python script here for the basic metrics test. you can turn to Liu Liping to get some help."
   ]
  },
  {
   "cell_type": "markdown",
   "metadata": {},
   "source": [
    "### 2.3. Check testing result online\n",
    "Once the basic metrics testing script(Python) is ready and it's run correctly, the inference result will be synced into ProSafeAI backend. And then, button below will be `clickable`.\n",
    "![basic_metrics_6](./media/basic_metrics_6.png)\n",
    "\n",
    "Once you click the button,you can find all of the running history for the testing task。\n",
    "![basic_metrics_7](./media/basic_metrics_7.png)\n",
    "\n",
    "Now you can click \"report\" button to download the testing report as below:\n",
    "\n",
    "![basic_metrics_8](./media/basic_metrics_8.png)\n",
    "\n",
    "Or you can click `eye` button below to see the testing result online:\n",
    "![basic_metrics_10](./media/basic_metrics_10.png)\n",
    "\n",
    "Here is an example of the online testing report:\n",
    "![basic_metrics_9](./media/basic_metrics_9.png)\n",
    "\n",
    "And we can also support basic metrics on different slices:\n",
    "![basic_metrics_11](./media/basic_metrics_11.png)"
   ]
  }
 ],
 "metadata": {
  "kernelspec": {
   "display_name": "Python 3",
   "language": "python",
   "name": "python3"
  },
  "language_info": {
   "codemirror_mode": {
    "name": "ipython",
    "version": 2
   },
   "file_extension": ".py",
   "mimetype": "text/x-python",
   "name": "python",
   "nbconvert_exporter": "python",
   "pygments_lexer": "ipython2",
   "version": "2.7.6"
  }
 },
 "nbformat": 4,
 "nbformat_minor": 0
}
